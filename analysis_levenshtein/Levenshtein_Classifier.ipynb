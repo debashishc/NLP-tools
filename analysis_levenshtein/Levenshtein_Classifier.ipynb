{
 "cells": [
  {
   "cell_type": "code",
   "execution_count": 1,
   "metadata": {},
   "outputs": [],
   "source": [
    "from sklearn.model_selection import train_test_split\n",
    "\n",
    "import os\n",
    "import pandas as pd\n",
    "\n",
    "# classifiers\n",
    "from sklearn.naive_bayes import GaussianNB\n",
    "from sklearn.ensemble import RandomForestClassifier\n",
    "\n",
    "import sys\n",
    "sys.path.insert(0, '../')\n",
    "\n",
    "from TextLabeller import *\n",
    "\n",
    "%matplotlib inline"
   ]
  },
  {
   "cell_type": "code",
   "execution_count": 2,
   "metadata": {},
   "outputs": [],
   "source": [
    "import numpy as np\n",
    "\n",
    "\n",
    "def plot_confusion_matrix(cm,\n",
    "                          target_names,\n",
    "                          title='Confusion matrix',\n",
    "                          cmap=None,\n",
    "                          normalize=True):\n",
    "    \"\"\"\n",
    "    given a sklearn confusion matrix (cm), make a nice plot\n",
    "\n",
    "    Arguments\n",
    "    ---------\n",
    "    cm:           confusion matrix from sklearn.metrics.confusion_matrix\n",
    "\n",
    "    target_names: given classification classes such as [0, 1, 2]\n",
    "                  the class names, for example: ['high', 'medium', 'low']\n",
    "\n",
    "    title:        the text to display at the top of the matrix\n",
    "\n",
    "    cmap:         the gradient of the values displayed from matplotlib.pyplot.cm\n",
    "                  see http://matplotlib.org/examples/color/colormaps_reference.html\n",
    "                  plt.get_cmap('jet') or plt.cm.Blues\n",
    "\n",
    "    normalize:    If False, plot the raw numbers\n",
    "                  If True, plot the proportions\n",
    "\n",
    "    Usage\n",
    "    -----\n",
    "    plot_confusion_matrix(cm           = cm,                  # confusion matrix created by\n",
    "                                                              # sklearn.metrics.confusion_matrix\n",
    "                          normalize    = True,                # show proportions\n",
    "                          target_names = y_labels_vals,       # list of names of the classes\n",
    "                          title        = best_estimator_name) # title of graph\n",
    "\n",
    "    Citiation\n",
    "    ---------\n",
    "    http://scikit-learn.org/stable/auto_examples/model_selection/plot_confusion_matrix.html\n",
    "\n",
    "    \"\"\"\n",
    "    import matplotlib.pyplot as plt\n",
    "    import numpy as np\n",
    "    import itertools\n",
    "\n",
    "    accuracy = np.trace(cm) / float(np.sum(cm))\n",
    "    misclass = 1 - accuracy\n",
    "\n",
    "    if cmap is None:\n",
    "        cmap = plt.get_cmap('Blues')\n",
    "\n",
    "    plt.figure(figsize=(8, 6))\n",
    "    plt.imshow(cm, interpolation='nearest', cmap=cmap)\n",
    "    plt.title(title)\n",
    "    plt.colorbar()\n",
    "\n",
    "    if target_names is not None:\n",
    "        tick_marks = np.arange(len(target_names))\n",
    "        plt.xticks(tick_marks, target_names, rotation=45)\n",
    "        plt.yticks(tick_marks, target_names)\n",
    "\n",
    "    if normalize:\n",
    "        cm = cm.astype('float') / cm.sum(axis=1)[:, np.newaxis]\n",
    "\n",
    "\n",
    "    thresh = cm.max() / 1.5 if normalize else cm.max() / 2\n",
    "    for i, j in itertools.product(range(cm.shape[0]), range(cm.shape[1])):\n",
    "        if normalize:\n",
    "            plt.text(j, i, \"{:0.4f}\".format(cm[i, j]),\n",
    "                     horizontalalignment=\"center\",\n",
    "                     color=\"white\" if cm[i, j] > thresh else \"black\")\n",
    "        else:\n",
    "            plt.text(j, i, \"{:,}\".format(cm[i, j]),\n",
    "                     horizontalalignment=\"center\",\n",
    "                     color=\"white\" if cm[i, j] > thresh else \"black\")\n",
    "\n",
    "\n",
    "    plt.tight_layout()\n",
    "    plt.ylabel('True label')\n",
    "    plt.xlabel('Predicted label\\naccuracy={:0.4f}; misclass={:0.4f}'.format(accuracy, misclass))\n",
    "    plt.show()"
   ]
  },
  {
   "cell_type": "code",
   "execution_count": 3,
   "metadata": {},
   "outputs": [],
   "source": [
    "METRIC = \"levenshtein\"\n",
    "\n",
    "labelled_real=f'{METRIC}_labelled_real_text.csv'\n",
    "labelled_fake=f'{METRIC}_labelled_fake_text.csv'\n",
    "\n",
    "# file_dir = os.path.dirname(os.path.realpath('__file__'))\n",
    "# filename = os.path.join(file_dir, filepath)\n",
    "# filename = os.path.abspath(os.path.realpath(filename))\n",
    "\n",
    "real_data = pd.read_csv(labelled_real)\n",
    "fake_data = pd.read_csv(labelled_fake)\n",
    "\n",
    "combined_data = real_data.append(fake_data)\n",
    "\n",
    "y = combined_data['label'].values"
   ]
  },
  {
   "cell_type": "markdown",
   "metadata": {},
   "source": [
    "## Classify using both novelty and diversity"
   ]
  },
  {
   "cell_type": "code",
   "execution_count": 8,
   "metadata": {},
   "outputs": [
    {
     "name": "stdout",
     "output_type": "stream",
     "text": [
      "input dimensions: 21840 | output dimensions: 21840\n",
      "x_train dimensions: 17472 | y_train dimensions: 17472\n",
      "x_test dimensions: 4368 | y_test dimensions: 4368\n",
      "             precision    recall  f1-score   support\n",
      "\n",
      "          0       0.99      1.00      0.99      2214\n",
      "          1       0.99      0.99      0.99      2154\n",
      "\n",
      "avg / total       0.99      0.99      0.99      4368\n",
      "\n",
      "0.9913003663003663\n",
      "[[2203   11]\n",
      " [  27 2127]]\n"
     ]
    },
    {
     "data": {
      "image/png": "[encoded data removed]",
      "text/plain": [
       "<matplotlib.figure.Figure at 0x1a1058a400>"
      ]
     },
     "metadata": {},
     "output_type": "display_data"
    }
   ],
   "source": [
    "novs = combined_data['novelty'].values\n",
    "divs = combined_data['diversity'].values\n",
    "\n",
    "x = list()\n",
    "for ix, nov in enumerate(novs):\n",
    "    x.append([nov, divs[ix]])\n",
    "\n",
    "x_train, test, train_labels, test_labels = train_test_split(x, y, test_size = 0.2)\n",
    "\n",
    "print('input dimensions:', len(x), '|', 'output dimensions:', len(y))\n",
    "print('x_train dimensions:', len(x_train), '|', 'y_train dimensions:', len(train_labels))\n",
    "print('x_test dimensions:', len(test), '|', 'y_test dimensions:', len(test_labels)) \n",
    "\n",
    "# Initialize classifier\n",
    "rfc = RandomForestClassifier()\n",
    "\n",
    "# Train classifier\n",
    "model = rfc.fit(x_train, train_labels)\n",
    "\n",
    "# Make predictions\n",
    "y_preds = rfc.predict(test)\n",
    "\n",
    "# Evaluate model\n",
    "from sklearn.metrics import classification_report, accuracy_score\n",
    "print(classification_report(test_labels, y_preds))\n",
    "print(accuracy_score(test_labels, y_preds))\n",
    "\n",
    "from sklearn.metrics import confusion_matrix\n",
    "print(confusion_matrix(test_labels, y_preds))\n",
    "\n",
    "\n",
    "plot_confusion_matrix(cm           = confusion_matrix(test_labels, y_preds),                  # confusion matrix created by\n",
    "                                                          # sklearn.metrics.confusion_matrix\n",
    "                      normalize    = True,                # show proportions\n",
    "                      target_names = [0, 1],       # list of names of the classes\n",
    "                      title        = 'Prediction of real and fake text') # title of graph"
   ]
  },
  {
   "cell_type": "markdown",
   "metadata": {},
   "source": [
    "## Classify using only novelty"
   ]
  },
  {
   "cell_type": "code",
   "execution_count": 9,
   "metadata": {},
   "outputs": [
    {
     "name": "stdout",
     "output_type": "stream",
     "text": [
      "input dimensions: 21840 | output dimensions: 21840\n",
      "x_train dimensions: 17472 | y_train dimensions: 17472\n",
      "x_test dimensions: 4368 | y_test dimensions: 4368\n",
      "             precision    recall  f1-score   support\n",
      "\n",
      "          0       0.98      0.98      0.98      2232\n",
      "          1       0.98      0.98      0.98      2136\n",
      "\n",
      "avg / total       0.98      0.98      0.98      4368\n",
      "\n",
      "0.9793956043956044\n",
      "[[2195   37]\n",
      " [  53 2083]]\n"
     ]
    },
    {
     "data": {
      "image/png": "[encoded data removed]",
      "text/plain": [
       "<matplotlib.figure.Figure at 0x1a1058a198>"
      ]
     },
     "metadata": {},
     "output_type": "display_data"
    }
   ],
   "source": [
    "novs = combined_data['novelty'].values\n",
    "\n",
    "x = []\n",
    "for ix, nov in enumerate(novs):\n",
    "    x.append([nov])\n",
    "\n",
    "x_train, test, train_labels, test_labels = train_test_split(x, y, test_size = 0.2)\n",
    "\n",
    "print('input dimensions:', len(x), '|', 'output dimensions:', len(y))\n",
    "print('x_train dimensions:', len(x_train), '|', 'y_train dimensions:', len(train_labels))\n",
    "print('x_test dimensions:', len(test), '|', 'y_test dimensions:', len(test_labels)) \n",
    "\n",
    "# Initialize classifier\n",
    "rfc = RandomForestClassifier()\n",
    "\n",
    "# Train classifier\n",
    "model = rfc.fit(x_train, train_labels)\n",
    "\n",
    "# Make predictions\n",
    "preds = rfc.predict(test)\n",
    "\n",
    "# Evaluate model\n",
    "from sklearn.metrics import classification_report, accuracy_score\n",
    "print(classification_report(test_labels, preds))\n",
    "print(accuracy_score(test_labels, preds))\n",
    "\n",
    "from sklearn.metrics import confusion_matrix\n",
    "print(confusion_matrix(test_labels, preds))\n",
    "\n",
    "\n",
    "plot_confusion_matrix(cm           = confusion_matrix(test_labels, y_preds),                  # confusion matrix created by\n",
    "                                                          # sklearn.metrics.confusion_matrix\n",
    "                      normalize    = True,                # show proportions\n",
    "                      target_names = [0, 1],       # list of names of the classes\n",
    "                      title        = 'Prediction of real and fake text') # title of graph"
   ]
  },
  {
   "cell_type": "markdown",
   "metadata": {},
   "source": [
    "## Classify using only diversity"
   ]
  },
  {
   "cell_type": "code",
   "execution_count": 10,
   "metadata": {},
   "outputs": [
    {
     "name": "stdout",
     "output_type": "stream",
     "text": [
      "input dimensions: 21840 | output dimensions: 21840\n",
      "x_train dimensions: 17472 | y_train dimensions: 17472\n",
      "x_test dimensions: 4368 | y_test dimensions: 4368\n",
      "             precision    recall  f1-score   support\n",
      "\n",
      "          0       0.99      0.99      0.99      2208\n",
      "          1       0.99      0.99      0.99      2160\n",
      "\n",
      "avg / total       0.99      0.99      0.99      4368\n",
      "\n",
      "0.9915293040293041\n",
      "[[2189   19]\n",
      " [  18 2142]]\n"
     ]
    }
   ],
   "source": [
    "divs = combined_data['diversity'].values\n",
    "\n",
    "x = []\n",
    "for ix, div in enumerate(divs):\n",
    "    x.append([div])\n",
    "\n",
    "x_train, test, train_labels, test_labels = train_test_split(x, y, test_size = 0.2)\n",
    "\n",
    "print('input dimensions:', len(x), '|', 'output dimensions:', len(y))\n",
    "print('x_train dimensions:', len(x_train), '|', 'y_train dimensions:', len(train_labels))\n",
    "print('x_test dimensions:', len(test), '|', 'y_test dimensions:', len(test_labels)) \n",
    "\n",
    "# Initialize classifier\n",
    "rfc = RandomForestClassifier()\n",
    "\n",
    "# Train classifier\n",
    "model = rfc.fit(x_train, train_labels)\n",
    "\n",
    "# Make predictions\n",
    "preds = rfc.predict(test)\n",
    "\n",
    "# Evaluate model\n",
    "from sklearn.metrics import classification_report, accuracy_score\n",
    "print(classification_report(test_labels, preds))\n",
    "print(accuracy_score(test_labels, preds))\n",
    "\n",
    "from sklearn.metrics import confusion_matrix\n",
    "print(confusion_matrix(test_labels, preds))"
   ]
  },
  {
   "cell_type": "markdown",
   "metadata": {},
   "source": [
    "## Classify with both novelty and diversity: test with unseen data (TBD)"
   ]
  },
  {
   "cell_type": "code",
   "execution_count": 7,
   "metadata": {},
   "outputs": [
    {
     "name": "stdout",
     "output_type": "stream",
     "text": [
      "input dimensions: 21840 | output dimensions: 21840\n",
      "x_train dimensions: 19656 | y_train dimensions: 19656\n",
      "x_test dimensions: 2184 | y_test dimensions: 2184\n",
      "             precision    recall  f1-score   support\n",
      "\n",
      "          0       0.98      1.00      0.99      1112\n",
      "          1       1.00      0.98      0.99      1072\n",
      "\n",
      "avg / total       0.99      0.99      0.99      2184\n",
      "\n",
      "0.9908424908424909\n"
     ]
    }
   ],
   "source": [
    "novs = combined_data['novelty'].values\n",
    "divs = combined_data['diversity'].values\n",
    "\n",
    "x = list()\n",
    "for ix, nov in enumerate(novs):\n",
    "    x.append([nov, divs[ix]])\n",
    "    \n",
    "# unlabelled_real='unlabelled_real_text.csv' # not really unlabelled, just missing novelty and diversity\n",
    "# unlabelled_fake='unlabelled_fake_text.csv' # same here\n",
    "\n",
    "# _real_data = pd.read_csv(unlabelled_real)\n",
    "# _fake_data = pd.read_csv(unlabelled_real)\n",
    "\n",
    "# _combined_data = _real_data.append(_fake_data)\n",
    "\n",
    "# x_train, test, train_labels, test_labels = x,  , y, _combined_data['label'].values\n",
    "\n",
    "x_train, test, train_labels, test_labels = train_test_split(x, y, test_size = 0.10)\n",
    "\n",
    "print('input dimensions:', len(x), '|', 'output dimensions:', len(y))\n",
    "print('x_train dimensions:', len(x_train), '|', 'y_train dimensions:', len(train_labels))\n",
    "print('x_test dimensions:', len(test), '|', 'y_test dimensions:', len(test_labels)) \n",
    "\n",
    "# Initialize classifier\n",
    "rfc = RandomForestClassifier()\n",
    "\n",
    "# Train classifier\n",
    "model = rfc.fit(x_train, train_labels)\n",
    "\n",
    "# Make predictions\n",
    "preds = rfc.predict(test)\n",
    "\n",
    "# Evaluate model\n",
    "from sklearn.metrics import classification_report, accuracy_score\n",
    "print(classification_report(test_labels, preds))\n",
    "print(accuracy_score(test_labels, preds))"
   ]
  },
  {
   "cell_type": "code",
   "execution_count": null,
   "metadata": {},
   "outputs": [],
   "source": []
  }
 ],
 "metadata": {
  "kernelspec": {
   "display_name": "Python 3",
   "language": "python",
   "name": "python3"
  },
  "language_info": {
   "codemirror_mode": {
    "name": "ipython",
    "version": 3
   },
   "file_extension": ".py",
   "mimetype": "text/x-python",
   "name": "python",
   "nbconvert_exporter": "python",
   "pygments_lexer": "ipython3",
   "version": "3.6.4"
  }
 },
 "nbformat": 4,
 "nbformat_minor": 2
}
