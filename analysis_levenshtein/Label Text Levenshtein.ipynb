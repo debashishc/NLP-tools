{
 "cells": [
  {
   "cell_type": "code",
   "execution_count": 30,
   "metadata": {},
   "outputs": [],
   "source": [
    "import os\n",
    "import csv\n",
    "import re\n",
    "from nltk import sent_tokenize\n",
    "import numpy as np\n",
    "import matplotlib.pyplot as plt\n",
    "import matplotlib.mlab as mlab"
   ]
  },
  {
   "cell_type": "code",
   "execution_count": 26,
   "metadata": {},
   "outputs": [],
   "source": [
    "def normal_distribution(values: list, name_of_values: str) -> None:\n",
    "    \"\"\"\n",
    "    \n",
    "    Example usage:\n",
    "    >>> normal_distribution(all_diversities, 'Diversity of generated text')\n",
    "    \"\"\"\n",
    "\n",
    "    \n",
    "    mean = np.nanmean(values)\n",
    "    sigma = np.nanstd(values)\n",
    "\n",
    "    num_bins = 100\n",
    "\n",
    "    fig, ax = plt.subplots()\n",
    "\n",
    "    #the histogram of the data\n",
    "    n, bins, _ = ax.hist(values, num_bins, normed=True)\n",
    "\n",
    "    # add a 'best fit' line\n",
    "    y = mlab.normpdf(bins, mean, sigma)\n",
    "    ax.plot(bins, y, linewidth=2, color='r')\n",
    "    ax.set_xlabel(name_of_values)\n",
    "#     ax.set_xlim([0.5,1])\n",
    "    ax.set_ylabel('Probability density')\n",
    "    ax.set_title(r'Histogram of distribution: $\\mu={}$, $\\sigma={}$'.format(\n",
    "        round(mean, 3), round(sigma, 3)))\n",
    "\n",
    "    # plt.plot(bins, 1/(sigma * np.sqrt(2 * np.pi)) *\n",
    "    #                          np.exp(- (bins - mean)**2 / (2 * sigma**2)),\n",
    "    #                    linewidth=2, color='r')\n",
    "\n",
    "    # Tweak spacing to prevent clipping of ylabel\n",
    "    fig.tight_layout()\n",
    "    plt.show()"
   ]
  },
  {
   "cell_type": "code",
   "execution_count": 9,
   "metadata": {},
   "outputs": [],
   "source": [
    "def get_sentences(filepath):\n",
    "    \"\"\" Return sentences given a text file.\n",
    "    \"\"\"\n",
    "    with open(filepath, mode='r', encoding=\"ISO-8859-1\") as f:\n",
    "        data = f.read()\n",
    "    sentences = sent_tokenize(data)\n",
    "    return sentences"
   ]
  },
  {
   "cell_type": "code",
   "execution_count": 18,
   "metadata": {},
   "outputs": [],
   "source": [
    "def create_labelled_text(text, novs, divs, label):\n",
    "    \"\"\" Create labelled text file with corresponding novelty and diversity values\n",
    "    \"\"\"\n",
    "    text_dict = dict()\n",
    "\n",
    "    for ix, t in enumerate(text):\n",
    "        text_dict[ix] = (t, novs[ix], divs[ix], label)\n",
    "        \n",
    "    return text_dict\n",
    "\n",
    "\n",
    "def write_to_csv(text_dict, filename):\n",
    "    \"\"\"\n",
    "    \"\"\"\n",
    "    # real labelled as 1, fake labelled as 0\n",
    "    fieldnames = [\"index\", \"text\", \"novelty\", \"diversity\", \"label\"]\n",
    "    with open(file=filename, mode='w', newline='') as csvfile:\n",
    "        writer = csv.DictWriter(csvfile, fieldnames=fieldnames)\n",
    "        writer.writeheader()\n",
    "        data = [dict(zip(fieldnames, [k, values[0], values[1], values[2], values[3]]))\n",
    "                for k, values in text_dict.items()]\n",
    "        writer.writerows(data)\n",
    "\n",
    "# bad function name\n",
    "def create_labelled_dictionary(text, novelties, diversities, label):\n",
    "    \"\"\" Create labelled text file with no novelty or diversity values\n",
    "    \"\"\"\n",
    "    text_dict = dict()\n",
    "\n",
    "    for ix, t in enumerate(text):\n",
    "        text_dict[ix] = (t, novelties[ix], diversities[ix], label)\n",
    "\n",
    "    return text_dict\n",
    "\n",
    "\n",
    "def write_to_file(text_dict, filename):\n",
    "    \"\"\"\n",
    "    \"\"\"\n",
    "    # real labelled as 1, fake labelled as 0\n",
    "    fieldnames = [\"index\", \"text\", \"novelty\", \"diversity\", \"label\"]\n",
    "    with open(file=filename, mode='w', newline='') as csvfile:\n",
    "        writer = csv.DictWriter(csvfile, fieldnames=fieldnames)\n",
    "        writer.writeheader()\n",
    "        data = [dict(zip(fieldnames, [k, values[0], values[1], values[2], values[3]]))\n",
    "                for k, values in text_dict.items()]\n",
    "        writer.writerows(data)\n",
    "\n",
    "\n",
    "def read_list(filename: str) -> list:\n",
    "    \"\"\" Extract the diversity or novelty list from txt file\n",
    "    \n",
    "        Example usage:\n",
    "        >>> read_list('jaccard_diversities_real.txt')\n",
    "    \"\"\"\n",
    "    with open(file=filename, mode='r', encoding=\"ISO-8859-1\") as f:\n",
    "        result_list = list()\n",
    "        data = f.read().split(',\\n')\n",
    "        for line in data:\n",
    "            result_list.append(float(re.findall(\"\\d+\\.\\d+\", line)[0]))\n",
    "            \n",
    "    return result_list"
   ]
  },
  {
   "cell_type": "code",
   "execution_count": null,
   "metadata": {},
   "outputs": [],
   "source": []
  },
  {
   "cell_type": "code",
   "execution_count": 19,
   "metadata": {},
   "outputs": [
    {
     "name": "stdout",
     "output_type": "stream",
     "text": [
      "11055 11055 11055\n",
      "10785 10785 10785\n"
     ]
    }
   ],
   "source": [
    "DATA_FILE = \"../data/emnlp_news.txt\"\n",
    "TEST_FILE = \"../data/test_emnlp.txt\"\n",
    "GENERATED_FILE = \"../data/generated_text2.txt\"\n",
    "\n",
    "# save these sentences and novelties to save computation time\n",
    "# corpus_sentences = get_sentences(DATA_FILE)  # 304222 sentences\n",
    "real_sentences = get_sentences(TEST_FILE) # 10785 sentences\n",
    "fake_sentences = get_sentences(GENERATED_FILE)  # 11055 sentences\n",
    "\n",
    "unscaled_fake_diversities = read_list('levenshtein_diversities_fake2.txt')\n",
    "unscaled_fake_novelties = read_list('levenshtein_novelties_fake2.txt')\n",
    "\n",
    "unscaled_real_novelties = read_list('levenshtein_novelties_real.txt')\n",
    "unscaled_real_diversities = read_list('levenshtein_diversities_real.txt')\n",
    "\n",
    "print(len(fake_sentences), len(unscaled_fake_diversities), len(unscaled_fake_novelties))\n",
    "\n",
    "print(len(real_sentences), len(unscaled_real_diversities), len(unscaled_real_novelties))\n",
    "\n",
    "\n",
    "real_text = get_sentences(DATA_FILE)\n",
    "fake_text = get_sentences(GENERATED_FILE)\n",
    "\n",
    "real_dict = create_labelled_dictionary(real_sentences, unscaled_real_novelties, unscaled_real_diversities, 1)\n",
    "write_to_file(real_dict, filename='labelled_real_metrics_levenshtein.csv')\n",
    "\n",
    "# label fake text with 0\n",
    "fake_dict = create_labelled_dictionary(fake_sentences, unscaled_fake_novelties, unscaled_fake_diversities, 0)\n",
    "write_to_file(fake_dict, filename='labelled_fake_metrics_levenshtein.csv')"
   ]
  },
  {
   "cell_type": "code",
   "execution_count": 24,
   "metadata": {},
   "outputs": [],
   "source": [
    "def scale_back(distances, real_sentences, fake_sentences):\n",
    "    \"\"\"\n",
    "    Want to scale back levenshtein distance\n",
    "    \"\"\"\n",
    "    scaled_result = list()\n",
    "    for distance, real_sentence, fake_sentence in zip(distances, real_sentences, fake_sentences):\n",
    "#         scaled_result.append(distance * max(len(real_sentence), len(fake_sentence)) / max(distances))\n",
    "        scaled_result.append(distance / max(distances))\n",
    "\n",
    "    \n",
    "    return scaled_result"
   ]
  },
  {
   "cell_type": "code",
   "execution_count": 25,
   "metadata": {},
   "outputs": [
    {
     "name": "stdout",
     "output_type": "stream",
     "text": [
      "[0.8629441624365483, 0.8584474885844748, 0.875, 0.8337028824833703, 0.8577777777777778, 0.8527918781725888, 0.86, 0.8685714285714285, 0.864321608040201, 0.8542713567839196] [0.8961343225302616, 0.8914646996838776, 0.9086538461538461, 0.8657683779634999, 0.8907692307692306, 0.8855915657946114, 0.893076923076923, 0.9019780219780219, 0.8975647468109779, 0.887127947429455]\n"
     ]
    }
   ],
   "source": [
    "fake_diversities = scale_back(unscaled_fake_diversities, real_sentences, fake_sentences)\n",
    "fake_novelties = scale_back(unscaled_fake_novelties, real_sentences, fake_sentences)\n",
    "\n",
    "real_novelties = scale_back(unscaled_real_novelties, real_sentences, fake_sentences)\n",
    "real_diversities = scale_back(unscaled_real_diversities, real_sentences, fake_sentences)\n",
    "\n",
    "print(unscaled_fake_diversities[:10], fake_diversities[:10])"
   ]
  },
  {
   "cell_type": "code",
   "execution_count": 31,
   "metadata": {},
   "outputs": [
    {
     "data": {
      "image/png": "[encoded data removed]",
      "text/plain": [
       "<matplotlib.figure.Figure at 0x111e138d0>"
      ]
     },
     "metadata": {},
     "output_type": "display_data"
    },
    {
     "data": {
      "image/png": "[encoded data removed]",
      "text/plain": [
       "<matplotlib.figure.Figure at 0x111e13780>"
      ]
     },
     "metadata": {},
     "output_type": "display_data"
    }
   ],
   "source": [
    "normal_distribution(fake_diversities, 'Diversities of fake text')\n",
    "normal_distribution(fake_novelties, 'Novelties of fake text')"
   ]
  },
  {
   "cell_type": "code",
   "execution_count": null,
   "metadata": {},
   "outputs": [],
   "source": [
    "real_dict = create_labelled_dictionary(real_sentences, real_novelties, real_diversities, 1)\n",
    "write_to_file(real_dict, filename='scaled_labelled_real_metrics_levenshtein.csv')\n",
    "\n",
    "# label fake text with 0\n",
    "fake_dict = create_labelled_dictionary(fake_sentences, fake_novelties, fake_diversities, 0)\n",
    "write_to_file(fake_dict, filename='scaledlabelled_fake_metrics_levenshtein.csv')"
   ]
  }
 ],
 "metadata": {
  "kernelspec": {
   "display_name": "Python 3",
   "language": "python",
   "name": "python3"
  },
  "language_info": {
   "codemirror_mode": {
    "name": "ipython",
    "version": 3
   },
   "file_extension": ".py",
   "mimetype": "text/x-python",
   "name": "python",
   "nbconvert_exporter": "python",
   "pygments_lexer": "ipython3",
   "version": "3.6.4"
  }
 },
 "nbformat": 4,
 "nbformat_minor": 2
}
