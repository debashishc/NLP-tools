{
 "cells": [
  {
   "cell_type": "code",
   "execution_count": 1,
   "metadata": {},
   "outputs": [
    {
     "name": "stderr",
     "output_type": "stream",
     "text": [
      "Using TensorFlow backend.\n"
     ]
    }
   ],
   "source": [
    "#package imports\n",
    "import os\n",
    "import numpy as np\n",
    "import pandas as pd \n",
    "import re\n",
    "import pickle\n",
    "from datetime import datetime\n",
    "import matplotlib.pyplot as plt\n",
    "import qgrid\n",
    "\n",
    "import tensorflow as tf\n",
    "config = tf.ConfigProto()\n",
    "config.gpu_options.allow_growth = True\n",
    "from tensorflow.python.client import device_lib\n",
    "# print(device_lib.list_local_devices())\n",
    "\n",
    "from tensorflow import keras\n",
    "from tensorflow.keras import layers\n",
    "from tensorflow import set_random_seed\n",
    "\n",
    "# print(tf.VERSION)\n",
    "# print(tf.keras.__version__)\n",
    "\n",
    "from nltk.corpus import stopwords\n",
    "from nltk.stem import WordNetLemmatizer\n",
    "\n",
    "from sklearn.feature_extraction.text import CountVectorizer\n",
    "from sklearn.model_selection import train_test_split, StratifiedKFold, cross_val_score, StratifiedShuffleSplit\n",
    "from sklearn.pipeline import make_pipeline\n",
    "from sklearn.model_selection import cross_validate, cross_val_predict\n",
    "from sklearn.metrics import roc_curve, auc, roc_auc_score\n",
    "from sklearn import model_selection\n",
    "\n",
    "\n",
    "from keras.preprocessing.text import Tokenizer\n",
    "from keras.preprocessing.sequence import pad_sequences\n",
    "from keras.models import Sequential, Model, Input\n",
    "from keras.layers import Dense, Embedding, LSTM, SpatialDropout1D, Flatten\n",
    "from keras.utils.np_utils import to_categorical\n",
    "from keras.wrappers.scikit_learn import KerasClassifier\n",
    "from keras.regularizers import l2\n",
    "from keras.utils import plot_model\n",
    "\n",
    "import h5py\n",
    "from keras.models import load_model\n",
    "\n",
    "# Pre-defined imports\n",
    "from Preprocessing import get_sentences\n",
    "\n"
   ]
  },
  {
   "cell_type": "code",
   "execution_count": 2,
   "metadata": {},
   "outputs": [],
   "source": [
    "\n",
    "max_features = 5000 #number of words to consider as features \n",
    "\n",
    "def get_sequences(max_features, data):\n",
    "    #tokenize and put into sequences\n",
    "    tokenizer = Tokenizer(num_words=max_features, split=' ')\n",
    "    # print(tokenizer)\n",
    "    tokenizer.fit_on_texts(data['text'].values)\n",
    "    # print(data['text'].values)\n",
    "    sequences = tokenizer.texts_to_sequences(data['text'].values)\n",
    "    sequences = pad_sequences(sequences) #maxlen = len of longest sequence/words in a sentence\n",
    "    return sequences\n",
    "\n",
    "\n",
    "def create_lstm_model():\n",
    "    #Create Model\n",
    "    model = tf.keras.Sequential()\n",
    "    model.add(layers.Embedding(max_features, embedding_dim, input_length = sequences.shape[1])) #(size of vocabulary, size of embedding vecotr, length of input (i.e. no. steps/words in each sample))\n",
    "    model.add(layers.SpatialDropout1D(0.4)) # fraction of the input units to drop\n",
    "\n",
    "#   model.add(LSTM(units, dropout = 0.2, recurrent_dropout =0.1, kernel_regularizer=l2(0.001), recurrent_regularizer=l2(0.001), bias_regularizer=l2(0.001))) #return_sequences=True))    \n",
    "#   model.add(LSTM(units, dropout = 0.2, recurrent_dropout =0.2)) #return_sequences=True))\n",
    "    # model.add(layers.CuDNNLSTM(units)) # for GPU\n",
    "    model.add(layers.LSTM(units))\n",
    "    \n",
    "    model.add(layers.Dense(100, input_dim =2, activation = 'relu', kernel_regularizer=l2(0.001)))\n",
    "    model.add(layers.Dense(2,activation='softmax')) #no. of classes is 2, softmax is the same as the sigmoid function.\n",
    "                                            # higher no. of classes, then softmax is used for multiclass classification\n",
    "#     plot_model(model, to_file='model_plot.png', show_shapes=True, show_layer_names=True)\n",
    "    #Compile model\n",
    "#     model.compile(optimizer=tf.train.RMSPropOptimizer(0.01),\n",
    "#               loss=tf.keras.losses.categorical_crossentropy,\n",
    "#               metrics=[tf.keras.metrics.categorical_accuracy]) #metrics=['accuracy'] change when using k-folds\n",
    "    \n",
    "   \n",
    "    #Adamax, RMSprop, Adam\n",
    "    \n",
    "    \n",
    "    model.compile(loss = 'categorical_crossentropy', optimizer='rmsprop',metrics = ['accuracy']) \n",
    "    ## calculate the loss function, [calculate gradient and do back-propagation].\n",
    "    # one-hot encoded, use \"categorical_crossentropy\". Otherwise if targets are integers, \"sparse_categorical_crossentropy\".\n",
    "    # In order to convert integer targets into categorical targets, you can use the Keras utility \"to_categorical\"\n",
    "    # when using \"sparse_categorical_crossentropy\"--> ValueError: Error when checking target: expected dense_3 to have shape (1,) but got array with shape (2,)\n",
    "    print(model.summary())\n",
    " \n",
    "    return model\n"
   ]
  },
  {
   "cell_type": "code",
   "execution_count": 6,
   "metadata": {},
   "outputs": [
    {
     "name": "stdout",
     "output_type": "stream",
     "text": [
      "[[   0    0    0 ...   30 4846 1158]\n",
      " [   0    0    0 ... 1764   44   25]\n",
      " [   0    0    0 ...   14    1  570]\n",
      " ...\n",
      " [   0    0    0 ...  347   40 4352]\n",
      " [   0    0    0 ...    1 1851  671]\n",
      " [   0    0    0 ...    5    2  599]]\n",
      "[[0 1]\n",
      " [0 1]\n",
      " [0 1]\n",
      " ...\n",
      " [1 0]\n",
      " [1 0]\n",
      " [1 0]]\n",
      "input dimensions: (16000, 47) | output dimensions: (16000, 2)\n",
      "x_train dimensions: (14400, 47) | y_train dimensions: (14400, 2)\n",
      "x_test dimensions: (1600, 47) | y_test dimensions: (1600, 2)\n",
      "_________________________________________________________________\n",
      "Layer (type)                 Output Shape              Param #   \n",
      "=================================================================\n",
      "embedding_2 (Embedding)      (None, 47, 400)           2000000   \n",
      "_________________________________________________________________\n",
      "spatial_dropout1d_2 (Spatial (None, 47, 400)           0         \n",
      "_________________________________________________________________\n",
      "lstm_2 (LSTM)                (None, 250)               651000    \n",
      "_________________________________________________________________\n",
      "dense_4 (Dense)              (None, 100)               25100     \n",
      "_________________________________________________________________\n",
      "dense_5 (Dense)              (None, 2)                 202       \n",
      "=================================================================\n",
      "Total params: 2,676,302\n",
      "Trainable params: 2,676,302\n",
      "Non-trainable params: 0\n",
      "_________________________________________________________________\n",
      "None\n",
      "Train on 14400 samples, validate on 1600 samples\n",
      "Epoch 1/6\n",
      "14400/14400 [==============================] - 100s 7ms/step - loss: 0.2464 - acc: 0.9058 - val_loss: 0.1276 - val_acc: 0.9631\n",
      "Epoch 2/6\n",
      "14400/14400 [==============================] - 96s 7ms/step - loss: 0.0440 - acc: 0.9884 - val_loss: 0.1810 - val_acc: 0.9375\n",
      "Epoch 3/6\n",
      "14400/14400 [==============================] - 97s 7ms/step - loss: 0.0207 - acc: 0.9947 - val_loss: 0.0321 - val_acc: 0.9875\n",
      "Epoch 4/6\n",
      "14400/14400 [==============================] - 96s 7ms/step - loss: 0.0105 - acc: 0.9973 - val_loss: 0.0016 - val_acc: 1.0000\n",
      "Epoch 5/6\n",
      "14400/14400 [==============================] - 96s 7ms/step - loss: 0.0095 - acc: 0.9974 - val_loss: 0.0570 - val_acc: 0.9888\n",
      "Epoch 6/6\n",
      "14400/14400 [==============================] - 96s 7ms/step - loss: 0.0083 - acc: 0.9980 - val_loss: 6.8853e-04 - val_acc: 1.0000\n"
     ]
    }
   ],
   "source": [
    "\n",
    "filepath='../results/data_generated1/labelled_processed_text.csv'\n",
    "\n",
    "file_dir = os.path.dirname(os.path.realpath('__file__'))\n",
    "filename = os.path.join(file_dir, filepath)\n",
    "filename = os.path.abspath(os.path.realpath(filename))\n",
    "\n",
    "data = pd.read_csv(filename)\n",
    "\n",
    "sequences = get_sequences(max_features=5000, data=data)\n",
    "\n",
    "x = sequences # pre-processed data from step 3\n",
    "print(x)\n",
    "y = pd.get_dummies(data['label']).values #turn sentiments into 0 and 1 into a (11538,2) matrix\n",
    "print(y)\n",
    "\n",
    "#-----Define LSTM parameters-----#\n",
    "embedding_dim = 400\n",
    "units = 250 #dimensionality of the output space\n",
    "batch_size = 32 #Batch of sequences to process as input (fed into the .fit function)\n",
    "#dropout =0.2 #float between 0 and 1. Fraction of the units to drop for the linear transformation of the inputs.\n",
    "#recurrent_dropout=0.2 #Float between 0 and 1. Fraction of the units to drop for the linear transformation of the recurrent state.\n",
    "\n",
    "\n",
    "max_len = 30 # Cuts off texts after this many words (among the max_features most common words)\n",
    "epochs = 6\n",
    "\n",
    "\n",
    "# x_train, x_test, y_train, y_test = train_test_split(x,y, test_size = 0.10, random_state = 42) #random state to get same split output (42, 0, 21)\n",
    "x_train, x_test, y_train, y_test = train_test_split(x,y, test_size = 0.10, random_state = 42) #random state to get same split output (42, 0, 21)\n",
    "\n",
    "print('input dimensions:', x.shape, '|', 'output dimensions:', y.shape)\n",
    "print('x_train dimensions:', x_train.shape, '|', 'y_train dimensions:', y_train.shape)\n",
    "print('x_test dimensions:', x_test.shape, '|', 'y_test dimensions:', y_test.shape)\n",
    "\n",
    "keras_model = create_lstm_model()\n",
    "history = keras_model.fit(x, y, validation_split=0.10, epochs=epochs, batch_size=batch_size, verbose=1)\n",
    "\n"
   ]
  },
  {
   "cell_type": "code",
   "execution_count": 7,
   "metadata": {},
   "outputs": [
    {
     "data": {
      "image/png": "[encoded data removed]",
      "text/plain": [
       "<Figure size 432x288 with 1 Axes>"
      ]
     },
     "metadata": {
      "needs_background": "light"
     },
     "output_type": "display_data"
    }
   ],
   "source": [
    "# Plot training & validation accuracy values\n",
    "# plt.plot(history.history['categorical_accuracy']) #tf\n",
    "# plt.plot(history.history['val_categorical_accuracy']) #tf\n",
    "plt.plot(history.history['acc']) #keras\n",
    "plt.plot(history.history['val_acc']) #keras\n",
    "plt.title('Model accuracy')\n",
    "plt.ylabel('Accuracy')\n",
    "plt.xlabel('Epoch')\n",
    "plt.legend(['Train', 'Test'], loc='upper left')\n",
    "plt.show()\n"
   ]
  },
  {
   "cell_type": "code",
   "execution_count": 8,
   "metadata": {},
   "outputs": [
    {
     "data": {
      "image/png": "[encoded data removed]",
      "text/plain": [
       "<Figure size 432x288 with 1 Axes>"
      ]
     },
     "metadata": {
      "needs_background": "light"
     },
     "output_type": "display_data"
    }
   ],
   "source": [
    "# Plot training & validation loss values\n",
    "plt.plot(history.history['loss'])\n",
    "plt.plot(history.history['val_loss'])\n",
    "plt.title('Model loss')\n",
    "plt.ylabel('Loss')\n",
    "plt.xlabel('Epoch')\n",
    "plt.legend(['Train', 'Test'], loc='upper left')\n",
    "plt.show()"
   ]
  },
  {
   "cell_type": "code",
   "execution_count": null,
   "metadata": {},
   "outputs": [],
   "source": []
  }
 ],
 "metadata": {
  "kernelspec": {
   "display_name": "Python 3",
   "language": "python",
   "name": "python3"
  },
  "language_info": {
   "codemirror_mode": {
    "name": "ipython",
    "version": 3
   },
   "file_extension": ".py",
   "mimetype": "text/x-python",
   "name": "python",
   "nbconvert_exporter": "python",
   "pygments_lexer": "ipython3",
   "version": "3.6.4"
  }
 },
 "nbformat": 4,
 "nbformat_minor": 2
}
