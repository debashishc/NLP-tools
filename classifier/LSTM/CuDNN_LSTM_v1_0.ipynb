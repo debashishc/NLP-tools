{
 "cells": [
  {
   "cell_type": "code",
   "execution_count": 1,
   "metadata": {},
   "outputs": [],
   "source": [
    "__author__ = \"Sandra Arcos Holzinger\"\n",
    "__copyright__ = \"Copyright 2019, Sentiment Analysis\"\n",
    "__version__ = \"1.0\"\n",
    "__email__ = \"Sandra.ArcosHolzinger@thalesgroup.com.au\"\n",
    "__status__ = \"Pre-Production\""
   ]
  },
  {
   "cell_type": "markdown",
   "metadata": {},
   "source": [
    "# Packages "
   ]
  },
  {
   "cell_type": "code",
   "execution_count": 2,
   "metadata": {
    "scrolled": true
   },
   "outputs": [
    {
     "name": "stdout",
     "output_type": "stream",
     "text": [
      "1.13.1\n",
      "2.2.4-tf\n",
      "[name: \"/device:CPU:0\"\n",
      "device_type: \"CPU\"\n",
      "memory_limit: 268435456\n",
      "locality {\n",
      "}\n",
      "incarnation: 757937837845492478\n",
      ", name: \"/device:GPU:0\"\n",
      "device_type: \"GPU\"\n",
      "memory_limit: 6626719826\n",
      "locality {\n",
      "  bus_id: 1\n",
      "  links {\n",
      "  }\n",
      "}\n",
      "incarnation: 4163036480870453258\n",
      "physical_device_desc: \"device: 0, name: GeForce RTX 2070, pci bus id: 0000:01:00.0, compute capability: 7.5\"\n",
      "]\n"
     ]
    },
    {
     "name": "stderr",
     "output_type": "stream",
     "text": [
      "Using TensorFlow backend.\n"
     ]
    }
   ],
   "source": [
    "from utils_LSTM import *\n",
    "from metrics_LSTM import *\n",
    "from metrics_predictions import *"
   ]
  },
  {
   "cell_type": "markdown",
   "metadata": {},
   "source": [
    "# 2 - Dataset and Pre-processing\n",
    "\n",
    "\n",
    "**Columns to use:**\n",
    "\n",
    "    airline.tsv [1,3]\n",
    "\tairline_tweets.csv [1,10]\n",
    "\tapple.csv [5,11]\n",
    "\tself_drive_cars.csv [5,10]\n",
    "\tbrands_products.csv [1,2]\n",
    "\tall.csv [0,1]"
   ]
  },
  {
   "cell_type": "markdown",
   "metadata": {},
   "source": [
    "### 2.1 Initialize parameters and pre-process data"
   ]
  },
  {
   "cell_type": "code",
   "execution_count": 3,
   "metadata": {},
   "outputs": [
    {
     "name": "stdout",
     "output_type": "stream",
     "text": [
      "Number of positive sentiments: 2361\n",
      "Number of negative sentiments: 9176\n",
      "Number of neutral sentiments: 3098\n",
      "The dimensions of the matrix with all sequences is: (11537, 32)\n",
      "Sequence corresponding to a tweet:\n",
      " [   0    0    0    0    0    0    0    0    0    0    0    0    0    0\n",
      "    0    0    0    0   37 1758   29    6    2  168   83  295  125   91\n",
      "  187  194  142   15]\n"
     ]
    },
    {
     "data": {
      "text/html": [
       "<div>\n",
       "<style scoped>\n",
       "    .dataframe tbody tr th:only-of-type {\n",
       "        vertical-align: middle;\n",
       "    }\n",
       "\n",
       "    .dataframe tbody tr th {\n",
       "        vertical-align: top;\n",
       "    }\n",
       "\n",
       "    .dataframe thead th {\n",
       "        text-align: right;\n",
       "    }\n",
       "</style>\n",
       "<table border=\"1\" class=\"dataframe\">\n",
       "  <thead>\n",
       "    <tr style=\"text-align: right;\">\n",
       "      <th></th>\n",
       "      <th>target</th>\n",
       "      <th>text</th>\n",
       "    </tr>\n",
       "  </thead>\n",
       "  <tbody>\n",
       "    <tr>\n",
       "      <th>14630</th>\n",
       "      <td>1</td>\n",
       "      <td>todays flight to philadelphia  its a little disappointing for the unnecessary delays and its no...</td>\n",
       "    </tr>\n",
       "    <tr>\n",
       "      <th>14631</th>\n",
       "      <td>1</td>\n",
       "      <td>has made my no fly list other airlines wait when connector late flight stuck in iah</td>\n",
       "    </tr>\n",
       "    <tr>\n",
       "      <th>14632</th>\n",
       "      <td>1</td>\n",
       "      <td>flight 2646  four hours in the plane on the ground at bwi</td>\n",
       "    </tr>\n",
       "    <tr>\n",
       "      <th>14633</th>\n",
       "      <td>1</td>\n",
       "      <td>any idea on what the wait time is for refunds from  i was told a few days over the phone  but i...</td>\n",
       "    </tr>\n",
       "    <tr>\n",
       "      <th>14634</th>\n",
       "      <td>0</td>\n",
       "      <td>im looking forward to watching the oscars on my flight home tomorrow i might even get something...</td>\n",
       "    </tr>\n",
       "  </tbody>\n",
       "</table>\n",
       "</div>"
      ],
      "text/plain": [
       "       target  \\\n",
       "14630       1   \n",
       "14631       1   \n",
       "14632       1   \n",
       "14633       1   \n",
       "14634       0   \n",
       "\n",
       "                                                                                                      text  \n",
       "14630   todays flight to philadelphia  its a little disappointing for the unnecessary delays and its no...  \n",
       "14631                  has made my no fly list other airlines wait when connector late flight stuck in iah  \n",
       "14632                                            flight 2646  four hours in the plane on the ground at bwi  \n",
       "14633   any idea on what the wait time is for refunds from  i was told a few days over the phone  but i...  \n",
       "14634   im looking forward to watching the oscars on my flight home tomorrow i might even get something...  "
      ]
     },
     "execution_count": 3,
     "metadata": {},
     "output_type": "execute_result"
    }
   ],
   "source": [
    "# FILE_PATH = '/home/hummus/algorithms-other/data/airline_tweets.csv'\n",
    "FILE_PATH = 'E:/Classification/algorithms-other/data/airline_tweets.csv'\n",
    "\n",
    "DATASET = 'airline' #options: 'airline', 'products','apple','self-driving-cars', 'ied'\n",
    "samples = -1 #number of samples to select from the dataset\n",
    "cols = [1,10] #columns [1,3] or [1,10] to use from dataset (target and text columns)\n",
    "\n",
    "max_features = 2000 #number of words to consider as features    \n",
    "max_len = 32# Maximum sequence length-- used in Section 5 for predictions\n",
    "\n",
    "#-----Pre-process and tokenize data into sequences-----# \n",
    "data, pos_sent_size, neg_sent_size, neut_sent_size = data_preprocess(samples, DATASET, FILE_PATH, cols, labels = True)\n",
    "sequences,tokenizer = keras_tokenizer(data, max_features,'text', max_len)\n",
    "\n",
    "print('Number of positive sentiments:', pos_sent_size)\n",
    "print('Number of negative sentiments:', neg_sent_size)\n",
    "print('Number of neutral sentiments:', neut_sent_size)\n",
    "print('The dimensions of the matrix with all sequences is:', sequences.shape)\n",
    "print('Sequence corresponding to a tweet:\\n', sequences[0])\n",
    "pd.set_option('max_colwidth', 100) #sets columns width in DataFrame\n",
    "data.tail()"
   ]
  },
  {
   "cell_type": "markdown",
   "metadata": {},
   "source": [
    "# 3 - Split data into train and test sets"
   ]
  },
  {
   "cell_type": "code",
   "execution_count": 4,
   "metadata": {},
   "outputs": [
    {
     "name": "stdout",
     "output_type": "stream",
     "text": [
      "input dimensions: (11537, 32) | output dimensions: (11537, 2)\n",
      "x_train dimensions: (10383, 32) | y_train dimensions: (10383, 2)\n",
      "x_test dimensions: (1154, 32) | y_test dimensions: (1154, 2)\n"
     ]
    }
   ],
   "source": [
    "x = sequences # pre-processed data in the form of sequences from step 2\n",
    "input_length =sequences.shape[1]\n",
    "y = pd.get_dummies(data['target']).values #turn sentiments into 0 and 1 into a (11538,2) matrix\n",
    "test_size=.10\n",
    "x_train, x_test, y_train, y_test = train_test_split(x,y, test_size = test_size, random_state = 42) #random state to get same split output (42, 0, 21)\n",
    "print('input dimensions:', x.shape, '|', 'output dimensions:', y.shape)\n",
    "print('x_train dimensions:', x_train.shape, '|', 'y_train dimensions:', y_train.shape)\n",
    "print('x_test dimensions:', x_test.shape, '|', 'y_test dimensions:', y_test.shape)"
   ]
  },
  {
   "cell_type": "markdown",
   "metadata": {},
   "source": [
    "# 4 - LSTM Model Training and Validation\n",
    "\n",
    "Hyperparameters: embedding dimensions, hidden units and batch size (embedding_dim, units, batch_size)\n",
    "\n",
    "The number of parameters in the model are given by:\n",
    "\n",
    "$$ p = 4*(nm + n^2 + n)$$ \n",
    "\n",
    "**where:**\n",
    "\n",
    "m = number of embeddings per word\n",
    "\n",
    "n = output dimension of the lstm\n",
    "\n",
    "p = number of parameters in the LSTM model"
   ]
  },
  {
   "cell_type": "markdown",
   "metadata": {},
   "source": [
    "### 4.1 Initialize model parameters"
   ]
  },
  {
   "cell_type": "code",
   "execution_count": 5,
   "metadata": {},
   "outputs": [],
   "source": [
    "# #-----Initialize model parameters-----# \n",
    "# embedding_dim=400\n",
    "# units=250 \n",
    "# batch_size=32\n",
    "# max_len = 30 # Cuts off texts after this many words (among the max_features most common words)-- used in Section 5 for predictions\n",
    "# epochs = 12\n",
    "# #-----Initialize k-fold splits-----# \n",
    "# splits = 4 #number of fold for cross-validation (used in Section 4.3)\n",
    "#-----Initialize model parameters-----# \n",
    "embedding_dim=10000\n",
    "units=300\n",
    "batch_size=256\n",
    "epochs = 4\n",
    "#-----Initialize k-fold splits-----# \n",
    "splits = 10 #number of fold for cross-validation (used in Section 4.3)"
   ]
  },
  {
   "cell_type": "markdown",
   "metadata": {},
   "source": [
    "### 4.2 Build and train model"
   ]
  },
  {
   "cell_type": "code",
   "execution_count": 7,
   "metadata": {},
   "outputs": [
    {
     "name": "stdout",
     "output_type": "stream",
     "text": [
      "_________________________________________________________________\n",
      "Layer (type)                 Output Shape              Param #   \n",
      "=================================================================\n",
      "embedding_1 (Embedding)      (None, 32, 10000)         20000000  \n",
      "_________________________________________________________________\n",
      "spatial_dropout1d_1 (Spatial (None, 32, 10000)         0         \n",
      "_________________________________________________________________\n",
      "cu_dnnlstm_1 (CuDNNLSTM)     (None, 300)               12362400  \n",
      "_________________________________________________________________\n",
      "dense_2 (Dense)              (None, 100)               30100     \n",
      "_________________________________________________________________\n",
      "dense_3 (Dense)              (None, 2)                 202       \n",
      "=================================================================\n",
      "Total params: 32,392,702\n",
      "Trainable params: 32,392,702\n",
      "Non-trainable params: 0\n",
      "_________________________________________________________________\n",
      "None\n",
      "Train on 9344 samples, validate on 1039 samples\n",
      "Epoch 1/4\n",
      " - 5s - loss: 0.4707 - acc: 0.8515 - val_loss: 0.3162 - val_acc: 0.9153\n",
      "Epoch 2/4\n",
      " - 5s - loss: 0.2666 - acc: 0.9325 - val_loss: 0.2801 - val_acc: 0.9211\n",
      "Epoch 3/4\n",
      " - 5s - loss: 0.1892 - acc: 0.9510 - val_loss: 0.2561 - val_acc: 0.9249\n",
      "Epoch 4/4\n",
      " - 5s - loss: 0.1381 - acc: 0.9613 - val_loss: 0.2849 - val_acc: 0.9249\n"
     ]
    },
    {
     "data": {
      "image/png": "[encoded data removed]",
      "text/plain": [
       "<Figure size 720x360 with 1 Axes>"
      ]
     },
     "metadata": {
      "needs_background": "light"
     },
     "output_type": "display_data"
    },
    {
     "ename": "FileNotFoundError",
     "evalue": "[Errno 2] No such file or directory: '/home/hummus/algorithms-other/LSTM/figures/learning/learning_performance_airline_-1_batchsize256_maxlen32_epochs4.png'",
     "output_type": "error",
     "traceback": [
      "\u001b[1;31m---------------------------------------------------------------------------\u001b[0m",
      "\u001b[1;31mFileNotFoundError\u001b[0m                         Traceback (most recent call last)",
      "\u001b[1;32m<ipython-input-7-95d2aabd6ebb>\u001b[0m in \u001b[0;36m<module>\u001b[1;34m\u001b[0m\n\u001b[0;32m      5\u001b[0m \u001b[0mmodel\u001b[0m \u001b[1;33m=\u001b[0m \u001b[0mkeras_model\u001b[0m\u001b[1;33m(\u001b[0m\u001b[1;33m)\u001b[0m \u001b[1;31m# call to nested function in lstm_closure(...); returns Keras model\u001b[0m\u001b[1;33m\u001b[0m\u001b[1;33m\u001b[0m\u001b[0m\n\u001b[0;32m      6\u001b[0m \u001b[0mhistory\u001b[0m \u001b[1;33m=\u001b[0m \u001b[0mmodel\u001b[0m\u001b[1;33m.\u001b[0m\u001b[0mfit\u001b[0m\u001b[1;33m(\u001b[0m\u001b[0mx_train\u001b[0m\u001b[1;33m,\u001b[0m \u001b[0my_train\u001b[0m\u001b[1;33m,\u001b[0m \u001b[0mvalidation_split\u001b[0m\u001b[1;33m=\u001b[0m\u001b[0mtest_size\u001b[0m\u001b[1;33m,\u001b[0m \u001b[0mepochs\u001b[0m\u001b[1;33m=\u001b[0m\u001b[0mepochs\u001b[0m\u001b[1;33m,\u001b[0m \u001b[0mbatch_size\u001b[0m\u001b[1;33m=\u001b[0m\u001b[0mbatch_size\u001b[0m\u001b[1;33m,\u001b[0m \u001b[0mverbose\u001b[0m\u001b[1;33m=\u001b[0m\u001b[1;36m2\u001b[0m\u001b[1;33m)\u001b[0m\u001b[1;33m\u001b[0m\u001b[1;33m\u001b[0m\u001b[0m\n\u001b[1;32m----> 7\u001b[1;33m \u001b[0mmin_epoch\u001b[0m\u001b[1;33m=\u001b[0m \u001b[0mplot_learning_performance\u001b[0m\u001b[1;33m(\u001b[0m\u001b[0mhistory\u001b[0m\u001b[1;33m,\u001b[0m \u001b[0mDATASET\u001b[0m\u001b[1;33m,\u001b[0m \u001b[0msamples\u001b[0m\u001b[1;33m,\u001b[0m \u001b[0mbatch_size\u001b[0m\u001b[1;33m,\u001b[0m \u001b[0mmax_len\u001b[0m\u001b[1;33m,\u001b[0m \u001b[0mepochs\u001b[0m\u001b[1;33m)\u001b[0m\u001b[1;33m\u001b[0m\u001b[1;33m\u001b[0m\u001b[0m\n\u001b[0m\u001b[0;32m      8\u001b[0m \u001b[0mprint\u001b[0m\u001b[1;33m(\u001b[0m\u001b[1;34m\"Minimum validation loss is reached in epoch {}\"\u001b[0m\u001b[1;33m.\u001b[0m\u001b[0mformat\u001b[0m\u001b[1;33m(\u001b[0m\u001b[0mmin_epoch\u001b[0m\u001b[1;33m)\u001b[0m\u001b[1;33m)\u001b[0m\u001b[1;33m\u001b[0m\u001b[1;33m\u001b[0m\u001b[0m\n",
      "\u001b[1;32mE:\\Classification\\algorithms-other\\LSTM\\utils_LSTM.py\u001b[0m in \u001b[0;36mplot_learning_performance\u001b[1;34m(history, dataset, samples, batch_size, max_len, epochs)\u001b[0m\n\u001b[0;32m    246\u001b[0m     \u001b[0mplt\u001b[0m\u001b[1;33m.\u001b[0m\u001b[0mxlabel\u001b[0m\u001b[1;33m(\u001b[0m\u001b[1;34m'Epoch'\u001b[0m\u001b[1;33m)\u001b[0m\u001b[1;33m\u001b[0m\u001b[1;33m\u001b[0m\u001b[0m\n\u001b[0;32m    247\u001b[0m     \u001b[0mplt\u001b[0m\u001b[1;33m.\u001b[0m\u001b[0mlegend\u001b[0m\u001b[1;33m(\u001b[0m\u001b[1;33m[\u001b[0m\u001b[1;34m'Train loss'\u001b[0m\u001b[1;33m,\u001b[0m \u001b[1;34m'Validation loss'\u001b[0m\u001b[1;33m]\u001b[0m\u001b[1;33m,\u001b[0m \u001b[0mloc\u001b[0m\u001b[1;33m=\u001b[0m\u001b[1;34m'upper left'\u001b[0m\u001b[1;33m)\u001b[0m\u001b[1;33m\u001b[0m\u001b[1;33m\u001b[0m\u001b[0m\n\u001b[1;32m--> 248\u001b[1;33m     \u001b[0mplt\u001b[0m\u001b[1;33m.\u001b[0m\u001b[0msavefig\u001b[0m\u001b[1;33m(\u001b[0m\u001b[1;34mf'/home/hummus/algorithms-other/LSTM/figures/learning/learning_performance_{dataset}_{samples}_batchsize{batch_size}_maxlen{max_len}_epochs{epochs}.png'\u001b[0m\u001b[1;33m)\u001b[0m\u001b[1;33m\u001b[0m\u001b[1;33m\u001b[0m\u001b[0m\n\u001b[0m\u001b[0;32m    249\u001b[0m     \u001b[0mplt\u001b[0m\u001b[1;33m.\u001b[0m\u001b[0mshow\u001b[0m\u001b[1;33m(\u001b[0m\u001b[1;33m)\u001b[0m\u001b[1;33m\u001b[0m\u001b[1;33m\u001b[0m\u001b[0m\n\u001b[0;32m    250\u001b[0m \u001b[1;33m\u001b[0m\u001b[0m\n",
      "\u001b[1;32m~\\.conda\\envs\\tf-gpu\\lib\\site-packages\\matplotlib\\pyplot.py\u001b[0m in \u001b[0;36msavefig\u001b[1;34m(*args, **kwargs)\u001b[0m\n\u001b[0;32m    687\u001b[0m \u001b[1;32mdef\u001b[0m \u001b[0msavefig\u001b[0m\u001b[1;33m(\u001b[0m\u001b[1;33m*\u001b[0m\u001b[0margs\u001b[0m\u001b[1;33m,\u001b[0m \u001b[1;33m**\u001b[0m\u001b[0mkwargs\u001b[0m\u001b[1;33m)\u001b[0m\u001b[1;33m:\u001b[0m\u001b[1;33m\u001b[0m\u001b[1;33m\u001b[0m\u001b[0m\n\u001b[0;32m    688\u001b[0m     \u001b[0mfig\u001b[0m \u001b[1;33m=\u001b[0m \u001b[0mgcf\u001b[0m\u001b[1;33m(\u001b[0m\u001b[1;33m)\u001b[0m\u001b[1;33m\u001b[0m\u001b[1;33m\u001b[0m\u001b[0m\n\u001b[1;32m--> 689\u001b[1;33m     \u001b[0mres\u001b[0m \u001b[1;33m=\u001b[0m \u001b[0mfig\u001b[0m\u001b[1;33m.\u001b[0m\u001b[0msavefig\u001b[0m\u001b[1;33m(\u001b[0m\u001b[1;33m*\u001b[0m\u001b[0margs\u001b[0m\u001b[1;33m,\u001b[0m \u001b[1;33m**\u001b[0m\u001b[0mkwargs\u001b[0m\u001b[1;33m)\u001b[0m\u001b[1;33m\u001b[0m\u001b[1;33m\u001b[0m\u001b[0m\n\u001b[0m\u001b[0;32m    690\u001b[0m     \u001b[0mfig\u001b[0m\u001b[1;33m.\u001b[0m\u001b[0mcanvas\u001b[0m\u001b[1;33m.\u001b[0m\u001b[0mdraw_idle\u001b[0m\u001b[1;33m(\u001b[0m\u001b[1;33m)\u001b[0m   \u001b[1;31m# need this if 'transparent=True' to reset colors\u001b[0m\u001b[1;33m\u001b[0m\u001b[1;33m\u001b[0m\u001b[0m\n\u001b[0;32m    691\u001b[0m     \u001b[1;32mreturn\u001b[0m \u001b[0mres\u001b[0m\u001b[1;33m\u001b[0m\u001b[1;33m\u001b[0m\u001b[0m\n",
      "\u001b[1;32m~\\.conda\\envs\\tf-gpu\\lib\\site-packages\\matplotlib\\figure.py\u001b[0m in \u001b[0;36msavefig\u001b[1;34m(self, fname, frameon, transparent, **kwargs)\u001b[0m\n\u001b[0;32m   2092\u001b[0m             \u001b[0mself\u001b[0m\u001b[1;33m.\u001b[0m\u001b[0mset_frameon\u001b[0m\u001b[1;33m(\u001b[0m\u001b[0mframeon\u001b[0m\u001b[1;33m)\u001b[0m\u001b[1;33m\u001b[0m\u001b[1;33m\u001b[0m\u001b[0m\n\u001b[0;32m   2093\u001b[0m \u001b[1;33m\u001b[0m\u001b[0m\n\u001b[1;32m-> 2094\u001b[1;33m         \u001b[0mself\u001b[0m\u001b[1;33m.\u001b[0m\u001b[0mcanvas\u001b[0m\u001b[1;33m.\u001b[0m\u001b[0mprint_figure\u001b[0m\u001b[1;33m(\u001b[0m\u001b[0mfname\u001b[0m\u001b[1;33m,\u001b[0m \u001b[1;33m**\u001b[0m\u001b[0mkwargs\u001b[0m\u001b[1;33m)\u001b[0m\u001b[1;33m\u001b[0m\u001b[1;33m\u001b[0m\u001b[0m\n\u001b[0m\u001b[0;32m   2095\u001b[0m \u001b[1;33m\u001b[0m\u001b[0m\n\u001b[0;32m   2096\u001b[0m         \u001b[1;32mif\u001b[0m \u001b[0mframeon\u001b[0m\u001b[1;33m:\u001b[0m\u001b[1;33m\u001b[0m\u001b[1;33m\u001b[0m\u001b[0m\n",
      "\u001b[1;32m~\\.conda\\envs\\tf-gpu\\lib\\site-packages\\matplotlib\\backend_bases.py\u001b[0m in \u001b[0;36mprint_figure\u001b[1;34m(self, filename, dpi, facecolor, edgecolor, orientation, format, bbox_inches, **kwargs)\u001b[0m\n\u001b[0;32m   2073\u001b[0m                     \u001b[0morientation\u001b[0m\u001b[1;33m=\u001b[0m\u001b[0morientation\u001b[0m\u001b[1;33m,\u001b[0m\u001b[1;33m\u001b[0m\u001b[1;33m\u001b[0m\u001b[0m\n\u001b[0;32m   2074\u001b[0m                     \u001b[0mbbox_inches_restore\u001b[0m\u001b[1;33m=\u001b[0m\u001b[0m_bbox_inches_restore\u001b[0m\u001b[1;33m,\u001b[0m\u001b[1;33m\u001b[0m\u001b[1;33m\u001b[0m\u001b[0m\n\u001b[1;32m-> 2075\u001b[1;33m                     **kwargs)\n\u001b[0m\u001b[0;32m   2076\u001b[0m             \u001b[1;32mfinally\u001b[0m\u001b[1;33m:\u001b[0m\u001b[1;33m\u001b[0m\u001b[1;33m\u001b[0m\u001b[0m\n\u001b[0;32m   2077\u001b[0m                 \u001b[1;32mif\u001b[0m \u001b[0mbbox_inches\u001b[0m \u001b[1;32mand\u001b[0m \u001b[0mrestore_bbox\u001b[0m\u001b[1;33m:\u001b[0m\u001b[1;33m\u001b[0m\u001b[1;33m\u001b[0m\u001b[0m\n",
      "\u001b[1;32m~\\.conda\\envs\\tf-gpu\\lib\\site-packages\\matplotlib\\backends\\backend_agg.py\u001b[0m in \u001b[0;36mprint_png\u001b[1;34m(self, filename_or_obj, *args, **kwargs)\u001b[0m\n\u001b[0;32m    519\u001b[0m \u001b[1;33m\u001b[0m\u001b[0m\n\u001b[0;32m    520\u001b[0m         \u001b[1;32mwith\u001b[0m \u001b[0mcbook\u001b[0m\u001b[1;33m.\u001b[0m\u001b[0m_setattr_cm\u001b[0m\u001b[1;33m(\u001b[0m\u001b[0mrenderer\u001b[0m\u001b[1;33m,\u001b[0m \u001b[0mdpi\u001b[0m\u001b[1;33m=\u001b[0m\u001b[0mself\u001b[0m\u001b[1;33m.\u001b[0m\u001b[0mfigure\u001b[0m\u001b[1;33m.\u001b[0m\u001b[0mdpi\u001b[0m\u001b[1;33m)\u001b[0m\u001b[1;33m,\u001b[0m\u001b[0;31m \u001b[0m\u001b[0;31m\\\u001b[0m\u001b[1;33m\u001b[0m\u001b[1;33m\u001b[0m\u001b[0m\n\u001b[1;32m--> 521\u001b[1;33m                 \u001b[0mcbook\u001b[0m\u001b[1;33m.\u001b[0m\u001b[0mopen_file_cm\u001b[0m\u001b[1;33m(\u001b[0m\u001b[0mfilename_or_obj\u001b[0m\u001b[1;33m,\u001b[0m \u001b[1;34m\"wb\"\u001b[0m\u001b[1;33m)\u001b[0m \u001b[1;32mas\u001b[0m \u001b[0mfh\u001b[0m\u001b[1;33m:\u001b[0m\u001b[1;33m\u001b[0m\u001b[1;33m\u001b[0m\u001b[0m\n\u001b[0m\u001b[0;32m    522\u001b[0m             _png.write_png(renderer._renderer, fh,\n\u001b[0;32m    523\u001b[0m                             self.figure.dpi, metadata=metadata)\n",
      "\u001b[1;32m~\\.conda\\envs\\tf-gpu\\lib\\contextlib.py\u001b[0m in \u001b[0;36m__enter__\u001b[1;34m(self)\u001b[0m\n\u001b[0;32m     79\u001b[0m     \u001b[1;32mdef\u001b[0m \u001b[0m__enter__\u001b[0m\u001b[1;33m(\u001b[0m\u001b[0mself\u001b[0m\u001b[1;33m)\u001b[0m\u001b[1;33m:\u001b[0m\u001b[1;33m\u001b[0m\u001b[1;33m\u001b[0m\u001b[0m\n\u001b[0;32m     80\u001b[0m         \u001b[1;32mtry\u001b[0m\u001b[1;33m:\u001b[0m\u001b[1;33m\u001b[0m\u001b[1;33m\u001b[0m\u001b[0m\n\u001b[1;32m---> 81\u001b[1;33m             \u001b[1;32mreturn\u001b[0m \u001b[0mnext\u001b[0m\u001b[1;33m(\u001b[0m\u001b[0mself\u001b[0m\u001b[1;33m.\u001b[0m\u001b[0mgen\u001b[0m\u001b[1;33m)\u001b[0m\u001b[1;33m\u001b[0m\u001b[1;33m\u001b[0m\u001b[0m\n\u001b[0m\u001b[0;32m     82\u001b[0m         \u001b[1;32mexcept\u001b[0m \u001b[0mStopIteration\u001b[0m\u001b[1;33m:\u001b[0m\u001b[1;33m\u001b[0m\u001b[1;33m\u001b[0m\u001b[0m\n\u001b[0;32m     83\u001b[0m             \u001b[1;32mraise\u001b[0m \u001b[0mRuntimeError\u001b[0m\u001b[1;33m(\u001b[0m\u001b[1;34m\"generator didn't yield\"\u001b[0m\u001b[1;33m)\u001b[0m \u001b[1;32mfrom\u001b[0m \u001b[1;32mNone\u001b[0m\u001b[1;33m\u001b[0m\u001b[1;33m\u001b[0m\u001b[0m\n",
      "\u001b[1;32m~\\.conda\\envs\\tf-gpu\\lib\\site-packages\\matplotlib\\cbook\\__init__.py\u001b[0m in \u001b[0;36mopen_file_cm\u001b[1;34m(path_or_file, mode, encoding)\u001b[0m\n\u001b[0;32m    405\u001b[0m \u001b[1;32mdef\u001b[0m \u001b[0mopen_file_cm\u001b[0m\u001b[1;33m(\u001b[0m\u001b[0mpath_or_file\u001b[0m\u001b[1;33m,\u001b[0m \u001b[0mmode\u001b[0m\u001b[1;33m=\u001b[0m\u001b[1;34m\"r\"\u001b[0m\u001b[1;33m,\u001b[0m \u001b[0mencoding\u001b[0m\u001b[1;33m=\u001b[0m\u001b[1;32mNone\u001b[0m\u001b[1;33m)\u001b[0m\u001b[1;33m:\u001b[0m\u001b[1;33m\u001b[0m\u001b[1;33m\u001b[0m\u001b[0m\n\u001b[0;32m    406\u001b[0m     \u001b[1;34mr\"\"\"Pass through file objects and context-manage `.PathLike`\\s.\"\"\"\u001b[0m\u001b[1;33m\u001b[0m\u001b[1;33m\u001b[0m\u001b[0m\n\u001b[1;32m--> 407\u001b[1;33m     \u001b[0mfh\u001b[0m\u001b[1;33m,\u001b[0m \u001b[0mopened\u001b[0m \u001b[1;33m=\u001b[0m \u001b[0mto_filehandle\u001b[0m\u001b[1;33m(\u001b[0m\u001b[0mpath_or_file\u001b[0m\u001b[1;33m,\u001b[0m \u001b[0mmode\u001b[0m\u001b[1;33m,\u001b[0m \u001b[1;32mTrue\u001b[0m\u001b[1;33m,\u001b[0m \u001b[0mencoding\u001b[0m\u001b[1;33m)\u001b[0m\u001b[1;33m\u001b[0m\u001b[1;33m\u001b[0m\u001b[0m\n\u001b[0m\u001b[0;32m    408\u001b[0m     \u001b[1;32mif\u001b[0m \u001b[0mopened\u001b[0m\u001b[1;33m:\u001b[0m\u001b[1;33m\u001b[0m\u001b[1;33m\u001b[0m\u001b[0m\n\u001b[0;32m    409\u001b[0m         \u001b[1;32mwith\u001b[0m \u001b[0mfh\u001b[0m\u001b[1;33m:\u001b[0m\u001b[1;33m\u001b[0m\u001b[1;33m\u001b[0m\u001b[0m\n",
      "\u001b[1;32m~\\.conda\\envs\\tf-gpu\\lib\\site-packages\\matplotlib\\cbook\\__init__.py\u001b[0m in \u001b[0;36mto_filehandle\u001b[1;34m(fname, flag, return_opened, encoding)\u001b[0m\n\u001b[0;32m    390\u001b[0m             \u001b[0mfh\u001b[0m \u001b[1;33m=\u001b[0m \u001b[0mbz2\u001b[0m\u001b[1;33m.\u001b[0m\u001b[0mBZ2File\u001b[0m\u001b[1;33m(\u001b[0m\u001b[0mfname\u001b[0m\u001b[1;33m,\u001b[0m \u001b[0mflag\u001b[0m\u001b[1;33m)\u001b[0m\u001b[1;33m\u001b[0m\u001b[1;33m\u001b[0m\u001b[0m\n\u001b[0;32m    391\u001b[0m         \u001b[1;32melse\u001b[0m\u001b[1;33m:\u001b[0m\u001b[1;33m\u001b[0m\u001b[1;33m\u001b[0m\u001b[0m\n\u001b[1;32m--> 392\u001b[1;33m             \u001b[0mfh\u001b[0m \u001b[1;33m=\u001b[0m \u001b[0mopen\u001b[0m\u001b[1;33m(\u001b[0m\u001b[0mfname\u001b[0m\u001b[1;33m,\u001b[0m \u001b[0mflag\u001b[0m\u001b[1;33m,\u001b[0m \u001b[0mencoding\u001b[0m\u001b[1;33m=\u001b[0m\u001b[0mencoding\u001b[0m\u001b[1;33m)\u001b[0m\u001b[1;33m\u001b[0m\u001b[1;33m\u001b[0m\u001b[0m\n\u001b[0m\u001b[0;32m    393\u001b[0m         \u001b[0mopened\u001b[0m \u001b[1;33m=\u001b[0m \u001b[1;32mTrue\u001b[0m\u001b[1;33m\u001b[0m\u001b[1;33m\u001b[0m\u001b[0m\n\u001b[0;32m    394\u001b[0m     \u001b[1;32melif\u001b[0m \u001b[0mhasattr\u001b[0m\u001b[1;33m(\u001b[0m\u001b[0mfname\u001b[0m\u001b[1;33m,\u001b[0m \u001b[1;34m'seek'\u001b[0m\u001b[1;33m)\u001b[0m\u001b[1;33m:\u001b[0m\u001b[1;33m\u001b[0m\u001b[1;33m\u001b[0m\u001b[0m\n",
      "\u001b[1;31mFileNotFoundError\u001b[0m: [Errno 2] No such file or directory: '/home/hummus/algorithms-other/LSTM/figures/learning/learning_performance_airline_-1_batchsize256_maxlen32_epochs4.png'"
     ]
    },
    {
     "data": {
      "image/png": "[encoded data removed]",
      "text/plain": [
       "<Figure size 720x360 with 1 Axes>"
      ]
     },
     "metadata": {
      "needs_background": "light"
     },
     "output_type": "display_data"
    }
   ],
   "source": [
    "# np.random.seed(seed) # do not modify-used to get reproducible data analysis results\n",
    "\n",
    "#-----Build LSTM model with Keras-----#      \n",
    "keras_model = lstm_closure(embedding_dim, units, batch_size, max_features, input_length) #function that references create_lstm_model() in its enclosing scope\n",
    "model = keras_model() # call to nested function in lstm_closure(...); returns Keras model\n",
    "history = model.fit(x_train, y_train, validation_split=test_size, epochs=epochs, batch_size=batch_size, verbose=2)\n",
    "min_epoch= plot_learning_performance(history, DATASET, samples, batch_size, max_len, epochs)\n",
    "print(\"Minimum validation loss is reached in epoch {}\".format(min_epoch))"
   ]
  },
  {
   "cell_type": "markdown",
   "metadata": {},
   "source": [
    "### 4.3 k-Fold Cross-validation"
   ]
  },
  {
   "cell_type": "code",
   "execution_count": 10,
   "metadata": {},
   "outputs": [
    {
     "name": "stdout",
     "output_type": "stream",
     "text": [
      "[CV]  ................................................................\n",
      "_________________________________________________________________\n",
      "Layer (type)                 Output Shape              Param #   \n",
      "=================================================================\n",
      "embedding_1 (Embedding)      (None, 32, 10000)         20000000  \n",
      "_________________________________________________________________\n",
      "spatial_dropout1d_1 (Spatial (None, 32, 10000)         0         \n",
      "_________________________________________________________________\n",
      "cu_dnnlstm_1 (CuDNNLSTM)     (None, 300)               12362400  \n",
      "_________________________________________________________________\n",
      "dense_2 (Dense)              (None, 100)               30100     \n",
      "_________________________________________________________________\n",
      "dense_3 (Dense)              (None, 2)                 202       \n",
      "=================================================================\n",
      "Total params: 32,392,702\n",
      "Trainable params: 32,392,702\n",
      "Non-trainable params: 0\n",
      "_________________________________________________________________\n",
      "None\n"
     ]
    },
    {
     "name": "stderr",
     "output_type": "stream",
     "text": [
      "[Parallel(n_jobs=1)]: Using backend SequentialBackend with 1 concurrent workers.\n"
     ]
    },
    {
     "name": "stdout",
     "output_type": "stream",
     "text": [
      "Epoch 1/4\n",
      " - 4s - loss: 0.4795 - acc: 0.8412\n",
      "Epoch 2/4\n",
      " - 4s - loss: 0.2650 - acc: 0.9303\n",
      "Epoch 3/4\n",
      " - 4s - loss: 0.1898 - acc: 0.9476\n",
      "Epoch 4/4\n",
      " - 4s - loss: 0.1413 - acc: 0.9594\n",
      "[CV] ................................................. , total=  15.9s\n",
      "[CV]  ................................................................\n",
      "_________________________________________________________________\n",
      "Layer (type)                 Output Shape              Param #   \n",
      "=================================================================\n",
      "embedding_2 (Embedding)      (None, 32, 10000)         20000000  \n",
      "_________________________________________________________________\n",
      "spatial_dropout1d_2 (Spatial (None, 32, 10000)         0         \n",
      "_________________________________________________________________\n",
      "cu_dnnlstm_2 (CuDNNLSTM)     (None, 300)               12362400  \n",
      "_________________________________________________________________\n",
      "dense_4 (Dense)              (None, 100)               30100     \n",
      "_________________________________________________________________\n",
      "dense_5 (Dense)              (None, 2)                 202       \n",
      "=================================================================\n",
      "Total params: 32,392,702\n",
      "Trainable params: 32,392,702\n",
      "Non-trainable params: 0\n",
      "_________________________________________________________________\n",
      "None\n"
     ]
    },
    {
     "name": "stderr",
     "output_type": "stream",
     "text": [
      "[Parallel(n_jobs=1)]: Done   1 out of   1 | elapsed:   17.0s remaining:    0.0s\n"
     ]
    },
    {
     "name": "stdout",
     "output_type": "stream",
     "text": [
      "Epoch 1/4\n",
      " - 4s - loss: 0.4545 - acc: 0.8633\n",
      "Epoch 2/4\n",
      " - 4s - loss: 0.2649 - acc: 0.9298\n",
      "Epoch 3/4\n",
      " - 4s - loss: 0.1902 - acc: 0.9477\n",
      "Epoch 4/4\n",
      " - 4s - loss: 0.1395 - acc: 0.9608\n",
      "[CV] ................................................. , total=  16.0s\n",
      "[CV]  ................................................................\n",
      "_________________________________________________________________\n",
      "Layer (type)                 Output Shape              Param #   \n",
      "=================================================================\n",
      "embedding_3 (Embedding)      (None, 32, 10000)         20000000  \n",
      "_________________________________________________________________\n",
      "spatial_dropout1d_3 (Spatial (None, 32, 10000)         0         \n",
      "_________________________________________________________________\n",
      "cu_dnnlstm_3 (CuDNNLSTM)     (None, 300)               12362400  \n",
      "_________________________________________________________________\n",
      "dense_6 (Dense)              (None, 100)               30100     \n",
      "_________________________________________________________________\n",
      "dense_7 (Dense)              (None, 2)                 202       \n",
      "=================================================================\n",
      "Total params: 32,392,702\n",
      "Trainable params: 32,392,702\n",
      "Non-trainable params: 0\n",
      "_________________________________________________________________\n",
      "None\n",
      "Epoch 1/4\n",
      " - 4s - loss: 0.4835 - acc: 0.8578\n",
      "Epoch 2/4\n",
      " - 4s - loss: 0.2682 - acc: 0.9300\n",
      "Epoch 3/4\n",
      " - 4s - loss: 0.1936 - acc: 0.9508\n",
      "Epoch 4/4\n",
      " - 4s - loss: 0.1381 - acc: 0.9616\n",
      "[CV] ................................................. , total=  16.0s\n",
      "[CV]  ................................................................\n",
      "_________________________________________________________________\n",
      "Layer (type)                 Output Shape              Param #   \n",
      "=================================================================\n",
      "embedding_4 (Embedding)      (None, 32, 10000)         20000000  \n",
      "_________________________________________________________________\n",
      "spatial_dropout1d_4 (Spatial (None, 32, 10000)         0         \n",
      "_________________________________________________________________\n",
      "cu_dnnlstm_4 (CuDNNLSTM)     (None, 300)               12362400  \n",
      "_________________________________________________________________\n",
      "dense_8 (Dense)              (None, 100)               30100     \n",
      "_________________________________________________________________\n",
      "dense_9 (Dense)              (None, 2)                 202       \n",
      "=================================================================\n",
      "Total params: 32,392,702\n",
      "Trainable params: 32,392,702\n",
      "Non-trainable params: 0\n",
      "_________________________________________________________________\n",
      "None\n",
      "Epoch 1/4\n",
      " - 5s - loss: 0.4917 - acc: 0.8277\n",
      "Epoch 2/4\n",
      " - 4s - loss: 0.2675 - acc: 0.9319\n",
      "Epoch 3/4\n",
      " - 4s - loss: 0.2012 - acc: 0.9461\n",
      "Epoch 4/4\n",
      " - 4s - loss: 0.1368 - acc: 0.9633\n",
      "[CV] ................................................. , total=  16.3s\n",
      "[CV]  ................................................................\n",
      "_________________________________________________________________\n",
      "Layer (type)                 Output Shape              Param #   \n",
      "=================================================================\n",
      "embedding_5 (Embedding)      (None, 32, 10000)         20000000  \n",
      "_________________________________________________________________\n",
      "spatial_dropout1d_5 (Spatial (None, 32, 10000)         0         \n",
      "_________________________________________________________________\n",
      "cu_dnnlstm_5 (CuDNNLSTM)     (None, 300)               12362400  \n",
      "_________________________________________________________________\n",
      "dense_10 (Dense)             (None, 100)               30100     \n",
      "_________________________________________________________________\n",
      "dense_11 (Dense)             (None, 2)                 202       \n",
      "=================================================================\n",
      "Total params: 32,392,702\n",
      "Trainable params: 32,392,702\n",
      "Non-trainable params: 0\n",
      "_________________________________________________________________\n",
      "None\n",
      "Epoch 1/4\n",
      " - 5s - loss: 0.4738 - acc: 0.8363\n",
      "Epoch 2/4\n",
      " - 4s - loss: 0.2812 - acc: 0.9277\n",
      "Epoch 3/4\n",
      " - 4s - loss: 0.2003 - acc: 0.9474\n",
      "Epoch 4/4\n",
      " - 4s - loss: 0.1434 - acc: 0.9624\n",
      "[CV] ................................................. , total=  16.5s\n",
      "[CV]  ................................................................\n",
      "_________________________________________________________________\n",
      "Layer (type)                 Output Shape              Param #   \n",
      "=================================================================\n",
      "embedding_6 (Embedding)      (None, 32, 10000)         20000000  \n",
      "_________________________________________________________________\n",
      "spatial_dropout1d_6 (Spatial (None, 32, 10000)         0         \n",
      "_________________________________________________________________\n",
      "cu_dnnlstm_6 (CuDNNLSTM)     (None, 300)               12362400  \n",
      "_________________________________________________________________\n",
      "dense_12 (Dense)             (None, 100)               30100     \n",
      "_________________________________________________________________\n",
      "dense_13 (Dense)             (None, 2)                 202       \n",
      "=================================================================\n",
      "Total params: 32,392,702\n",
      "Trainable params: 32,392,702\n",
      "Non-trainable params: 0\n",
      "_________________________________________________________________\n",
      "None\n",
      "Epoch 1/4\n",
      " - 5s - loss: 0.5136 - acc: 0.8381\n",
      "Epoch 2/4\n",
      " - 4s - loss: 0.2774 - acc: 0.9294\n",
      "Epoch 3/4\n",
      " - 4s - loss: 0.2132 - acc: 0.9444\n",
      "Epoch 4/4\n",
      " - 4s - loss: 0.1457 - acc: 0.9627\n",
      "[CV] ................................................. , total=  16.5s\n",
      "[CV]  ................................................................\n",
      "_________________________________________________________________\n",
      "Layer (type)                 Output Shape              Param #   \n",
      "=================================================================\n",
      "embedding_7 (Embedding)      (None, 32, 10000)         20000000  \n",
      "_________________________________________________________________\n",
      "spatial_dropout1d_7 (Spatial (None, 32, 10000)         0         \n",
      "_________________________________________________________________\n",
      "cu_dnnlstm_7 (CuDNNLSTM)     (None, 300)               12362400  \n",
      "_________________________________________________________________\n",
      "dense_14 (Dense)             (None, 100)               30100     \n",
      "_________________________________________________________________\n",
      "dense_15 (Dense)             (None, 2)                 202       \n",
      "=================================================================\n",
      "Total params: 32,392,702\n",
      "Trainable params: 32,392,702\n",
      "Non-trainable params: 0\n",
      "_________________________________________________________________\n",
      "None\n",
      "Epoch 1/4\n",
      " - 5s - loss: 0.4866 - acc: 0.8462\n",
      "Epoch 2/4\n",
      " - 4s - loss: 0.2671 - acc: 0.9323\n",
      "Epoch 3/4\n",
      " - 4s - loss: 0.1952 - acc: 0.9485\n",
      "Epoch 4/4\n",
      " - 4s - loss: 0.1415 - acc: 0.9600\n",
      "[CV] ................................................. , total=  16.5s\n",
      "[CV]  ................................................................\n",
      "_________________________________________________________________\n",
      "Layer (type)                 Output Shape              Param #   \n",
      "=================================================================\n",
      "embedding_8 (Embedding)      (None, 32, 10000)         20000000  \n",
      "_________________________________________________________________\n",
      "spatial_dropout1d_8 (Spatial (None, 32, 10000)         0         \n",
      "_________________________________________________________________\n",
      "cu_dnnlstm_8 (CuDNNLSTM)     (None, 300)               12362400  \n",
      "_________________________________________________________________\n",
      "dense_16 (Dense)             (None, 100)               30100     \n",
      "_________________________________________________________________\n",
      "dense_17 (Dense)             (None, 2)                 202       \n",
      "=================================================================\n",
      "Total params: 32,392,702\n",
      "Trainable params: 32,392,702\n",
      "Non-trainable params: 0\n",
      "_________________________________________________________________\n",
      "None\n",
      "Epoch 1/4\n",
      " - 5s - loss: 0.4864 - acc: 0.8442\n",
      "Epoch 2/4\n",
      " - 4s - loss: 0.2662 - acc: 0.9295\n",
      "Epoch 3/4\n",
      " - 4s - loss: 0.1886 - acc: 0.9476\n",
      "Epoch 4/4\n",
      " - 4s - loss: 0.1327 - acc: 0.9627\n",
      "[CV] ................................................. , total=  16.9s\n",
      "[CV]  ................................................................\n",
      "_________________________________________________________________\n",
      "Layer (type)                 Output Shape              Param #   \n",
      "=================================================================\n",
      "embedding_9 (Embedding)      (None, 32, 10000)         20000000  \n",
      "_________________________________________________________________\n",
      "spatial_dropout1d_9 (Spatial (None, 32, 10000)         0         \n",
      "_________________________________________________________________\n",
      "cu_dnnlstm_9 (CuDNNLSTM)     (None, 300)               12362400  \n",
      "_________________________________________________________________\n",
      "dense_18 (Dense)             (None, 100)               30100     \n",
      "_________________________________________________________________\n",
      "dense_19 (Dense)             (None, 2)                 202       \n",
      "=================================================================\n",
      "Total params: 32,392,702\n",
      "Trainable params: 32,392,702\n",
      "Non-trainable params: 0\n",
      "_________________________________________________________________\n",
      "None\n"
     ]
    },
    {
     "name": "stdout",
     "output_type": "stream",
     "text": [
      "Epoch 1/4\n",
      " - 5s - loss: 0.4639 - acc: 0.8536\n",
      "Epoch 2/4\n",
      " - 4s - loss: 0.2594 - acc: 0.9327\n",
      "Epoch 3/4\n",
      " - 4s - loss: 0.1901 - acc: 0.9491\n",
      "Epoch 4/4\n",
      " - 4s - loss: 0.1363 - acc: 0.9618\n",
      "[CV] ................................................. , total=  16.8s\n",
      "[CV]  ................................................................\n",
      "_________________________________________________________________\n",
      "Layer (type)                 Output Shape              Param #   \n",
      "=================================================================\n",
      "embedding_10 (Embedding)     (None, 32, 10000)         20000000  \n",
      "_________________________________________________________________\n",
      "spatial_dropout1d_10 (Spatia (None, 32, 10000)         0         \n",
      "_________________________________________________________________\n",
      "cu_dnnlstm_10 (CuDNNLSTM)    (None, 300)               12362400  \n",
      "_________________________________________________________________\n",
      "dense_20 (Dense)             (None, 100)               30100     \n",
      "_________________________________________________________________\n",
      "dense_21 (Dense)             (None, 2)                 202       \n",
      "=================================================================\n",
      "Total params: 32,392,702\n",
      "Trainable params: 32,392,702\n",
      "Non-trainable params: 0\n",
      "_________________________________________________________________\n",
      "None\n",
      "Epoch 1/4\n",
      " - 5s - loss: 0.4788 - acc: 0.8434\n",
      "Epoch 2/4\n",
      " - 4s - loss: 0.2629 - acc: 0.9330\n",
      "Epoch 3/4\n",
      " - 4s - loss: 0.1921 - acc: 0.9462\n",
      "Epoch 4/4\n",
      " - 4s - loss: 0.1326 - acc: 0.9631\n",
      "[CV] ................................................. , total=  17.1s\n"
     ]
    },
    {
     "name": "stderr",
     "output_type": "stream",
     "text": [
      "[Parallel(n_jobs=1)]: Done  10 out of  10 | elapsed:  2.9min finished\n"
     ]
    }
   ],
   "source": [
    "#-----Perform cross-validation with Scikit Learn-----#    \n",
    "classifier = KerasClassifier(build_fn= keras_model, epochs = epochs, batch_size=batch_size, verbose = 2)\n",
    "scores = cross_validate(classifier, x_train, y_train, cv=splits, verbose =2)"
   ]
  },
  {
   "cell_type": "code",
   "execution_count": 11,
   "metadata": {},
   "outputs": [
    {
     "name": "stdout",
     "output_type": "stream",
     "text": [
      "{'fit_time': array([15.63430357, 15.7658484 , 15.72330427, 15.99265671, 16.10955334,\n",
      "       16.06027389, 16.11552429, 16.43521762, 16.28664494, 16.56318951]), 'score_time': array([0.24787045, 0.27381516, 0.29502368, 0.3397994 , 0.37056661,\n",
      "       0.39848733, 0.43276644, 0.47645783, 0.50714874, 0.54306364]), 'test_score': array([0.90760346, 0.93166506, 0.92877767, 0.91618497, 0.91618497,\n",
      "       0.92100193, 0.89402697, 0.91040462, 0.92003854, 0.8911368 ]), 'train_score': array([0.98030822, 0.98052226, 0.98202055, 0.97731407, 0.98041734,\n",
      "       0.98223649, 0.97314072, 0.97431782, 0.9835206 , 0.96918138])}\n",
      "(k-fold model performance, w/o optimisation) Accuracy = 0.9137 , SD = +/- 0.0253\n"
     ]
    }
   ],
   "source": [
    "print(scores)\n",
    "# print(sorted(scores.keys())) \n",
    "\n",
    "#using K-fold Cross-validation  as a measure of model performance\n",
    "print(\"(k-fold model performance, w/o optimisation) Accuracy = %0.4f , SD = +/- %0.4f\" % (scores['test_score'].mean(), scores['test_score'].std() * 2))\n"
   ]
  },
  {
   "cell_type": "markdown",
   "metadata": {},
   "source": [
    "# 5 - Model Metrics\n"
   ]
  },
  {
   "cell_type": "markdown",
   "metadata": {},
   "source": [
    "### 5.1 Run Metrics- using Keras predict and without cross validation"
   ]
  },
  {
   "cell_type": "code",
   "execution_count": 12,
   "metadata": {},
   "outputs": [],
   "source": [
    "# %run metrics_LSTM.py"
   ]
  },
  {
   "cell_type": "code",
   "execution_count": 9,
   "metadata": {
    "scrolled": false
   },
   "outputs": [
    {
     "name": "stdout",
     "output_type": "stream",
     "text": [
      "Classification accuracy for positive tweets 74.15254237288136 %\n",
      "Classification accuracy for negative tweets 96.62309368191721 %\n"
     ]
    },
    {
     "ename": "FileNotFoundError",
     "evalue": "[Errno 2] No such file or directory: '/home/hummus/algorithms-other/LSTM/figures/auc_roc/auc_roc_airline_-1_batchsize256_maxlen32_epochs4.png'",
     "output_type": "error",
     "traceback": [
      "\u001b[1;31m---------------------------------------------------------------------------\u001b[0m",
      "\u001b[1;31mFileNotFoundError\u001b[0m                         Traceback (most recent call last)",
      "\u001b[1;32m<ipython-input-9-ccc47d845e5c>\u001b[0m in \u001b[0;36m<module>\u001b[1;34m\u001b[0m\n\u001b[0;32m     13\u001b[0m \u001b[1;31m#-----ROC/AUC-----#\u001b[0m\u001b[1;33m\u001b[0m\u001b[1;33m\u001b[0m\u001b[1;33m\u001b[0m\u001b[0m\n\u001b[0;32m     14\u001b[0m \u001b[0mauc_keras\u001b[0m\u001b[1;33m,\u001b[0m\u001b[0mfpr_keras\u001b[0m\u001b[1;33m,\u001b[0m\u001b[0mtpr_keras\u001b[0m\u001b[1;33m=\u001b[0m\u001b[0mauc_roc\u001b[0m\u001b[1;33m(\u001b[0m\u001b[0mx_test\u001b[0m\u001b[1;33m,\u001b[0m\u001b[0my_test\u001b[0m\u001b[1;33m,\u001b[0m\u001b[0mmodel\u001b[0m\u001b[1;33m,\u001b[0m \u001b[0mmax_len\u001b[0m\u001b[1;33m)\u001b[0m\u001b[1;33m\u001b[0m\u001b[1;33m\u001b[0m\u001b[0m\n\u001b[1;32m---> 15\u001b[1;33m \u001b[0mplot_LSTM\u001b[0m\u001b[1;33m=\u001b[0m\u001b[0mplot_auc_roc\u001b[0m\u001b[1;33m(\u001b[0m\u001b[0mauc_keras\u001b[0m\u001b[1;33m,\u001b[0m\u001b[0mfpr_keras\u001b[0m\u001b[1;33m,\u001b[0m\u001b[0mtpr_keras\u001b[0m\u001b[1;33m,\u001b[0m \u001b[0mDATASET\u001b[0m\u001b[1;33m,\u001b[0m \u001b[0msamples\u001b[0m\u001b[1;33m,\u001b[0m \u001b[0mbatch_size\u001b[0m\u001b[1;33m,\u001b[0m \u001b[0mmax_len\u001b[0m\u001b[1;33m,\u001b[0m\u001b[0mepochs\u001b[0m\u001b[1;33m)\u001b[0m\u001b[1;33m\u001b[0m\u001b[1;33m\u001b[0m\u001b[0m\n\u001b[0m\u001b[0;32m     16\u001b[0m \u001b[1;33m\u001b[0m\u001b[0m\n\u001b[0;32m     17\u001b[0m \u001b[1;31m#-----Confusion Matrix-----#\u001b[0m\u001b[1;33m\u001b[0m\u001b[1;33m\u001b[0m\u001b[1;33m\u001b[0m\u001b[0m\n",
      "\u001b[1;32mE:\\Classification\\algorithms-other\\LSTM\\metrics_LSTM.py\u001b[0m in \u001b[0;36mplot_auc_roc\u001b[1;34m(auc_keras, fpr_keras, tpr_keras, dataset, samples, batch_size, max_len, epochs)\u001b[0m\n\u001b[0;32m    147\u001b[0m     \u001b[0mplt\u001b[0m\u001b[1;33m.\u001b[0m\u001b[0mlegend\u001b[0m\u001b[1;33m(\u001b[0m\u001b[0mloc\u001b[0m\u001b[1;33m=\u001b[0m\u001b[1;34m'lower right'\u001b[0m\u001b[1;33m)\u001b[0m\u001b[1;33m\u001b[0m\u001b[1;33m\u001b[0m\u001b[0m\n\u001b[0;32m    148\u001b[0m     \u001b[1;31m##############################################################################\u001b[0m\u001b[1;33m\u001b[0m\u001b[1;33m\u001b[0m\u001b[1;33m\u001b[0m\u001b[0m\n\u001b[1;32m--> 149\u001b[1;33m     \u001b[0mplt\u001b[0m\u001b[1;33m.\u001b[0m\u001b[0msavefig\u001b[0m\u001b[1;33m(\u001b[0m\u001b[1;34mf'/home/hummus/algorithms-other/LSTM/figures/auc_roc/auc_roc_{dataset}_{samples}_batchsize{batch_size}_maxlen{max_len}_epochs{epochs}.png'\u001b[0m\u001b[1;33m)\u001b[0m\u001b[1;33m\u001b[0m\u001b[1;33m\u001b[0m\u001b[0m\n\u001b[0m\u001b[0;32m    150\u001b[0m     \u001b[1;32mreturn\u001b[0m \u001b[0mplt\u001b[0m\u001b[1;33m.\u001b[0m\u001b[0mshow\u001b[0m\u001b[1;33m(\u001b[0m\u001b[1;33m)\u001b[0m\u001b[1;33m\u001b[0m\u001b[1;33m\u001b[0m\u001b[0m\n\u001b[0;32m    151\u001b[0m \u001b[1;33m\u001b[0m\u001b[0m\n",
      "\u001b[1;32m~\\.conda\\envs\\tf-gpu\\lib\\site-packages\\matplotlib\\pyplot.py\u001b[0m in \u001b[0;36msavefig\u001b[1;34m(*args, **kwargs)\u001b[0m\n\u001b[0;32m    687\u001b[0m \u001b[1;32mdef\u001b[0m \u001b[0msavefig\u001b[0m\u001b[1;33m(\u001b[0m\u001b[1;33m*\u001b[0m\u001b[0margs\u001b[0m\u001b[1;33m,\u001b[0m \u001b[1;33m**\u001b[0m\u001b[0mkwargs\u001b[0m\u001b[1;33m)\u001b[0m\u001b[1;33m:\u001b[0m\u001b[1;33m\u001b[0m\u001b[1;33m\u001b[0m\u001b[0m\n\u001b[0;32m    688\u001b[0m     \u001b[0mfig\u001b[0m \u001b[1;33m=\u001b[0m \u001b[0mgcf\u001b[0m\u001b[1;33m(\u001b[0m\u001b[1;33m)\u001b[0m\u001b[1;33m\u001b[0m\u001b[1;33m\u001b[0m\u001b[0m\n\u001b[1;32m--> 689\u001b[1;33m     \u001b[0mres\u001b[0m \u001b[1;33m=\u001b[0m \u001b[0mfig\u001b[0m\u001b[1;33m.\u001b[0m\u001b[0msavefig\u001b[0m\u001b[1;33m(\u001b[0m\u001b[1;33m*\u001b[0m\u001b[0margs\u001b[0m\u001b[1;33m,\u001b[0m \u001b[1;33m**\u001b[0m\u001b[0mkwargs\u001b[0m\u001b[1;33m)\u001b[0m\u001b[1;33m\u001b[0m\u001b[1;33m\u001b[0m\u001b[0m\n\u001b[0m\u001b[0;32m    690\u001b[0m     \u001b[0mfig\u001b[0m\u001b[1;33m.\u001b[0m\u001b[0mcanvas\u001b[0m\u001b[1;33m.\u001b[0m\u001b[0mdraw_idle\u001b[0m\u001b[1;33m(\u001b[0m\u001b[1;33m)\u001b[0m   \u001b[1;31m# need this if 'transparent=True' to reset colors\u001b[0m\u001b[1;33m\u001b[0m\u001b[1;33m\u001b[0m\u001b[0m\n\u001b[0;32m    691\u001b[0m     \u001b[1;32mreturn\u001b[0m \u001b[0mres\u001b[0m\u001b[1;33m\u001b[0m\u001b[1;33m\u001b[0m\u001b[0m\n",
      "\u001b[1;32m~\\.conda\\envs\\tf-gpu\\lib\\site-packages\\matplotlib\\figure.py\u001b[0m in \u001b[0;36msavefig\u001b[1;34m(self, fname, frameon, transparent, **kwargs)\u001b[0m\n\u001b[0;32m   2092\u001b[0m             \u001b[0mself\u001b[0m\u001b[1;33m.\u001b[0m\u001b[0mset_frameon\u001b[0m\u001b[1;33m(\u001b[0m\u001b[0mframeon\u001b[0m\u001b[1;33m)\u001b[0m\u001b[1;33m\u001b[0m\u001b[1;33m\u001b[0m\u001b[0m\n\u001b[0;32m   2093\u001b[0m \u001b[1;33m\u001b[0m\u001b[0m\n\u001b[1;32m-> 2094\u001b[1;33m         \u001b[0mself\u001b[0m\u001b[1;33m.\u001b[0m\u001b[0mcanvas\u001b[0m\u001b[1;33m.\u001b[0m\u001b[0mprint_figure\u001b[0m\u001b[1;33m(\u001b[0m\u001b[0mfname\u001b[0m\u001b[1;33m,\u001b[0m \u001b[1;33m**\u001b[0m\u001b[0mkwargs\u001b[0m\u001b[1;33m)\u001b[0m\u001b[1;33m\u001b[0m\u001b[1;33m\u001b[0m\u001b[0m\n\u001b[0m\u001b[0;32m   2095\u001b[0m \u001b[1;33m\u001b[0m\u001b[0m\n\u001b[0;32m   2096\u001b[0m         \u001b[1;32mif\u001b[0m \u001b[0mframeon\u001b[0m\u001b[1;33m:\u001b[0m\u001b[1;33m\u001b[0m\u001b[1;33m\u001b[0m\u001b[0m\n",
      "\u001b[1;32m~\\.conda\\envs\\tf-gpu\\lib\\site-packages\\matplotlib\\backend_bases.py\u001b[0m in \u001b[0;36mprint_figure\u001b[1;34m(self, filename, dpi, facecolor, edgecolor, orientation, format, bbox_inches, **kwargs)\u001b[0m\n\u001b[0;32m   2073\u001b[0m                     \u001b[0morientation\u001b[0m\u001b[1;33m=\u001b[0m\u001b[0morientation\u001b[0m\u001b[1;33m,\u001b[0m\u001b[1;33m\u001b[0m\u001b[1;33m\u001b[0m\u001b[0m\n\u001b[0;32m   2074\u001b[0m                     \u001b[0mbbox_inches_restore\u001b[0m\u001b[1;33m=\u001b[0m\u001b[0m_bbox_inches_restore\u001b[0m\u001b[1;33m,\u001b[0m\u001b[1;33m\u001b[0m\u001b[1;33m\u001b[0m\u001b[0m\n\u001b[1;32m-> 2075\u001b[1;33m                     **kwargs)\n\u001b[0m\u001b[0;32m   2076\u001b[0m             \u001b[1;32mfinally\u001b[0m\u001b[1;33m:\u001b[0m\u001b[1;33m\u001b[0m\u001b[1;33m\u001b[0m\u001b[0m\n\u001b[0;32m   2077\u001b[0m                 \u001b[1;32mif\u001b[0m \u001b[0mbbox_inches\u001b[0m \u001b[1;32mand\u001b[0m \u001b[0mrestore_bbox\u001b[0m\u001b[1;33m:\u001b[0m\u001b[1;33m\u001b[0m\u001b[1;33m\u001b[0m\u001b[0m\n",
      "\u001b[1;32m~\\.conda\\envs\\tf-gpu\\lib\\site-packages\\matplotlib\\backends\\backend_agg.py\u001b[0m in \u001b[0;36mprint_png\u001b[1;34m(self, filename_or_obj, *args, **kwargs)\u001b[0m\n\u001b[0;32m    519\u001b[0m \u001b[1;33m\u001b[0m\u001b[0m\n\u001b[0;32m    520\u001b[0m         \u001b[1;32mwith\u001b[0m \u001b[0mcbook\u001b[0m\u001b[1;33m.\u001b[0m\u001b[0m_setattr_cm\u001b[0m\u001b[1;33m(\u001b[0m\u001b[0mrenderer\u001b[0m\u001b[1;33m,\u001b[0m \u001b[0mdpi\u001b[0m\u001b[1;33m=\u001b[0m\u001b[0mself\u001b[0m\u001b[1;33m.\u001b[0m\u001b[0mfigure\u001b[0m\u001b[1;33m.\u001b[0m\u001b[0mdpi\u001b[0m\u001b[1;33m)\u001b[0m\u001b[1;33m,\u001b[0m\u001b[0;31m \u001b[0m\u001b[0;31m\\\u001b[0m\u001b[1;33m\u001b[0m\u001b[1;33m\u001b[0m\u001b[0m\n\u001b[1;32m--> 521\u001b[1;33m                 \u001b[0mcbook\u001b[0m\u001b[1;33m.\u001b[0m\u001b[0mopen_file_cm\u001b[0m\u001b[1;33m(\u001b[0m\u001b[0mfilename_or_obj\u001b[0m\u001b[1;33m,\u001b[0m \u001b[1;34m\"wb\"\u001b[0m\u001b[1;33m)\u001b[0m \u001b[1;32mas\u001b[0m \u001b[0mfh\u001b[0m\u001b[1;33m:\u001b[0m\u001b[1;33m\u001b[0m\u001b[1;33m\u001b[0m\u001b[0m\n\u001b[0m\u001b[0;32m    522\u001b[0m             _png.write_png(renderer._renderer, fh,\n\u001b[0;32m    523\u001b[0m                             self.figure.dpi, metadata=metadata)\n",
      "\u001b[1;32m~\\.conda\\envs\\tf-gpu\\lib\\contextlib.py\u001b[0m in \u001b[0;36m__enter__\u001b[1;34m(self)\u001b[0m\n\u001b[0;32m     79\u001b[0m     \u001b[1;32mdef\u001b[0m \u001b[0m__enter__\u001b[0m\u001b[1;33m(\u001b[0m\u001b[0mself\u001b[0m\u001b[1;33m)\u001b[0m\u001b[1;33m:\u001b[0m\u001b[1;33m\u001b[0m\u001b[1;33m\u001b[0m\u001b[0m\n\u001b[0;32m     80\u001b[0m         \u001b[1;32mtry\u001b[0m\u001b[1;33m:\u001b[0m\u001b[1;33m\u001b[0m\u001b[1;33m\u001b[0m\u001b[0m\n\u001b[1;32m---> 81\u001b[1;33m             \u001b[1;32mreturn\u001b[0m \u001b[0mnext\u001b[0m\u001b[1;33m(\u001b[0m\u001b[0mself\u001b[0m\u001b[1;33m.\u001b[0m\u001b[0mgen\u001b[0m\u001b[1;33m)\u001b[0m\u001b[1;33m\u001b[0m\u001b[1;33m\u001b[0m\u001b[0m\n\u001b[0m\u001b[0;32m     82\u001b[0m         \u001b[1;32mexcept\u001b[0m \u001b[0mStopIteration\u001b[0m\u001b[1;33m:\u001b[0m\u001b[1;33m\u001b[0m\u001b[1;33m\u001b[0m\u001b[0m\n\u001b[0;32m     83\u001b[0m             \u001b[1;32mraise\u001b[0m \u001b[0mRuntimeError\u001b[0m\u001b[1;33m(\u001b[0m\u001b[1;34m\"generator didn't yield\"\u001b[0m\u001b[1;33m)\u001b[0m \u001b[1;32mfrom\u001b[0m \u001b[1;32mNone\u001b[0m\u001b[1;33m\u001b[0m\u001b[1;33m\u001b[0m\u001b[0m\n",
      "\u001b[1;32m~\\.conda\\envs\\tf-gpu\\lib\\site-packages\\matplotlib\\cbook\\__init__.py\u001b[0m in \u001b[0;36mopen_file_cm\u001b[1;34m(path_or_file, mode, encoding)\u001b[0m\n\u001b[0;32m    405\u001b[0m \u001b[1;32mdef\u001b[0m \u001b[0mopen_file_cm\u001b[0m\u001b[1;33m(\u001b[0m\u001b[0mpath_or_file\u001b[0m\u001b[1;33m,\u001b[0m \u001b[0mmode\u001b[0m\u001b[1;33m=\u001b[0m\u001b[1;34m\"r\"\u001b[0m\u001b[1;33m,\u001b[0m \u001b[0mencoding\u001b[0m\u001b[1;33m=\u001b[0m\u001b[1;32mNone\u001b[0m\u001b[1;33m)\u001b[0m\u001b[1;33m:\u001b[0m\u001b[1;33m\u001b[0m\u001b[1;33m\u001b[0m\u001b[0m\n\u001b[0;32m    406\u001b[0m     \u001b[1;34mr\"\"\"Pass through file objects and context-manage `.PathLike`\\s.\"\"\"\u001b[0m\u001b[1;33m\u001b[0m\u001b[1;33m\u001b[0m\u001b[0m\n\u001b[1;32m--> 407\u001b[1;33m     \u001b[0mfh\u001b[0m\u001b[1;33m,\u001b[0m \u001b[0mopened\u001b[0m \u001b[1;33m=\u001b[0m \u001b[0mto_filehandle\u001b[0m\u001b[1;33m(\u001b[0m\u001b[0mpath_or_file\u001b[0m\u001b[1;33m,\u001b[0m \u001b[0mmode\u001b[0m\u001b[1;33m,\u001b[0m \u001b[1;32mTrue\u001b[0m\u001b[1;33m,\u001b[0m \u001b[0mencoding\u001b[0m\u001b[1;33m)\u001b[0m\u001b[1;33m\u001b[0m\u001b[1;33m\u001b[0m\u001b[0m\n\u001b[0m\u001b[0;32m    408\u001b[0m     \u001b[1;32mif\u001b[0m \u001b[0mopened\u001b[0m\u001b[1;33m:\u001b[0m\u001b[1;33m\u001b[0m\u001b[1;33m\u001b[0m\u001b[0m\n\u001b[0;32m    409\u001b[0m         \u001b[1;32mwith\u001b[0m \u001b[0mfh\u001b[0m\u001b[1;33m:\u001b[0m\u001b[1;33m\u001b[0m\u001b[1;33m\u001b[0m\u001b[0m\n",
      "\u001b[1;32m~\\.conda\\envs\\tf-gpu\\lib\\site-packages\\matplotlib\\cbook\\__init__.py\u001b[0m in \u001b[0;36mto_filehandle\u001b[1;34m(fname, flag, return_opened, encoding)\u001b[0m\n\u001b[0;32m    390\u001b[0m             \u001b[0mfh\u001b[0m \u001b[1;33m=\u001b[0m \u001b[0mbz2\u001b[0m\u001b[1;33m.\u001b[0m\u001b[0mBZ2File\u001b[0m\u001b[1;33m(\u001b[0m\u001b[0mfname\u001b[0m\u001b[1;33m,\u001b[0m \u001b[0mflag\u001b[0m\u001b[1;33m)\u001b[0m\u001b[1;33m\u001b[0m\u001b[1;33m\u001b[0m\u001b[0m\n\u001b[0;32m    391\u001b[0m         \u001b[1;32melse\u001b[0m\u001b[1;33m:\u001b[0m\u001b[1;33m\u001b[0m\u001b[1;33m\u001b[0m\u001b[0m\n\u001b[1;32m--> 392\u001b[1;33m             \u001b[0mfh\u001b[0m \u001b[1;33m=\u001b[0m \u001b[0mopen\u001b[0m\u001b[1;33m(\u001b[0m\u001b[0mfname\u001b[0m\u001b[1;33m,\u001b[0m \u001b[0mflag\u001b[0m\u001b[1;33m,\u001b[0m \u001b[0mencoding\u001b[0m\u001b[1;33m=\u001b[0m\u001b[0mencoding\u001b[0m\u001b[1;33m)\u001b[0m\u001b[1;33m\u001b[0m\u001b[1;33m\u001b[0m\u001b[0m\n\u001b[0m\u001b[0;32m    393\u001b[0m         \u001b[0mopened\u001b[0m \u001b[1;33m=\u001b[0m \u001b[1;32mTrue\u001b[0m\u001b[1;33m\u001b[0m\u001b[1;33m\u001b[0m\u001b[0m\n\u001b[0;32m    394\u001b[0m     \u001b[1;32melif\u001b[0m \u001b[0mhasattr\u001b[0m\u001b[1;33m(\u001b[0m\u001b[0mfname\u001b[0m\u001b[1;33m,\u001b[0m \u001b[1;34m'seek'\u001b[0m\u001b[1;33m)\u001b[0m\u001b[1;33m:\u001b[0m\u001b[1;33m\u001b[0m\u001b[1;33m\u001b[0m\u001b[0m\n",
      "\u001b[1;31mFileNotFoundError\u001b[0m: [Errno 2] No such file or directory: '/home/hummus/algorithms-other/LSTM/figures/auc_roc/auc_roc_airline_-1_batchsize256_maxlen32_epochs4.png'"
     ]
    },
    {
     "data": {
      "image/png": "[encoded data removed]",
      "text/plain": [
       "<Figure size 720x360 with 1 Axes>"
      ]
     },
     "metadata": {
      "needs_background": "light"
     },
     "output_type": "display_data"
    }
   ],
   "source": [
    "#-----Classification accuracy for positive and negative tweets-----#\n",
    "pos_correct, pos_cnt, neg_correct, neg_cnt = accuracy_neg_pos(x_test, y_test, model, max_len)\n",
    "print(\"Classification accuracy for positive tweets\", pos_correct/pos_cnt*100, \"%\")\n",
    "print(\"Classification accuracy for negative tweets\", neg_correct/neg_cnt*100, \"%\")\n",
    "\n",
    "\n",
    "# #-----k-fold validation accuracy scores-----#\n",
    "# print('Test scores (k-fold):', scores['test_score'])\n",
    "# print('Train scores (k-fold):', scores['train_score'])\n",
    "# #using K-fold Cross-validation  as a measure of model performance\n",
    "# print(\"(k-fold model performance, w/o optimisation) Accuracy = %0.4f , SD = +/- %0.4f\" % (scores['test_score'].mean(), scores['test_score'].std() * 2))\n",
    "\n",
    "#-----ROC/AUC-----#\n",
    "auc_keras,fpr_keras,tpr_keras=auc_roc(x_test,y_test,model, max_len)\n",
    "plot_LSTM=plot_auc_roc(auc_keras,fpr_keras,tpr_keras, DATASET, samples, batch_size, max_len,epochs)\n",
    "\n",
    "#-----Confusion Matrix-----#\n",
    "y_pred=keras_predict(x_test, 'all', model, max_len)\n",
    "# classifier.fit(x_train, y_train)\n",
    "# y_pred=classifier.predict_proba(x_test)\n",
    "predicted = np.argmax(y_pred, axis =1)\n",
    "actual = pd.Series(np.where(y_test!=0)[1]).values\n",
    "# print('Confusion Matrix:')\n",
    "# matrix=confusion_matrix(actual,predicted)\n",
    "# print(matrix)\n",
    "# plot_confusion_matrix(actual, predicted, classes=data.target.values,\n",
    "#                       title='Confusion matrix, without normalization')\n",
    "plot_confusion_matrix(actual, predicted, classes=data.target.values,normalize=True,\n",
    "                      title='Normalized confusion matrix')\n",
    "\n",
    "#-----Classification Report-----#\n",
    "report=classification_report(actual, predicted, digits =3) \n",
    "print('Classification Report:')\n",
    "print(report)\n",
    "\n",
    "print('Cross entropy:', log_loss(y_test,y_pred, normalize=True))\n",
    "print('Accuracy score:', accuracy_score(actual, predicted, normalize=True))\n",
    "\n",
    "\n",
    "\n",
    "\n",
    "# plt.figure(1)\n",
    "# plt.subplot(1,2,1)\n",
    "# plt.imshow(plot_matrix)\n",
    "\n",
    "# plt.subplot(1,2,2)\n",
    "# plt.imshow(plot)\n",
    "# plt.show()\n"
   ]
  },
  {
   "cell_type": "markdown",
   "metadata": {},
   "source": [
    "### 5.2 Run Metrics- using scikit-learn predict and with cross validation"
   ]
  },
  {
   "cell_type": "code",
   "execution_count": 14,
   "metadata": {},
   "outputs": [],
   "source": [
    "# %run metrics_LSTM.py"
   ]
  },
  {
   "cell_type": "code",
   "execution_count": 15,
   "metadata": {
    "scrolled": false
   },
   "outputs": [
    {
     "name": "stdout",
     "output_type": "stream",
     "text": [
      "_________________________________________________________________\n",
      "Layer (type)                 Output Shape              Param #   \n",
      "=================================================================\n",
      "embedding_11 (Embedding)     (None, 32, 10000)         20000000  \n",
      "_________________________________________________________________\n",
      "spatial_dropout1d_11 (Spatia (None, 32, 10000)         0         \n",
      "_________________________________________________________________\n",
      "cu_dnnlstm_11 (CuDNNLSTM)    (None, 300)               12362400  \n",
      "_________________________________________________________________\n",
      "dense_22 (Dense)             (None, 100)               30100     \n",
      "_________________________________________________________________\n",
      "dense_23 (Dense)             (None, 2)                 202       \n",
      "=================================================================\n",
      "Total params: 32,392,702\n",
      "Trainable params: 32,392,702\n",
      "Non-trainable params: 0\n",
      "_________________________________________________________________\n",
      "None\n"
     ]
    },
    {
     "name": "stderr",
     "output_type": "stream",
     "text": [
      "/home/hummus/anaconda3/envs/tf_gpu/lib/python3.6/site-packages/tensorflow/python/ops/gradients_impl.py:112: UserWarning: Converting sparse IndexedSlices to a dense Tensor of unknown shape. This may consume a large amount of memory.\n",
      "  \"Converting sparse IndexedSlices to a dense Tensor of unknown shape. \"\n"
     ]
    },
    {
     "name": "stdout",
     "output_type": "stream",
     "text": [
      "Epoch 1/4\n",
      " - 6s - loss: 0.4851 - acc: 0.8325\n",
      "Epoch 2/4\n",
      " - 4s - loss: 0.2730 - acc: 0.9294\n",
      "Epoch 3/4\n",
      " - 4s - loss: 0.1927 - acc: 0.9482\n",
      "Epoch 4/4\n",
      " - 4s - loss: 0.1398 - acc: 0.9602\n",
      "Classification accuracy for positive tweets 79.23728813559322 %\n",
      "Classification accuracy for negative tweets 95.31590413943356 %\n"
     ]
    }
   ],
   "source": [
    "#-----Classification accuracy for positive and negative tweets-----#\n",
    "classifier.fit(x_train, y_train)\n",
    "predictions = classifier.predict_proba(x_test)#returns logits\n",
    "\n",
    "pos_correct, pos_cnt, neg_correct, neg_cnt = accuracy_neg_pos_scikit(x_test, y_test,predictions)\n",
    "print(\"Classification accuracy for positive tweets\", pos_correct/pos_cnt*100, \"%\")\n",
    "print(\"Classification accuracy for negative tweets\", neg_correct/neg_cnt*100, \"%\")\n",
    "\n",
    "\n",
    "# #-----k-fold validation accuracy scores-----#\n",
    "# print('Test scores (k-fold):', scores['test_score'])\n",
    "# print('Train scores (k-fold):', scores['train_score'])\n",
    "\n",
    "#-----ROC/AUC-----#\n",
    "# auc_keras,fpr_keras,tpr_keras=auc_roc(x_test,y_test,model, max_len)\n",
    "# plot=plot_auc_roc(auc_keras,fpr_keras,tpr_keras, DATASET, samples, batch_size, max_len,epochs)\n",
    "\n",
    "# #-----Confusion Matrix-----#\n",
    "# # y_pred=keras_predict(x_test, 'all', model, max_len)\n",
    "# classifier.fit(x_train, y_train)\n",
    "# y_pred=classifier.predict_proba(x_test)\n",
    "# predicted = np.argmax(y_pred, axis =1)\n",
    "# actual = pd.Series(np.where(y_test!=0)[1]).values\n",
    "# # print('Confusion Matrix:')\n",
    "# # matrix=confusion_matrix(actual,predicted)\n",
    "# # print(matrix)\n",
    "# # plot_confusion_matrix(actual, predicted, classes=data.target.values,\n",
    "# #                       title='Confusion matrix, without normalization')\n",
    "# plot_confusion_matrix(actual, predicted, classes=data.target.values,normalize=True,\n",
    "#                       title='Normalized confusion matrix')\n",
    "# #-----Classification Report-----#\n",
    "# report=classification_report(actual, predicted) \n",
    "# print('Classification Report:')\n",
    "# print(report)\n",
    "\n",
    "# print('Cross entropy:', log_loss(y_test,y_pred, normalize=True))\n",
    "# print('Accuracy score:', accuracy_score(actual, predicted, normalize=True))"
   ]
  },
  {
   "cell_type": "code",
   "execution_count": 16,
   "metadata": {},
   "outputs": [],
   "source": [
    "# print(len(predictions))\n",
    "# predicted_sent_index = np.argmax(predictions[x])\n",
    "# print(predicted_sent_index)"
   ]
  },
  {
   "cell_type": "markdown",
   "metadata": {},
   "source": [
    "# 6 - Display Predictions  ##"
   ]
  },
  {
   "cell_type": "markdown",
   "metadata": {},
   "source": [
    "### 6.1 - Display predictions on  ***test set***"
   ]
  },
  {
   "cell_type": "code",
   "execution_count": 17,
   "metadata": {
    "scrolled": true
   },
   "outputs": [
    {
     "data": {
      "application/vnd.jupyter.widget-view+json": {
       "model_id": "e24ba24d7c8a4430a84a8b9cc9e64386",
       "version_major": 2,
       "version_minor": 0
      },
      "text/plain": [
       "QgridWidget(grid_options={'fullWidthRows': True, 'syncColumnCellResize': True, 'forceFitColumns': True, 'defau…"
      ]
     },
     "metadata": {},
     "output_type": "display_data"
    }
   ],
   "source": [
    "df = display_predictions(x_test, tokenizer, model,max_len)\n",
    "qgrid_widget = qgrid.show_grid(df)\n",
    "qgrid_widget"
   ]
  },
  {
   "cell_type": "markdown",
   "metadata": {},
   "source": [
    "### 6.2 Compare to expected labels"
   ]
  },
  {
   "cell_type": "code",
   "execution_count": 18,
   "metadata": {},
   "outputs": [
    {
     "name": "stdout",
     "output_type": "stream",
     "text": [
      "(1154, 1)\n"
     ]
    }
   ],
   "source": [
    "\n",
    "df_y_test=pd.DataFrame(actual,columns=['Labels'])\n",
    "df_y_test['Labels'] = df_y_test['Labels'].apply(lambda x: 'negative' if x == 1 else 'positive')\n",
    "print(df_y_test.shape)\n",
    "# df_y_test.head(100)"
   ]
  },
  {
   "cell_type": "code",
   "execution_count": 19,
   "metadata": {},
   "outputs": [
    {
     "data": {
      "text/html": [
       "<div>\n",
       "<style scoped>\n",
       "    .dataframe tbody tr th:only-of-type {\n",
       "        vertical-align: middle;\n",
       "    }\n",
       "\n",
       "    .dataframe tbody tr th {\n",
       "        vertical-align: top;\n",
       "    }\n",
       "\n",
       "    .dataframe thead th {\n",
       "        text-align: right;\n",
       "    }\n",
       "</style>\n",
       "<table border=\"1\" class=\"dataframe\">\n",
       "  <thead>\n",
       "    <tr style=\"text-align: right;\">\n",
       "      <th></th>\n",
       "      <th>Sentiment Probabilities</th>\n",
       "      <th>Text</th>\n",
       "      <th>Sentiment Prediction</th>\n",
       "      <th>Labels</th>\n",
       "    </tr>\n",
       "  </thead>\n",
       "  <tbody>\n",
       "    <tr>\n",
       "      <th>0</th>\n",
       "      <td>[0.0010022541, 0.99899775]</td>\n",
       "      <td>terrible response how about someone up the phone and calling is now hours with no luggage</td>\n",
       "      <td>negative</td>\n",
       "      <td>negative</td>\n",
       "    </tr>\n",
       "    <tr>\n",
       "      <th>1</th>\n",
       "      <td>[0.00014213975, 0.9998578]</td>\n",
       "      <td>asked her why needed to take tag off she said because i told you to expect a personal apology fr...</td>\n",
       "      <td>negative</td>\n",
       "      <td>negative</td>\n",
       "    </tr>\n",
       "    <tr>\n",
       "      <th>2</th>\n",
       "      <td>[0.0006919486, 0.999308]</td>\n",
       "      <td>how can i speak to a human need 2 find bag delayed website and 800 are telling me 2 different th...</td>\n",
       "      <td>negative</td>\n",
       "      <td>negative</td>\n",
       "    </tr>\n",
       "    <tr>\n",
       "      <th>3</th>\n",
       "      <td>[0.008559581, 0.9914404]</td>\n",
       "      <td>no first class passenger should have to pay for inflight wifi</td>\n",
       "      <td>negative</td>\n",
       "      <td>negative</td>\n",
       "    </tr>\n",
       "    <tr>\n",
       "      <th>4</th>\n",
       "      <td>[0.08639281, 0.9136072]</td>\n",
       "      <td>your loyalty team basically me off via phone but thanks maybe loyalty and get back to me lol</td>\n",
       "      <td>negative</td>\n",
       "      <td>negative</td>\n",
       "    </tr>\n",
       "  </tbody>\n",
       "</table>\n",
       "</div>"
      ],
      "text/plain": [
       "      Sentiment Probabilities  \\\n",
       "0  [0.0010022541, 0.99899775]   \n",
       "1  [0.00014213975, 0.9998578]   \n",
       "2    [0.0006919486, 0.999308]   \n",
       "3    [0.008559581, 0.9914404]   \n",
       "4     [0.08639281, 0.9136072]   \n",
       "\n",
       "                                                                                                  Text  \\\n",
       "0            terrible response how about someone up the phone and calling is now hours with no luggage   \n",
       "1  asked her why needed to take tag off she said because i told you to expect a personal apology fr...   \n",
       "2  how can i speak to a human need 2 find bag delayed website and 800 are telling me 2 different th...   \n",
       "3                                        no first class passenger should have to pay for inflight wifi   \n",
       "4         your loyalty team basically me off via phone but thanks maybe loyalty and get back to me lol   \n",
       "\n",
       "  Sentiment Prediction    Labels  \n",
       "0             negative  negative  \n",
       "1             negative  negative  \n",
       "2             negative  negative  \n",
       "3             negative  negative  \n",
       "4             negative  negative  "
      ]
     },
     "execution_count": 19,
     "metadata": {},
     "output_type": "execute_result"
    }
   ],
   "source": [
    "df= df.set_index(df_y_test.index)\n",
    "compare= pd.concat([df, df_y_test], axis =1)\n",
    "compare.head()\n"
   ]
  },
  {
   "cell_type": "markdown",
   "metadata": {},
   "source": [
    "### 6.2 Export predictions to csv file"
   ]
  },
  {
   "cell_type": "code",
   "execution_count": 20,
   "metadata": {},
   "outputs": [],
   "source": [
    "#export as csv\n",
    "compare.to_csv(f'/home/hummus/algorithms-other/LSTM/predictions/{DATASET}_{samples}_batchsize{batch_size}_maxlen{max_len}_epochs{epochs}.csv', index=False, header= True)"
   ]
  },
  {
   "cell_type": "markdown",
   "metadata": {},
   "source": [
    "## 7 - Save and Load Model"
   ]
  },
  {
   "cell_type": "markdown",
   "metadata": {},
   "source": [
    "#### 7.1 Set Filename to Save / Load Model"
   ]
  },
  {
   "cell_type": "code",
   "execution_count": 21,
   "metadata": {},
   "outputs": [],
   "source": [
    "def set_filename_keras():\n",
    "    path = '/home/hummus/algorithms-other/LSTM/saved_models/'\n",
    "    now = datetime.now()\n",
    "    file_name = f'{path}LSTM_keras_model_{DATASET.upper()}_{samples}_epochs{epochs}_batchsize{batch_size}_units{units}_maxlen{max_len}_emb{embedding_dim}_'\n",
    "    file_name += str(now.strftime(\"%d%m%Y_%H-%M-%S\"))\n",
    "    file_name += \".h5\"\n",
    "    return file_name\n",
    "\n",
    "def set_filename_parameters():\n",
    "    path = '/home/hummus/algorithms-other/LSTM/saved_models/'\n",
    "    now = datetime.now()\n",
    "    file_name = f'{path}LSTM_parameters_{DATASET.upper()}_{samples}_epochs{epochs}_batchsize{batch_size}_units{units}_maxlen{max_len}_emb{embedding_dim}_'\n",
    "    file_name += str(now.strftime(\"%d%m%Y_%H-%M-%S\"))\n",
    "    file_name += \".pkl\"\n",
    "    return file_name"
   ]
  },
  {
   "cell_type": "markdown",
   "metadata": {},
   "source": [
    "#### 7.2 - Save Model ##"
   ]
  },
  {
   "cell_type": "code",
   "execution_count": 22,
   "metadata": {},
   "outputs": [],
   "source": [
    "# save the parameters to disk using pickle\n",
    "filename = set_filename_parameters()\n",
    "with open(filename, 'wb') as f:\n",
    "    pickle.dump([data, y, x_train, x_test, y_train, y_test, batch_size, tokenizer, max_features, max_len, samples,epochs, auc_keras,fpr_keras,tpr_keras, scores, splits, DATASET] , f)\n",
    "\n",
    "# save the model to disk using keras/tf\n",
    "filename = set_filename_keras()\n",
    "model.save(filename)"
   ]
  },
  {
   "cell_type": "markdown",
   "metadata": {},
   "source": [
    "#### 7.3 - Load Model ##"
   ]
  },
  {
   "cell_type": "code",
   "execution_count": null,
   "metadata": {},
   "outputs": [],
   "source": [
    "# load the parameters from disk using pickle\n",
    "# path_load = '/home/hummus/algorithms-other/LSTM/saved_models/'\n",
    "path_load = '/home/hummus/algorithms-other/LSTM/saved_models/'\n",
    "pkl_file ='LSTM_parameters_ALL_-1_epochs4_batchsize256_units300_maxlen32_emb10000_16052019_14-36-30.pkl'\n",
    "with open (f'{path_load}{pkl_file}', 'rb') as f:\n",
    "    data, y, x_train, x_test, y_train, y_test, batch_size, tokenizer, max_features, max_len, samples,epochs, auc_keras,fpr_keras,tpr_keras, scores,splits, DATASET = pickle.load(f)\n",
    "\n",
    "# load the model from disk using keras/tf\n",
    "h5_file= 'LSTM_keras_model_ALL_-1_epochs4_batchsize256_units300_maxlen32_emb10000_16052019_14-36-30.h5'\n",
    "load_model = keras.models.load_model(f'{path_load}{h5_file}')\n",
    "model = load_model"
   ]
  },
  {
   "cell_type": "markdown",
   "metadata": {},
   "source": [
    "## 8 - Generalization ##\n",
    "\n",
    " Run trained model on unseen data."
   ]
  },
  {
   "cell_type": "markdown",
   "metadata": {},
   "source": [
    "### 8.1 Pre-process data ##"
   ]
  },
  {
   "cell_type": "code",
   "execution_count": null,
   "metadata": {},
   "outputs": [],
   "source": [
    "FILE_PATH_G ='/home/hummus/algorithms-other/data/all/test.tsv' #'/home/hummus/algorithms-other/data/all/test.tsv' \n",
    "DATASET_G= 'all'\n",
    "cols_g = [0,1,2] #columns to use from dataset (target and text columns)\n",
    "labels = False\n",
    "samples_g = -1 #read all data\n",
    "\n",
    "# FILE_PATH_G = '/home/hummus/algorithms-other/data/airline_tweets.csv' # 'E:/algorithms-other/self_drive_cars.csv' \n",
    "# DATASET_G= 'airline'\n",
    "# cols_g = [1,10] #columns to use from dataset (target and text columns)\n",
    "# samples_g = -1 #read all data\n",
    "\n",
    "#-----Pre-process and tokenize data into sequences-----#     \n",
    "data_g, pos_sent_size_g, neg_sent_size_g, neut_sent_size_g = data_preprocess(samples_g, DATASET_G, FILE_PATH_G, cols_g, labels)\n",
    "data_g = data_g.sort_values(by = 'id')\n",
    "sequences_g,tokenizer_g = keras_tokenizer(data_g, max_features,'text', max_len)\n",
    "\n",
    "if pos_sent_size_g or neg_sent_size_g or neut_sent_size_g != None:\n",
    "    target_g = pd.get_dummies(data_g['target']).values #dummy/indicator variable\n",
    "    \n",
    "print('Number of positive sentiments:', pos_sent_size_g)\n",
    "print('Number of negative sentiments:', neg_sent_size_g)\n",
    "print('Number of neutral sentiments:', neut_sent_size_g)\n",
    "\n",
    "# print(data_g.shape)\n",
    "# print(sequences_g.shape)\n",
    "# print(sequences.shape)\n",
    "\n",
    "pd.set_option('max_colwidth', 200) #sets columns width in DataFrame\n",
    "data_g.tail(10)\n"
   ]
  },
  {
   "cell_type": "code",
   "execution_count": null,
   "metadata": {},
   "outputs": [],
   "source": [
    "text = tokenizer.sequences_to_texts(sequences_g)\n",
    "text_df = pd.DataFrame()\n",
    "text_df['text'] =text\n",
    "text_df.tail()"
   ]
  },
  {
   "cell_type": "markdown",
   "metadata": {},
   "source": [
    "### 8.2 Detect language and remove non-english text"
   ]
  },
  {
   "cell_type": "code",
   "execution_count": null,
   "metadata": {},
   "outputs": [],
   "source": [
    "data_english_only=detect_language(data_g)\n",
    "data_g.head()"
   ]
  },
  {
   "cell_type": "markdown",
   "metadata": {},
   "source": [
    "### 8.3  Run trained model and predict sentiment on unseen data ##"
   ]
  },
  {
   "cell_type": "code",
   "execution_count": null,
   "metadata": {},
   "outputs": [],
   "source": [
    "# #predict values on unlabelled data\n",
    "# if pos_sent_size_g == None and neg_sent_size_g == None and neut_sent_size_g == None:\n",
    "\n",
    "#     test_data = pd.read_csv('E:/algorithms-other/data/all/test.tsv', sep ='\\t', header= None, names =['id','text','target']) # Keeping only the necessary columns\n",
    "#     test_data = test_data.sort_values(by = 'id')\n",
    "\n",
    "#     predictions_g=keras_predict(sequences_g,'all',model, max_len)\n",
    "#     dataset = pd.DataFrame({'pos':predictions_g[:,0],'neg':predictions_g[:,1]})\n",
    "#     probs= dataset[['pos','neg']]\n",
    "#     probs['prediction'] = probs.idxmax(axis=1)\n",
    "# #     probs['prediction'] = probs['sentiment'].apply(lambda x: 1 if x == 'neg' else 0)\n",
    "#     # # display test labels as 'pos' and 'neg' instead of integers-- this is for display purposes only\n",
    "#     sent_label = pd.DataFrame()\n",
    "#     sent_label['target'] = test_data['target'].apply(lambda x: 'neg' if x == 1 else 'pos') \n",
    "#     df_g = pd.concat([data_g, probs, sent_label], axis =1)\n",
    "#     target_g = pd.get_dummies(df_g['target']).values\n",
    "    \n",
    "   \n",
    "    \n",
    "# #predict values on labelled data\n",
    "# else:\n",
    "#     predictions_g=keras_predict(sequences_g,'all',model, max_len)\n",
    "#     df_g = display_predictions(sequences_g, tokenizer_g, model, max_len)\n",
    "\n",
    "# qgrid_widget_g = qgrid.show_grid(df_g)\n",
    "# qgrid_widget_g\n",
    "# pd.set_option('max_colwidth', 200) #sets columns width in DataFrame\n",
    "# # df_g['id'].astype('int')\n",
    "# test_data.tail()\n",
    "# # df_g.tail()\n",
    "# # df_g.info()"
   ]
  },
  {
   "cell_type": "code",
   "execution_count": null,
   "metadata": {},
   "outputs": [],
   "source": [
    "#predict values on unlabelled data\n",
    "if pos_sent_size_g == None and neg_sent_size_g == None and neut_sent_size_g == None:\n",
    "\n",
    "#     test_data = pd.read_csv('E:/algorithms-other/data/all/test.tsv', sep ='\\t', header= None, names =['id','text','target']) # Keeping only the necessary columns\n",
    "#     test_data = test_data.sort_values(by = 'id')\n",
    "\n",
    "    predictions_g=keras_predict(sequences_g,'all',model, max_len)\n",
    "    dataset = pd.DataFrame({'pos':predictions_g[:,0],'neg':predictions_g[:,1]})\n",
    "    probs= dataset[['pos','neg']]\n",
    "    probs['prediction'] = probs.idxmax(axis=1)\n",
    "#     probs['prediction'] = probs['sentiment'].apply(lambda x: 1 if x == 'neg' else 0)\n",
    "    # # display test labels as 'pos' and 'neg' instead of integers-- this is for display purposes only\n",
    "    sent_label = pd.DataFrame()\n",
    "    sent_label['target'] = data_g['test_label'].apply(lambda x: 'neg' if x == 1 else 'pos') \n",
    "    df_g = pd.concat([data_g, probs, sent_label], axis =1)\n",
    "    target_g = pd.get_dummies(df_g['target']).values\n",
    "    \n",
    "   \n",
    "    \n",
    "#predict values on labelled data\n",
    "else:\n",
    "    predictions_g=keras_predict(sequences_g,'all',model, max_len)\n",
    "    df_g = display_predictions(sequences_g, tokenizer_g, model, max_len)\n",
    "\n",
    "# qgrid_widget_g = qgrid.show_grid(df_g)\n",
    "# qgrid_widget_g\n",
    "pd.set_option('max_colwidth', 200) #sets columns width in DataFrame\n",
    "# df_g['id'].astype('int')\n",
    "df_g.tail()\n",
    "# df_g.info()"
   ]
  },
  {
   "cell_type": "code",
   "execution_count": null,
   "metadata": {},
   "outputs": [],
   "source": [
    "#-----Classification accuracy for positive and negative tweets-----#\n",
    "pos_correct_g, pos_cnt_g, neg_correct_g, neg_cnt_g = accuracy_neg_pos_test(df_g)\n",
    "print(\"Classification accuracy for positive tweets\", pos_correct_g/pos_cnt_g*100, \"%\")\n",
    "print(\"Classification accuracy for negative tweets\", neg_correct_g/neg_cnt_g*100, \"%\")\n",
    "\n",
    "#-----ROC/AUC-----#\n",
    "auc_keras,fpr_keras,tpr_keras, actual_g, predicted_g=auc_roc_test(df_g)\n",
    "plot=plot_auc_roc_test(auc_keras,fpr_keras,tpr_keras)\n",
    "\n",
    "# #-----Confusion Matrix-----#\n",
    "if pos_sent_size_g == None and neg_sent_size_g == None and neut_sent_size_g == None:\n",
    "    classes = target_g\n",
    "else:\n",
    "    classes = data_g.target.values\n",
    "\n",
    "matrix=plot_confusion_matrix_test(actual_g,predicted_g, classes=classes, normalize=True,\n",
    "                                   title='Normalized confusion matrix')\n",
    "\n",
    "# #-----Classification Report-----#\n",
    "report=classification_report(actual_g, predicted_g) \n",
    "print('Classification Report (generalization):')\n",
    "print(report)"
   ]
  },
  {
   "cell_type": "code",
   "execution_count": null,
   "metadata": {},
   "outputs": [],
   "source": [
    "# #-----Classification accuracy for positive and negative tweets-----#\n",
    "# pos_correct_g, pos_cnt_g, neg_correct_g, neg_cnt_g = accuracy_neg_pos(sequences_g, target_g, model, max_len)\n",
    "# print(\"Classification accuracy for positive tweets\", pos_correct_g/pos_cnt_g*100, \"%\")\n",
    "# print(\"Classification accuracy for negative tweets\", neg_correct_g/neg_cnt_g*100, \"%\")\n",
    "\n",
    "# #-----ROC/AUC-----#\n",
    "# auc_keras,fpr_keras,tpr_keras=auc_roc(sequences_g,target_g, model, max_len)\n",
    "# plot=plot_auc_roc(auc_keras,fpr_keras,tpr_keras, DATASET_G, samples, batch_size, max_len)\n",
    "\n",
    "# #-----Confusion Matrix-----#\n",
    "# predicted_g = np.argmax(predictions_g, axis =1)\n",
    "# actual_g = pd.Series(np.where(target_g!=0)[1]).values\n",
    "# matrix=confusion_matrix(actual_g,predicted_g)\n",
    "\n",
    "\n",
    "# if pos_sent_size_g == None and neg_sent_size_g == None and neut_sent_size_g == None:\n",
    "#     classes = target_g\n",
    "# else:\n",
    "#     classes = data_g.target.values\n",
    "\n",
    "# plot_confusion_matrix(actual_g, predicted_g, classes=classes,normalize=True,\n",
    "#                       title='Normalized confusion matrix')\n",
    "\n",
    "# #-----Classification Report-----#\n",
    "# report=classification_report(actual_g, predicted_g) \n",
    "# print('Classification Report (generalization):')\n",
    "# print(report)"
   ]
  },
  {
   "cell_type": "markdown",
   "metadata": {},
   "source": [
    "### 8.4 Export predictions to csv file"
   ]
  },
  {
   "cell_type": "code",
   "execution_count": null,
   "metadata": {},
   "outputs": [],
   "source": [
    "#export as csv\n",
    "file_path_export = f'/home/hummus/algorithms-other/LSTM/predictions/'\n",
    "now = datetime.now()\n",
    "time_stamp = str(now.strftime(\"%d%m%Y_%H-%M-%S\"))\n",
    "df_g.to_csv(f'{file_path_export}gen_{DATASET_G}_{samples}_unit{units}_batchsize{batch_size}_maxlen{max_len}_epochs{epochs}_embeddings{embedding_dim}_{time_stamp}.csv', index=False, header= True)"
   ]
  },
  {
   "cell_type": "code",
   "execution_count": null,
   "metadata": {},
   "outputs": [],
   "source": []
  }
 ],
 "metadata": {
  "kernelspec": {
   "display_name": "TensorFlow-GPU",
   "language": "python",
   "name": "tf-gpu"
  },
  "language_info": {
   "codemirror_mode": {
    "name": "ipython",
    "version": 3
   },
   "file_extension": ".py",
   "mimetype": "text/x-python",
   "name": "python",
   "nbconvert_exporter": "python",
   "pygments_lexer": "ipython3",
   "version": "3.6.8"
  }
 },
 "nbformat": 4,
 "nbformat_minor": 2
}
