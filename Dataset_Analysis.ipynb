{
 "cells": [
  {
   "cell_type": "code",
   "execution_count": 1,
   "metadata": {},
   "outputs": [],
   "source": [
    "import sys\n",
    "sys.path.append('../')\n",
    "\n",
    "from TextLabeller import *\n",
    "\n",
    "%matplotlib inline"
   ]
  },
  {
   "cell_type": "code",
   "execution_count": 2,
   "metadata": {},
   "outputs": [
    {
     "name": "stdout",
     "output_type": "stream",
     "text": [
      "304222\n"
     ]
    }
   ],
   "source": [
    "DATA = get_sentences('data/emnlp_news.txt')\n",
    "\n",
    "words = DATA\n",
    "\n",
    "print(len(DATA))\n"
   ]
  },
  {
   "cell_type": "code",
   "execution_count": 3,
   "metadata": {},
   "outputs": [
    {
     "ename": "NameError",
     "evalue": "name 'punctuations' is not defined",
     "output_type": "error",
     "traceback": [
      "\u001b[0;31m---------------------------------------------------------------------------\u001b[0m",
      "\u001b[0;31mNameError\u001b[0m                                 Traceback (most recent call last)",
      "\u001b[0;32m<ipython-input-3-0e7f07be9d55>\u001b[0m in \u001b[0;36m<module>\u001b[0;34m()\u001b[0m\n\u001b[1;32m      9\u001b[0m \u001b[0mlist_data_lengths\u001b[0m \u001b[0;34m=\u001b[0m \u001b[0;34m[\u001b[0m\u001b[0;34m]\u001b[0m\u001b[0;34m\u001b[0m\u001b[0m\n\u001b[1;32m     10\u001b[0m \u001b[0;32mfor\u001b[0m \u001b[0msen\u001b[0m \u001b[0;32min\u001b[0m \u001b[0mDATA\u001b[0m\u001b[0;34m:\u001b[0m\u001b[0;34m\u001b[0m\u001b[0m\n\u001b[0;32m---> 11\u001b[0;31m     \u001b[0mlist_data_lengths\u001b[0m\u001b[0;34m.\u001b[0m\u001b[0mappend\u001b[0m\u001b[0;34m(\u001b[0m\u001b[0mcount_len\u001b[0m\u001b[0;34m(\u001b[0m\u001b[0msen\u001b[0m\u001b[0;34m)\u001b[0m\u001b[0;34m)\u001b[0m\u001b[0;34m\u001b[0m\u001b[0m\n\u001b[0m\u001b[1;32m     12\u001b[0m \u001b[0mprint\u001b[0m\u001b[0;34m(\u001b[0m\u001b[0mmax\u001b[0m\u001b[0;34m(\u001b[0m\u001b[0mlist_data_lengths\u001b[0m\u001b[0;34m)\u001b[0m\u001b[0;34m)\u001b[0m\u001b[0;34m\u001b[0m\u001b[0m\n\u001b[1;32m     13\u001b[0m \u001b[0mprint\u001b[0m\u001b[0;34m(\u001b[0m\u001b[0mmin\u001b[0m\u001b[0;34m(\u001b[0m\u001b[0mlist_data_lengths\u001b[0m\u001b[0;34m)\u001b[0m\u001b[0;34m)\u001b[0m\u001b[0;34m\u001b[0m\u001b[0m\n",
      "\u001b[0;32m<ipython-input-3-0e7f07be9d55>\u001b[0m in \u001b[0;36mcount_len\u001b[0;34m(sentence)\u001b[0m\n\u001b[1;32m      3\u001b[0m     \u001b[0mcount\u001b[0m \u001b[0;34m=\u001b[0m \u001b[0;36m0\u001b[0m\u001b[0;34m\u001b[0m\u001b[0m\n\u001b[1;32m      4\u001b[0m     \u001b[0;32mfor\u001b[0m \u001b[0mword\u001b[0m \u001b[0;32min\u001b[0m \u001b[0msen\u001b[0m\u001b[0;34m.\u001b[0m\u001b[0msplit\u001b[0m\u001b[0;34m(\u001b[0m\u001b[0;34m)\u001b[0m\u001b[0;34m:\u001b[0m\u001b[0;34m\u001b[0m\u001b[0m\n\u001b[0;32m----> 5\u001b[0;31m         \u001b[0;32mif\u001b[0m \u001b[0mword\u001b[0m \u001b[0;32mnot\u001b[0m \u001b[0;32min\u001b[0m \u001b[0mpunctuations\u001b[0m\u001b[0;34m:\u001b[0m\u001b[0;34m\u001b[0m\u001b[0m\n\u001b[0m\u001b[1;32m      6\u001b[0m             \u001b[0mcount\u001b[0m\u001b[0;34m+=\u001b[0m\u001b[0;36m1\u001b[0m\u001b[0;34m\u001b[0m\u001b[0m\n\u001b[1;32m      7\u001b[0m     \u001b[0;32mreturn\u001b[0m \u001b[0mcount\u001b[0m\u001b[0;34m\u001b[0m\u001b[0m\n",
      "\u001b[0;31mNameError\u001b[0m: name 'punctuations' is not defined"
     ]
    }
   ],
   "source": [
    "\n",
    "def count_len(sentence):\n",
    "    count = 0\n",
    "    for word in sen.split():\n",
    "        if word not in punctuations:\n",
    "            count+=1\n",
    "    return count\n",
    "\n",
    "list_data_lengths = []\n",
    "for sen in DATA:\n",
    "    list_data_lengths.append(count_len(sen))\n",
    "print(max(list_data_lengths))\n",
    "print(min(list_data_lengths))\n",
    "\n",
    "\n",
    "counter = 0\n",
    "sentences = []\n",
    "for sen in DATA:\n",
    "    if (count_len(sen)) >= 20:\n",
    "        sentences.append(sen)\n",
    "        counter += 1\n",
    "        \n",
    "list_filter_lengths = []\n",
    "for sen in DATA:\n",
    "    if (count_len(sen)) >= 20:\n",
    "        list_filter_lengths.append(count_len(sen))\n",
    "\n",
    "print(counter)\n",
    "punctuations = '''!()-[]{};:'\"\\,<>./?@#$%^&*_~'''\n",
    "word_set = set()\n",
    "for sen in sentences:\n",
    "    for word in sen.split():\n",
    "        if word not in punctuations:\n",
    "            word_set.add(word)\n",
    "            \n",
    "print(\"Number of words:\", len(word_set))\n",
    "print(max(list_filter_lengths))\n",
    "print(min(list_filter_lengths))\n",
    "        "
   ]
  },
  {
   "cell_type": "code",
   "execution_count": null,
   "metadata": {},
   "outputs": [],
   "source": [
    "import matplotlib.pyplot as plt\n",
    "\n",
    "f, (ax1, ax2) = plt.subplots(1, 2)\n",
    "ax1.hist( list_data_lengths, bins=None )\n",
    "# ax1.set_title('Real Text Corpus')\n",
    "ax2.hist(list_filter_lengths, bins=None  )\n",
    "# ax2.set_title('Processed Real Text Corpus')\n",
    "ax2.set_xlim(0,55)\n",
    "ax1.set_xlim(0,55)\n",
    "# axarr[1, 0].hist(list(filter(lambda x : x >= 0, words_lens2*1)), bins=None  )\n",
    "# axarr[1, 0].set_title('Original Dev Set')\n",
    "# axarr[1, 1].hist(list(filter(lambda x : x >= 20, words_lens2*1)), bins=None  )\n",
    "# axarr[1, 1].set_title('Filtered Dev Set')\n",
    "# axarr[1, 0].hist(list(filter(lambda x : x >= 0, words_lens3*1)) , bins=None )\n",
    "ax1.set_title('Original Text Set')\n",
    "# axarr[1, 1].hist(list(filter(lambda x : x >= 20, words_lens3*1)), bins=None  )\n",
    "ax2.set_title('Filtered Text Set')\n",
    "for ax in (ax1, ax2):\n",
    "    ax.set(ylabel='Number of sentences', xlabel='Number of words')\n",
    "# Hide x labels and tick labels for top plots and y ticks for right plots.\n",
    "for ax in (ax1, ax2):\n",
    "    ax.label_outer()\n",
    "    \n",
    "f.set_figheight(8)\n",
    "f.set_figwidth(18)"
   ]
  },
  {
   "cell_type": "code",
   "execution_count": null,
   "metadata": {},
   "outputs": [],
   "source": [
    "words_lens1 = [len(x.split()) for x in words]\n",
    "# print(\"min: {}, max: {}\".format(min(words_lens), max(words_lens)))\n",
    "\n",
    "# small = list(filter(lambda x : x < 20, words_lens))\n",
    "\n",
    "# min_index = index\n",
    "\n",
    "# print(len(small))\n",
    "\n",
    "# print(\"min: {}, max: {}\".format(min(small), max(small)))\n",
    "\n",
    "import matplotlib.pyplot as plt\n",
    "\n",
    "plt.hist(list(filter(lambda x : x >= 0, words_lens1)) )#, bins=20)\n",
    "plt.title('')\n",
    "plt.xlabel('Number of words')\n",
    "plt.ylabel('Frequency')\n",
    "plt.show()"
   ]
  },
  {
   "cell_type": "code",
   "execution_count": null,
   "metadata": {},
   "outputs": [],
   "source": []
  },
  {
   "cell_type": "code",
   "execution_count": null,
   "metadata": {},
   "outputs": [],
   "source": [
    "# Read sentences from csv file \n",
    "FAKE_TEXT = \"analysis_jaccard/jaccard_labelled_fake_text.csv\"\n",
    "REAL_TEXT = \"analysis_jaccard/jaccard_labelled_real_text.csv\"\n",
    "\n",
    "import pandas as pd\n",
    "fake_text = pd.read_csv(FAKE_TEXT, index_col=0)\n",
    "real_text = pd.read_csv(REAL_TEXT, index_col=0)\n",
    "\n",
    "fake_text.head(3)"
   ]
  },
  {
   "cell_type": "code",
   "execution_count": null,
   "metadata": {},
   "outputs": [],
   "source": [
    "# sentences = fake_text['text'].str.split(' ').apply(len).value_counts().plot.hist()\n",
    "\n",
    "# sentences.head(3)\n",
    "\n",
    "words = [sentence for sentence in fake_text['text'].tolist()]\n",
    "\n",
    "all_words = [word for sentence in fake_text['text'].tolist() for word in sentence.split()]\n",
    "\n",
    "print(len(set(all_words)))\n",
    "\n",
    "words_lens2 = [len(x.split()) for x in words]\n",
    "print(sum(words_lens2))\n",
    "# print(\"min: {}, max: {}\".format(min(words_lens), max(words_lens)))\n",
    "\n",
    "# small = list(filter(lambda x : x < 20, words_lens))\n",
    "\n",
    "# print(small[:10])\n",
    "\n",
    "# print(\"min: {}, max: {}\".format(min(small), max(small)))\n",
    "\n",
    "import matplotlib.pyplot as plt\n",
    "\n",
    "plt.hist(list(filter(lambda x : x >= 0, words_lens2)), bins=20)\n",
    "plt.title('')\n",
    "plt.xlabel('Number of words')\n",
    "plt.ylabel('Frequency')\n",
    "plt.show()"
   ]
  },
  {
   "cell_type": "code",
   "execution_count": null,
   "metadata": {},
   "outputs": [],
   "source": [
    "# sentences = fake_text['text'].str.split(' ').apply(len).value_counts().plot.hist()\n",
    "\n",
    "# sentences.head(3)\n",
    "\n",
    "words = [sentence for sentence in real_text['text'].tolist()]\n",
    "\n",
    "# print(words[:10])\n",
    "\n",
    "words_lens3 = [len(x.split()) for x in words if word not in punctuations]\n",
    "print(words_lens3)\n",
    "# print(\"min: {}, max: {}\".format(min(words_lens), max(words_lens)))\n",
    "\n",
    "# small = list(filter(lambda x : x < 20, words_lens))\n",
    "\n",
    "# print(small[:10])\n",
    "\n",
    "# print(\"min: {}, max: {}\".format(min(small), max(small)))\n",
    "\n",
    "import matplotlib.pyplot as plt\n",
    "\n",
    "plt.hist(list(filter(lambda x : x >= 0, words_lens3)), bins=20)\n",
    "plt.title('')\n",
    "plt.xlabel('Number of words')\n",
    "plt.ylabel('Frequency')\n",
    "plt.show()"
   ]
  },
  {
   "cell_type": "code",
   "execution_count": null,
   "metadata": {},
   "outputs": [],
   "source": [
    "f, (ax1, ax2) = plt.subplots(1, 2)\n",
    "ax1.hist(list(filter(lambda x : x >= 0, words_lens3)), bins=None )\n",
    "# ax1.set_title('Real Text Corpus')\n",
    "ax2.hist(list(filter(lambda x : x >= 20, words_lens3)), bins=None  )\n",
    "# ax2.set_title('Processed Real Text Corpus')\n",
    "ax2.set_xlim(0,55)\n",
    "ax1.set_xlim(0,55)\n",
    "# axarr[1, 0].hist(list(filter(lambda x : x >= 0, words_lens2*1)), bins=None  )\n",
    "# axarr[1, 0].set_title('Original Dev Set')\n",
    "# axarr[1, 1].hist(list(filter(lambda x : x >= 20, words_lens2*1)), bins=None  )\n",
    "# axarr[1, 1].set_title('Filtered Dev Set')\n",
    "# axarr[1, 0].hist(list(filter(lambda x : x >= 0, words_lens3*1)) , bins=None )\n",
    "ax1.set_title('Original Synthetic Text Set')\n",
    "# axarr[1, 1].hist(list(filter(lambda x : x >= 20, words_lens3*1)), bins=None  )\n",
    "ax2.set_title('Filtered Synthetic Text Set')\n",
    "for ax in (ax1, ax2):\n",
    "    ax.set(ylabel='Number of sentences', xlabel='Number of words')\n",
    "# Hide x labels and tick labels for top plots and y ticks for right plots.\n",
    "for ax in (ax1, ax2):\n",
    "    ax.label_outer()\n",
    "    \n",
    "f.set_figheight(6)\n",
    "f.set_figwidth(15)"
   ]
  },
  {
   "cell_type": "code",
   "execution_count": null,
   "metadata": {},
   "outputs": [],
   "source": [
    "words = [len(x.split()) for x in real_text['text'].tolist()]\n",
    "\n",
    "import matplotlib.pyplot as plt\n",
    "\n",
    "plt.hist(words, bins=20)\n",
    "plt.ylabel('No of times')\n",
    "plt.show()"
   ]
  },
  {
   "cell_type": "code",
   "execution_count": null,
   "metadata": {},
   "outputs": [],
   "source": [
    "n_bins=100\n",
    "colors = [\"Real\", \"Fake\"]\n",
    "# plt.hist(jac_novs, n_bins, density=1, histtype='bar', stacked=True, label=colors)\n",
    "# plt.legend(loc=\"upper right\")\n",
    "\n",
    "fig, axarr = plt.subplots(1, 2, sharex='col', sharey='row')\n",
    "\n",
    "p1 = axarr[0, 0].hist(jac_novs, n_bins, density=1, histtype='bar', stacked=True, label=colors)\n",
    "axarr[0, 0].set_title('Jaccard novelties')\n",
    "p2 = axarr[0, 1].hist(lev_novs, n_bins, density=1, histtype='bar', stacked=True, label=colors)\n",
    "axarr[0, 1].set_title('Levenshtein novelties')\n",
    "p3 = axarr[0, 2].hist(wmd_novs, n_bins, density=1, histtype='bar', stacked=True, label=colors)\n",
    "axarr[0, 2].set_title('WMD novelties')\n",
    "p4 = axarr[1, 0].hist(jac_divs, n_bins, density=1, histtype='bar', stacked=True, label=colors)\n",
    "axarr[1, 0].set_title('Jaccard diversities')\n",
    "p5 = axarr[1, 1].hist(lev_divs, n_bins, density=1, histtype='bar', stacked=True, label=colors)\n",
    "axarr[1, 1].set_title('Levenshtein diversities')\n",
    "p6 = axarr[1, 2].hist(wmd_divs, n_bins, density=1, histtype='bar', stacked=True, label=colors)\n",
    "axarr[1, 2].set_title('WMD diversities')\n",
    "\n",
    "line_labels = colors\n",
    "fig.legend([p1, p6],     # The line objects\n",
    "           labels=line_labels,   # The labels for each line\n",
    "           loc=\"upper right\",   # Position of legend\n",
    "           borderaxespad=0.1,    # Small spacing around legend box\n",
    "           title=\"Legend Title\"  # Title for the legend\n",
    "           )\n",
    "\n",
    "fig.set_figheight(10)\n",
    "fig.set_figwidth(15)\n",
    "\n",
    "for ax in axarr.flat:\n",
    "    ax.set(ylabel='Probability density')\n",
    "# Hide x labels and tick labels for top plots and y ticks for right plots.\n",
    "for ax in axarr.flat:\n",
    "    ax.label_outer()"
   ]
  },
  {
   "cell_type": "code",
   "execution_count": null,
   "metadata": {},
   "outputs": [],
   "source": []
  }
 ],
 "metadata": {
  "kernelspec": {
   "display_name": "Python 3",
   "language": "python",
   "name": "python3"
  },
  "language_info": {
   "codemirror_mode": {
    "name": "ipython",
    "version": 3
   },
   "file_extension": ".py",
   "mimetype": "text/x-python",
   "name": "python",
   "nbconvert_exporter": "python",
   "pygments_lexer": "ipython3",
   "version": "3.6.4"
  }
 },
 "nbformat": 4,
 "nbformat_minor": 2
}
