{
 "cells": [
  {
   "cell_type": "code",
   "execution_count": 1,
   "metadata": {},
   "outputs": [],
   "source": [
    "import sys\n",
    "sys.path.append('../')\n",
    "\n",
    "from TextLabeller import *\n",
    "\n",
    "%matplotlib inline"
   ]
  },
  {
   "cell_type": "code",
   "execution_count": 4,
   "metadata": {},
   "outputs": [
    {
     "name": "stdout",
     "output_type": "stream",
     "text": [
      "304222\n"
     ]
    }
   ],
   "source": [
    "DATA = get_sentences('data/emnlp_news.txt')\n",
    "\n",
    "words = DATA\n",
    "\n",
    "print(len(DATA))\n"
   ]
  },
  {
   "cell_type": "code",
   "execution_count": 48,
   "metadata": {},
   "outputs": [
    {
     "name": "stdout",
     "output_type": "stream",
     "text": [
      "47\n",
      "1\n",
      "232198\n",
      "Number of words: 5705\n",
      "47\n",
      "20\n"
     ]
    }
   ],
   "source": [
    "\n",
    "def count_len(sentence):\n",
    "    count = 0\n",
    "    for word in sen.split():\n",
    "        if word not in punctuations:\n",
    "            count+=1\n",
    "    return count\n",
    "\n",
    "list_data_lengths = []\n",
    "for sen in DATA:\n",
    "    list_data_lengths.append(count_len(sen))\n",
    "print(max(list_data_lengths))\n",
    "print(min(list_data_lengths))\n",
    "\n",
    "\n",
    "counter = 0\n",
    "sentences = []\n",
    "for sen in DATA:\n",
    "    if (count_len(sen)) >= 20:\n",
    "        sentences.append(sen)\n",
    "        counter += 1\n",
    "        \n",
    "list_filter_lengths = []\n",
    "for sen in DATA:\n",
    "    if (count_len(sen)) >= 20:\n",
    "        list_filter_lengths.append(count_len(sen))\n",
    "\n",
    "print(counter)\n",
    "punctuations = '''!()-[]{};:'\"\\,<>./?@#$%^&*_~'''\n",
    "word_set = set()\n",
    "for sen in sentences:\n",
    "    for word in sen.split():\n",
    "        if word not in punctuations:\n",
    "            word_set.add(word)\n",
    "            \n",
    "print(\"Number of words:\", len(word_set))\n",
    "print(max(list_filter_lengths))\n",
    "print(min(list_filter_lengths))\n",
    "        "
   ]
  },
  {
   "cell_type": "code",
   "execution_count": 30,
   "metadata": {},
   "outputs": [
    {
     "data": {
      "image/png": "[encoded data removed]",
      "text/plain": [
       "<matplotlib.figure.Figure at 0x1a17e63c18>"
      ]
     },
     "metadata": {},
     "output_type": "display_data"
    }
   ],
   "source": [
    "import matplotlib.pyplot as plt\n",
    "\n",
    "f, (ax1, ax2) = plt.subplots(1, 2)\n",
    "ax1.hist( list_data_lengths, bins=None )\n",
    "# ax1.set_title('Real Text Corpus')\n",
    "ax2.hist(list_filter_lengths, bins=None  )\n",
    "# ax2.set_title('Processed Real Text Corpus')\n",
    "ax2.set_xlim(0,55)\n",
    "ax1.set_xlim(0,55)\n",
    "# axarr[1, 0].hist(list(filter(lambda x : x >= 0, words_lens2*1)), bins=None  )\n",
    "# axarr[1, 0].set_title('Original Dev Set')\n",
    "# axarr[1, 1].hist(list(filter(lambda x : x >= 20, words_lens2*1)), bins=None  )\n",
    "# axarr[1, 1].set_title('Filtered Dev Set')\n",
    "# axarr[1, 0].hist(list(filter(lambda x : x >= 0, words_lens3*1)) , bins=None )\n",
    "ax1.set_title('Original Text Set')\n",
    "# axarr[1, 1].hist(list(filter(lambda x : x >= 20, words_lens3*1)), bins=None  )\n",
    "ax2.set_title('Filtered Text Set')\n",
    "for ax in (ax1, ax2):\n",
    "    ax.set(ylabel='Number of sentences', xlabel='Number of words')\n",
    "# Hide x labels and tick labels for top plots and y ticks for right plots.\n",
    "for ax in (ax1, ax2):\n",
    "    ax.label_outer()\n",
    "    \n",
    "f.set_figheight(8)\n",
    "f.set_figwidth(18)"
   ]
  },
  {
   "cell_type": "code",
   "execution_count": 32,
   "metadata": {},
   "outputs": [
    {
     "data": {
      "image/png": "[encoded data removed]",
      "text/plain": [
       "<matplotlib.figure.Figure at 0x1a17e68b00>"
      ]
     },
     "metadata": {},
     "output_type": "display_data"
    }
   ],
   "source": [
    "words_lens1 = [len(x.split()) for x in words]\n",
    "# print(\"min: {}, max: {}\".format(min(words_lens), max(words_lens)))\n",
    "\n",
    "# small = list(filter(lambda x : x < 20, words_lens))\n",
    "\n",
    "# min_index = index\n",
    "\n",
    "# print(len(small))\n",
    "\n",
    "# print(\"min: {}, max: {}\".format(min(small), max(small)))\n",
    "\n",
    "import matplotlib.pyplot as plt\n",
    "\n",
    "plt.hist(list(filter(lambda x : x >= 0, words_lens1)) )#, bins=20)\n",
    "plt.title('')\n",
    "plt.xlabel('Number of words')\n",
    "plt.ylabel('Frequency')\n",
    "plt.show()"
   ]
  },
  {
   "cell_type": "code",
   "execution_count": null,
   "metadata": {},
   "outputs": [],
   "source": []
  },
  {
   "cell_type": "code",
   "execution_count": 45,
   "metadata": {},
   "outputs": [
    {
     "data": {
      "text/html": [
       "<div>\n",
       "<style scoped>\n",
       "    .dataframe tbody tr th:only-of-type {\n",
       "        vertical-align: middle;\n",
       "    }\n",
       "\n",
       "    .dataframe tbody tr th {\n",
       "        vertical-align: top;\n",
       "    }\n",
       "\n",
       "    .dataframe thead th {\n",
       "        text-align: right;\n",
       "    }\n",
       "</style>\n",
       "<table border=\"1\" class=\"dataframe\">\n",
       "  <thead>\n",
       "    <tr style=\"text-align: right;\">\n",
       "      <th></th>\n",
       "      <th>text</th>\n",
       "      <th>novelty</th>\n",
       "      <th>diversity</th>\n",
       "      <th>label</th>\n",
       "    </tr>\n",
       "    <tr>\n",
       "      <th>index</th>\n",
       "      <th></th>\n",
       "      <th></th>\n",
       "      <th></th>\n",
       "      <th></th>\n",
       "    </tr>\n",
       "  </thead>\n",
       "  <tbody>\n",
       "    <tr>\n",
       "      <th>0</th>\n",
       "      <td>the scottish government has won and not necess...</td>\n",
       "      <td>0.718750</td>\n",
       "      <td>0.645161</td>\n",
       "      <td>0</td>\n",
       "    </tr>\n",
       "    <tr>\n",
       "      <th>1</th>\n",
       "      <td>the more of the main people do not to not pay ...</td>\n",
       "      <td>0.666667</td>\n",
       "      <td>0.586207</td>\n",
       "      <td>0</td>\n",
       "    </tr>\n",
       "    <tr>\n",
       "      <th>2</th>\n",
       "      <td>it was a shame , but when they put it up for h...</td>\n",
       "      <td>0.676471</td>\n",
       "      <td>0.612903</td>\n",
       "      <td>0</td>\n",
       "    </tr>\n",
       "  </tbody>\n",
       "</table>\n",
       "</div>"
      ],
      "text/plain": [
       "                                                    text   novelty  diversity  \\\n",
       "index                                                                           \n",
       "0      the scottish government has won and not necess...  0.718750   0.645161   \n",
       "1      the more of the main people do not to not pay ...  0.666667   0.586207   \n",
       "2      it was a shame , but when they put it up for h...  0.676471   0.612903   \n",
       "\n",
       "       label  \n",
       "index         \n",
       "0          0  \n",
       "1          0  \n",
       "2          0  "
      ]
     },
     "execution_count": 45,
     "metadata": {},
     "output_type": "execute_result"
    }
   ],
   "source": [
    "# Read sentences from csv file \n",
    "FAKE_TEXT = \"analysis_jaccard/jaccard_labelled_fake_text.csv\"\n",
    "REAL_TEXT = \"analysis_jaccard/jaccard_labelled_real_text.csv\"\n",
    "\n",
    "import pandas as pd\n",
    "fake_text = pd.read_csv(FAKE_TEXT, index_col=0)\n",
    "real_text = pd.read_csv(REAL_TEXT, index_col=0)\n",
    "\n",
    "fake_text.head(3)"
   ]
  },
  {
   "cell_type": "code",
   "execution_count": 46,
   "metadata": {},
   "outputs": [
    {
     "name": "stdout",
     "output_type": "stream",
     "text": [
      "4085\n",
      "265824\n"
     ]
    },
    {
     "data": {
      "image/png": "[encoded data removed]",
      "text/plain": [
       "<matplotlib.figure.Figure at 0x1a1dfc98d0>"
      ]
     },
     "metadata": {},
     "output_type": "display_data"
    }
   ],
   "source": [
    "# sentences = fake_text['text'].str.split(' ').apply(len).value_counts().plot.hist()\n",
    "\n",
    "# sentences.head(3)\n",
    "\n",
    "words = [sentence for sentence in fake_text['text'].tolist()]\n",
    "\n",
    "all_words = [word for sentence in fake_text['text'].tolist() for word in sentence.split()]\n",
    "\n",
    "print(len(set(all_words)))\n",
    "\n",
    "words_lens2 = [len(x.split()) for x in words]\n",
    "print(sum(words_lens2))\n",
    "# print(\"min: {}, max: {}\".format(min(words_lens), max(words_lens)))\n",
    "\n",
    "# small = list(filter(lambda x : x < 20, words_lens))\n",
    "\n",
    "# print(small[:10])\n",
    "\n",
    "# print(\"min: {}, max: {}\".format(min(small), max(small)))\n",
    "\n",
    "import matplotlib.pyplot as plt\n",
    "\n",
    "plt.hist(list(filter(lambda x : x >= 0, words_lens2)), bins=20)\n",
    "plt.title('')\n",
    "plt.xlabel('Number of words')\n",
    "plt.ylabel('Frequency')\n",
    "plt.show()"
   ]
  },
  {
   "cell_type": "code",
   "execution_count": 47,
   "metadata": {},
   "outputs": [
    {
     "name": "stdout",
     "output_type": "stream",
     "text": [
      "[]\n"
     ]
    },
    {
     "data": {
      "image/png": "[encoded data removed]",
      "text/plain": [
       "<matplotlib.figure.Figure at 0x1a181170f0>"
      ]
     },
     "metadata": {},
     "output_type": "display_data"
    }
   ],
   "source": [
    "# sentences = fake_text['text'].str.split(' ').apply(len).value_counts().plot.hist()\n",
    "\n",
    "# sentences.head(3)\n",
    "\n",
    "words = [sentence for sentence in real_text['text'].tolist()]\n",
    "\n",
    "# print(words[:10])\n",
    "\n",
    "words_lens3 = [len(x.split()) for x in words if word not in punctuations]\n",
    "print(words_lens3)\n",
    "# print(\"min: {}, max: {}\".format(min(words_lens), max(words_lens)))\n",
    "\n",
    "# small = list(filter(lambda x : x < 20, words_lens))\n",
    "\n",
    "# print(small[:10])\n",
    "\n",
    "# print(\"min: {}, max: {}\".format(min(small), max(small)))\n",
    "\n",
    "import matplotlib.pyplot as plt\n",
    "\n",
    "plt.hist(list(filter(lambda x : x >= 0, words_lens3)), bins=20)\n",
    "plt.title('')\n",
    "plt.xlabel('Number of words')\n",
    "plt.ylabel('Frequency')\n",
    "plt.show()"
   ]
  },
  {
   "cell_type": "code",
   "execution_count": 38,
   "metadata": {},
   "outputs": [
    {
     "data": {
      "image/png": "[encoded data removed]",
      "text/plain": [
       "<matplotlib.figure.Figure at 0x1a229157b8>"
      ]
     },
     "metadata": {},
     "output_type": "display_data"
    }
   ],
   "source": [
    "f, (ax1, ax2) = plt.subplots(1, 2)\n",
    "ax1.hist(list(filter(lambda x : x >= 0, words_lens3)), bins=None )\n",
    "# ax1.set_title('Real Text Corpus')\n",
    "ax2.hist(list(filter(lambda x : x >= 20, words_lens3)), bins=None  )\n",
    "# ax2.set_title('Processed Real Text Corpus')\n",
    "ax2.set_xlim(0,55)\n",
    "ax1.set_xlim(0,55)\n",
    "# axarr[1, 0].hist(list(filter(lambda x : x >= 0, words_lens2*1)), bins=None  )\n",
    "# axarr[1, 0].set_title('Original Dev Set')\n",
    "# axarr[1, 1].hist(list(filter(lambda x : x >= 20, words_lens2*1)), bins=None  )\n",
    "# axarr[1, 1].set_title('Filtered Dev Set')\n",
    "# axarr[1, 0].hist(list(filter(lambda x : x >= 0, words_lens3*1)) , bins=None )\n",
    "ax1.set_title('Original Synthetic Text Set')\n",
    "# axarr[1, 1].hist(list(filter(lambda x : x >= 20, words_lens3*1)), bins=None  )\n",
    "ax2.set_title('Filtered Synthetic Text Set')\n",
    "for ax in (ax1, ax2):\n",
    "    ax.set(ylabel='Number of sentences', xlabel='Number of words')\n",
    "# Hide x labels and tick labels for top plots and y ticks for right plots.\n",
    "for ax in (ax1, ax2):\n",
    "    ax.label_outer()\n",
    "    \n",
    "f.set_figheight(6)\n",
    "f.set_figwidth(15)"
   ]
  },
  {
   "cell_type": "code",
   "execution_count": 77,
   "metadata": {},
   "outputs": [
    {
     "data": {
      "image/png": "[encoded data removed]",
      "text/plain": [
       "<matplotlib.figure.Figure at 0x1a1028ed30>"
      ]
     },
     "metadata": {},
     "output_type": "display_data"
    }
   ],
   "source": [
    "words = [len(x.split()) for x in real_text['text'].tolist()]\n",
    "\n",
    "import matplotlib.pyplot as plt\n",
    "\n",
    "plt.hist(words, bins=20)\n",
    "plt.ylabel('No of times')\n",
    "plt.show()"
   ]
  },
  {
   "cell_type": "code",
   "execution_count": 38,
   "metadata": {},
   "outputs": [
    {
     "ename": "IndexError",
     "evalue": "too many indices for array",
     "output_type": "error",
     "traceback": [
      "\u001b[0;31m---------------------------------------------------------------------------\u001b[0m",
      "\u001b[0;31mIndexError\u001b[0m                                Traceback (most recent call last)",
      "\u001b[0;32m<ipython-input-38-53407e46e452>\u001b[0m in \u001b[0;36m<module>\u001b[0;34m()\u001b[0m\n\u001b[1;32m      6\u001b[0m \u001b[0mfig\u001b[0m\u001b[0;34m,\u001b[0m \u001b[0maxarr\u001b[0m \u001b[0;34m=\u001b[0m \u001b[0mplt\u001b[0m\u001b[0;34m.\u001b[0m\u001b[0msubplots\u001b[0m\u001b[0;34m(\u001b[0m\u001b[0;36m1\u001b[0m\u001b[0;34m,\u001b[0m \u001b[0;36m2\u001b[0m\u001b[0;34m,\u001b[0m \u001b[0msharex\u001b[0m\u001b[0;34m=\u001b[0m\u001b[0;34m'col'\u001b[0m\u001b[0;34m,\u001b[0m \u001b[0msharey\u001b[0m\u001b[0;34m=\u001b[0m\u001b[0;34m'row'\u001b[0m\u001b[0;34m)\u001b[0m\u001b[0;34m\u001b[0m\u001b[0m\n\u001b[1;32m      7\u001b[0m \u001b[0;34m\u001b[0m\u001b[0m\n\u001b[0;32m----> 8\u001b[0;31m \u001b[0mp1\u001b[0m \u001b[0;34m=\u001b[0m \u001b[0maxarr\u001b[0m\u001b[0;34m[\u001b[0m\u001b[0;36m0\u001b[0m\u001b[0;34m,\u001b[0m \u001b[0;36m0\u001b[0m\u001b[0;34m]\u001b[0m\u001b[0;34m.\u001b[0m\u001b[0mhist\u001b[0m\u001b[0;34m(\u001b[0m\u001b[0mjac_novs\u001b[0m\u001b[0;34m,\u001b[0m \u001b[0mn_bins\u001b[0m\u001b[0;34m,\u001b[0m \u001b[0mdensity\u001b[0m\u001b[0;34m=\u001b[0m\u001b[0;36m1\u001b[0m\u001b[0;34m,\u001b[0m \u001b[0mhisttype\u001b[0m\u001b[0;34m=\u001b[0m\u001b[0;34m'bar'\u001b[0m\u001b[0;34m,\u001b[0m \u001b[0mstacked\u001b[0m\u001b[0;34m=\u001b[0m\u001b[0;32mTrue\u001b[0m\u001b[0;34m,\u001b[0m \u001b[0mlabel\u001b[0m\u001b[0;34m=\u001b[0m\u001b[0mcolors\u001b[0m\u001b[0;34m)\u001b[0m\u001b[0;34m\u001b[0m\u001b[0m\n\u001b[0m\u001b[1;32m      9\u001b[0m \u001b[0maxarr\u001b[0m\u001b[0;34m[\u001b[0m\u001b[0;36m0\u001b[0m\u001b[0;34m,\u001b[0m \u001b[0;36m0\u001b[0m\u001b[0;34m]\u001b[0m\u001b[0;34m.\u001b[0m\u001b[0mset_title\u001b[0m\u001b[0;34m(\u001b[0m\u001b[0;34m'Jaccard novelties'\u001b[0m\u001b[0;34m)\u001b[0m\u001b[0;34m\u001b[0m\u001b[0m\n\u001b[1;32m     10\u001b[0m \u001b[0mp2\u001b[0m \u001b[0;34m=\u001b[0m \u001b[0maxarr\u001b[0m\u001b[0;34m[\u001b[0m\u001b[0;36m0\u001b[0m\u001b[0;34m,\u001b[0m \u001b[0;36m1\u001b[0m\u001b[0;34m]\u001b[0m\u001b[0;34m.\u001b[0m\u001b[0mhist\u001b[0m\u001b[0;34m(\u001b[0m\u001b[0mlev_novs\u001b[0m\u001b[0;34m,\u001b[0m \u001b[0mn_bins\u001b[0m\u001b[0;34m,\u001b[0m \u001b[0mdensity\u001b[0m\u001b[0;34m=\u001b[0m\u001b[0;36m1\u001b[0m\u001b[0;34m,\u001b[0m \u001b[0mhisttype\u001b[0m\u001b[0;34m=\u001b[0m\u001b[0;34m'bar'\u001b[0m\u001b[0;34m,\u001b[0m \u001b[0mstacked\u001b[0m\u001b[0;34m=\u001b[0m\u001b[0;32mTrue\u001b[0m\u001b[0;34m,\u001b[0m \u001b[0mlabel\u001b[0m\u001b[0;34m=\u001b[0m\u001b[0mcolors\u001b[0m\u001b[0;34m)\u001b[0m\u001b[0;34m\u001b[0m\u001b[0m\n",
      "\u001b[0;31mIndexError\u001b[0m: too many indices for array"
     ]
    },
    {
     "data": {
      "image/png": "[encoded data removed]",
      "text/plain": [
       "<matplotlib.figure.Figure at 0x1a14a9b160>"
      ]
     },
     "metadata": {},
     "output_type": "display_data"
    }
   ],
   "source": [
    "n_bins=100\n",
    "colors = [\"Real\", \"Fake\"]\n",
    "# plt.hist(jac_novs, n_bins, density=1, histtype='bar', stacked=True, label=colors)\n",
    "# plt.legend(loc=\"upper right\")\n",
    "\n",
    "fig, axarr = plt.subplots(1, 2, sharex='col', sharey='row')\n",
    "\n",
    "p1 = axarr[0, 0].hist(jac_novs, n_bins, density=1, histtype='bar', stacked=True, label=colors)\n",
    "axarr[0, 0].set_title('Jaccard novelties')\n",
    "p2 = axarr[0, 1].hist(lev_novs, n_bins, density=1, histtype='bar', stacked=True, label=colors)\n",
    "axarr[0, 1].set_title('Levenshtein novelties')\n",
    "p3 = axarr[0, 2].hist(wmd_novs, n_bins, density=1, histtype='bar', stacked=True, label=colors)\n",
    "axarr[0, 2].set_title('WMD novelties')\n",
    "p4 = axarr[1, 0].hist(jac_divs, n_bins, density=1, histtype='bar', stacked=True, label=colors)\n",
    "axarr[1, 0].set_title('Jaccard diversities')\n",
    "p5 = axarr[1, 1].hist(lev_divs, n_bins, density=1, histtype='bar', stacked=True, label=colors)\n",
    "axarr[1, 1].set_title('Levenshtein diversities')\n",
    "p6 = axarr[1, 2].hist(wmd_divs, n_bins, density=1, histtype='bar', stacked=True, label=colors)\n",
    "axarr[1, 2].set_title('WMD diversities')\n",
    "\n",
    "line_labels = colors\n",
    "fig.legend([p1, p6],     # The line objects\n",
    "           labels=line_labels,   # The labels for each line\n",
    "           loc=\"upper right\",   # Position of legend\n",
    "           borderaxespad=0.1,    # Small spacing around legend box\n",
    "           title=\"Legend Title\"  # Title for the legend\n",
    "           )\n",
    "\n",
    "fig.set_figheight(10)\n",
    "fig.set_figwidth(15)\n",
    "\n",
    "for ax in axarr.flat:\n",
    "    ax.set(ylabel='Probability density')\n",
    "# Hide x labels and tick labels for top plots and y ticks for right plots.\n",
    "for ax in axarr.flat:\n",
    "    ax.label_outer()"
   ]
  },
  {
   "cell_type": "code",
   "execution_count": null,
   "metadata": {},
   "outputs": [],
   "source": []
  }
 ],
 "metadata": {
  "kernelspec": {
   "display_name": "Python 3",
   "language": "python",
   "name": "python3"
  },
  "language_info": {
   "codemirror_mode": {
    "name": "ipython",
    "version": 3
   },
   "file_extension": ".py",
   "mimetype": "text/x-python",
   "name": "python",
   "nbconvert_exporter": "python",
   "pygments_lexer": "ipython3",
   "version": "3.6.4"
  }
 },
 "nbformat": 4,
 "nbformat_minor": 2
}
