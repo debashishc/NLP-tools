{
 "cells": [
  {
   "cell_type": "code",
   "execution_count": 5,
   "metadata": {},
   "outputs": [],
   "source": [
    "import sys\n",
    "sys.path.append('../')\n",
    "\n",
    "from TextLabeller import *\n",
    "\n",
    "%matplotlib inline"
   ]
  },
  {
   "cell_type": "code",
   "execution_count": 6,
   "metadata": {},
   "outputs": [
    {
     "name": "stdout",
     "output_type": "stream",
     "text": [
      "[\"My sources have suggested that so far the company sees no reason to change its tax structures , which are perfectly legal .                                                   \\n'\", \"Sometimes I think about leaving sex work , but because I am alone living costs are really expensive ,' she said .\", \"We would open our main presents after lunch ( before the Queen ' s speech ) then take the dog for a walk .                                                 \\n'\", \"I was then stuck in the house for nearly two years only going out for short periods of time ,' she said .\", \"I ' d say this is really the first time I ' ve had it in my career : how good I feel about my game and knowing where it ' s at .\", 'In only one state , Utah , did more people say they supported giving states control , with 47 % of those questioned saying they did and 41 % saying they did not .', 'There was no immediate claim of responsibility for the attack , but analysts say it appears to be an attempt to prevent peace talks between the nuclear - armed neighbours .', 'There \\' s \" definitely a lot of wind , rain and snow , so definitely a significant storm for this time of year ,\" Thompson said .', \"Good news , say those who believe that the honour of playing football for a club carrying Liverpool ' s history should be reason enough to play , whatever the price .\", 'We know our customers better than anyone else and we need to make sure that our offer meets their changing needs .']\n"
     ]
    }
   ],
   "source": [
    "DATA = get_sentences('data/emnlp_news.txt')\n",
    "\n",
    "words = DATA\n",
    "\n",
    "print(words[:10])\n",
    "\n"
   ]
  },
  {
   "cell_type": "code",
   "execution_count": 7,
   "metadata": {},
   "outputs": [
    {
     "name": "stdout",
     "output_type": "stream",
     "text": [
      "min: 1, max: 50\n",
      "33869\n",
      "min: 1, max: 19\n"
     ]
    },
    {
     "data": {
      "image/png": "[encoded data removed]",
      "text/plain": [
       "<matplotlib.figure.Figure at 0x1a1b476fd0>"
      ]
     },
     "metadata": {},
     "output_type": "display_data"
    }
   ],
   "source": [
    "words_lens = [len(x.split()) for x in words]\n",
    "print(\"min: {}, max: {}\".format(min(words_lens), max(words_lens)))\n",
    "\n",
    "small = list(filter(lambda x : x < 20, words_lens))\n",
    "\n",
    "# min_index = index\n",
    "\n",
    "print(len(small))\n",
    "\n",
    "print(\"min: {}, max: {}\".format(min(small), max(small)))\n",
    "\n",
    "import matplotlib.pyplot as plt\n",
    "\n",
    "plt.hist(list(filter(lambda x : x < 20, words_lens)), bins=20)\n",
    "plt.ylabel('No of times')\n",
    "plt.show()"
   ]
  },
  {
   "cell_type": "code",
   "execution_count": 8,
   "metadata": {},
   "outputs": [
    {
     "data": {
      "text/html": [
       "<div>\n",
       "<style scoped>\n",
       "    .dataframe tbody tr th:only-of-type {\n",
       "        vertical-align: middle;\n",
       "    }\n",
       "\n",
       "    .dataframe tbody tr th {\n",
       "        vertical-align: top;\n",
       "    }\n",
       "\n",
       "    .dataframe thead th {\n",
       "        text-align: right;\n",
       "    }\n",
       "</style>\n",
       "<table border=\"1\" class=\"dataframe\">\n",
       "  <thead>\n",
       "    <tr style=\"text-align: right;\">\n",
       "      <th></th>\n",
       "      <th>text</th>\n",
       "      <th>novelty</th>\n",
       "      <th>diversity</th>\n",
       "      <th>label</th>\n",
       "    </tr>\n",
       "    <tr>\n",
       "      <th>index</th>\n",
       "      <th></th>\n",
       "      <th></th>\n",
       "      <th></th>\n",
       "      <th></th>\n",
       "    </tr>\n",
       "  </thead>\n",
       "  <tbody>\n",
       "    <tr>\n",
       "      <th>0</th>\n",
       "      <td>the scottish government has won and not necess...</td>\n",
       "      <td>0.718750</td>\n",
       "      <td>0.645161</td>\n",
       "      <td>0</td>\n",
       "    </tr>\n",
       "    <tr>\n",
       "      <th>1</th>\n",
       "      <td>the more of the main people do not to not pay ...</td>\n",
       "      <td>0.666667</td>\n",
       "      <td>0.586207</td>\n",
       "      <td>0</td>\n",
       "    </tr>\n",
       "    <tr>\n",
       "      <th>2</th>\n",
       "      <td>it was a shame , but when they put it up for h...</td>\n",
       "      <td>0.676471</td>\n",
       "      <td>0.612903</td>\n",
       "      <td>0</td>\n",
       "    </tr>\n",
       "  </tbody>\n",
       "</table>\n",
       "</div>"
      ],
      "text/plain": [
       "                                                    text   novelty  diversity  \\\n",
       "index                                                                           \n",
       "0      the scottish government has won and not necess...  0.718750   0.645161   \n",
       "1      the more of the main people do not to not pay ...  0.666667   0.586207   \n",
       "2      it was a shame , but when they put it up for h...  0.676471   0.612903   \n",
       "\n",
       "       label  \n",
       "index         \n",
       "0          0  \n",
       "1          0  \n",
       "2          0  "
      ]
     },
     "execution_count": 8,
     "metadata": {},
     "output_type": "execute_result"
    }
   ],
   "source": [
    "# Read sentences from csv file \n",
    "FAKE_TEXT = \"analysis_jaccard/jaccard_labelled_fake_text.csv\"\n",
    "REAL_TEXT = \"analysis_jaccard/jaccard_labelled_real_text.csv\"\n",
    "\n",
    "import pandas as pd\n",
    "fake_text = pd.read_csv(FAKE_TEXT, index_col=0)\n",
    "real_text = pd.read_csv(REAL_TEXT, index_col=0)\n",
    "\n",
    "fake_text.head(3)"
   ]
  },
  {
   "cell_type": "code",
   "execution_count": 10,
   "metadata": {},
   "outputs": [
    {
     "name": "stdout",
     "output_type": "stream",
     "text": [
      "['the scottish government has won and not necessarily only the federal reserve fund , and a real estate deficit is the best way .', \"the more of the main people do not to not pay attention to the state ' s streets , along with the black .\", \"it was a shame , but when they put it up for him , i thought i ' m not really happy to see him .\", \"`` it took me , but that is a good thing , but i ' m not sure she is so angry .\", \"`` i didn ' t have that a citizen of the family and i had a significant smile on my life .\", \"we need to be , but `` that ' s just a chance to change the value of the united states and is likely to be better .\", \"it is a better option that ' s a brexit , or most it quickly continues to be a high - held home market .\", \"and it is ten and are not required to make it hard , because we ' ve got on that drawing off for us .\", 'you need to be ready , but they can draw attention to both my teammates , who are going to make it .', \"`` the only thing that you are able to do anything , but we don ' t do but we can do that .\"]\n",
      "min: 1, max: 89\n",
      "1748\n",
      "min: 1, max: 19\n"
     ]
    },
    {
     "data": {
      "image/png": "[encoded data removed]",
      "text/plain": [
       "<matplotlib.figure.Figure at 0x1a1b88d278>"
      ]
     },
     "metadata": {},
     "output_type": "display_data"
    }
   ],
   "source": [
    "# sentences = fake_text['text'].str.split(' ').apply(len).value_counts().plot.hist()\n",
    "\n",
    "# sentences.head(3)\n",
    "\n",
    "words = [sentence for sentence in fake_text['text'].tolist()]\n",
    "\n",
    "print(words[:10])\n",
    "\n",
    "words_lens = [len(x.split()) for x in words]\n",
    "print(\"min: {}, max: {}\".format(min(words_lens), max(words_lens)))\n",
    "\n",
    "small = list(filter(lambda x : x < 20, words_lens))\n",
    "\n",
    "print(len(small))\n",
    "\n",
    "print(\"min: {}, max: {}\".format(min(small), max(small)))\n",
    "\n",
    "import matplotlib.pyplot as plt\n",
    "\n",
    "plt.hist(list(filter(lambda x : x > 20, words_lens)), bins=20)\n",
    "plt.ylabel('No of times')\n",
    "plt.show()"
   ]
  },
  {
   "cell_type": "code",
   "execution_count": 11,
   "metadata": {},
   "outputs": [
    {
     "data": {
      "image/png": "[encoded data removed]",
      "text/plain": [
       "<matplotlib.figure.Figure at 0x1a18fbccc0>"
      ]
     },
     "metadata": {},
     "output_type": "display_data"
    }
   ],
   "source": [
    "words = [len(x.split()) for x in real_text['text'].tolist()]\n",
    "\n",
    "import matplotlib.pyplot as plt\n",
    "\n",
    "plt.hist(words, bins=20)\n",
    "plt.ylabel('No of times')\n",
    "plt.show()"
   ]
  },
  {
   "cell_type": "code",
   "execution_count": null,
   "metadata": {},
   "outputs": [],
   "source": []
  }
 ],
 "metadata": {
  "kernelspec": {
   "display_name": "Python 3",
   "language": "python",
   "name": "python3"
  },
  "language_info": {
   "codemirror_mode": {
    "name": "ipython",
    "version": 3
   },
   "file_extension": ".py",
   "mimetype": "text/x-python",
   "name": "python",
   "nbconvert_exporter": "python",
   "pygments_lexer": "ipython3",
   "version": "3.6.4"
  }
 },
 "nbformat": 4,
 "nbformat_minor": 2
}
