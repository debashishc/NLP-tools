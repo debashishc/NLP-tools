{
 "cells": [
  {
   "cell_type": "code",
   "execution_count": 1,
   "metadata": {},
   "outputs": [],
   "source": [
    "import numpy as np\n",
    "import matplotlib.pyplot as plt\n",
    "import matplotlib.mlab as mlab"
   ]
  },
  {
   "cell_type": "code",
   "execution_count": 2,
   "metadata": {},
   "outputs": [],
   "source": [
    "def read_list(filename: str) -> list:\n",
    "    \"\"\" Extract the diversity or novelty list from txt file\n",
    "    \n",
    "        Example usage:\n",
    "        >>> read_list('jaccard_diversities_real.txt')\n",
    "    \"\"\"\n",
    "    import re\n",
    "    with open(file=filename, mode='r', encoding=\"ISO-8859-1\") as f:\n",
    "        result_list = list()\n",
    "        data = f.read().split(',\\n')\n",
    "        for line in data:\n",
    "            result_list.append(float(re.findall(\"\\d+\\.\\d+\", line)[0]))\n",
    "            \n",
    "    return result_list"
   ]
  },
  {
   "cell_type": "code",
   "execution_count": 3,
   "metadata": {},
   "outputs": [],
   "source": [
    "def read_list(filename: str) -> list:\n",
    "    \"\"\" Extract the diversity or novelty list from txt file\n",
    "    \n",
    "        Example usage:\n",
    "        >>> read_list('jaccard_diversities_real.txt')\n",
    "    \"\"\"\n",
    "    import re\n",
    "    with open(file=filename, mode='r', encoding=\"ISO-8859-1\") as f:\n",
    "        result_list = list()\n",
    "        data = f.read().split(',\\n')\n",
    "        for line in data:\n",
    "            result_list.append(float(re.findall(\"\\d+\\.\\d+\", line)[0]))\n",
    "            \n",
    "    return result_list"
   ]
  },
  {
   "cell_type": "code",
   "execution_count": 4,
   "metadata": {},
   "outputs": [],
   "source": [
    "def get_scatter_plot(data_x, data_y, data_x1, data_y1):\n",
    "    \"\"\" Scatter plot of novelties vs diversities. \n",
    "    \"\"\"\n",
    "    plt.scatter(data_x, data_y, color='blue', label='Fake text', alpha=0.3)\n",
    "    plt.scatter(data_x1, data_y1, color='red', label='Real text', alpha=0.3)\n",
    "\n",
    "    plt.title('{} vs {} of real and fake sentences'.format(\"Novelties\", \"Diversities\"))\n",
    "    plt.xlabel('Diversity of sentence')\n",
    "    plt.xlim(0, 1)\n",
    "    plt.ylim(0, 1)\n",
    "    plt.ylabel('Novelty of sentence')\n",
    "    plt.legend(loc='upper left')\n",
    "    plt.show()"
   ]
  },
  {
   "cell_type": "code",
   "execution_count": 5,
   "metadata": {},
   "outputs": [],
   "source": [
    "j_real_diversities = read_list('jaccard_diversities_real.txt')\n",
    "j_real_novelties = read_list('jaccard_novelties_real.txt')\n",
    "\n",
    "j_fake_diversities = read_list('jaccard_diversities_fake3.txt')\n",
    "j_fake_novelties = read_list('jaccard_novelties_fake3.txt')"
   ]
  },
  {
   "cell_type": "code",
   "execution_count": null,
   "metadata": {},
   "outputs": [],
   "source": []
  }
 ],
 "metadata": {
  "kernelspec": {
   "display_name": "Python 3",
   "language": "python",
   "name": "python3"
  },
  "language_info": {
   "codemirror_mode": {
    "name": "ipython",
    "version": 3
   },
   "file_extension": ".py",
   "mimetype": "text/x-python",
   "name": "python",
   "nbconvert_exporter": "python",
   "pygments_lexer": "ipython3",
   "version": "3.6.4"
  }
 },
 "nbformat": 4,
 "nbformat_minor": 2
}
