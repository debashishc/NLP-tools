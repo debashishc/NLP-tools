{
 "cells": [
  {
   "cell_type": "code",
   "execution_count": 41,
   "metadata": {},
   "outputs": [
    {
     "name": "stdout",
     "output_type": "stream",
     "text": [
      "       index   novelty  diversity  label\n",
      "0          0  0.976190   0.894737      1\n",
      "1          1  0.911111   0.883721      1\n",
      "2          2  0.953488   0.926829      1\n",
      "3          3  0.926829   0.951220      1\n",
      "4          4  0.951220   0.864865      1\n",
      "5          5  0.937500   0.888889      1\n",
      "6          6  0.900000   0.868421      1\n",
      "7          7  0.951220   0.923077      1\n",
      "8          8  0.878049   0.902439      1\n",
      "9          9  0.850000   0.875000      1\n",
      "10        10  0.925000   0.864865      1\n",
      "11        11  0.916667   0.914894      1\n",
      "12        12  0.955556   0.930233      1\n",
      "13        13  0.952381   0.925000      1\n",
      "14        14  0.930233   0.902439      1\n",
      "15        15  0.930233   0.902439      1\n",
      "16        16  0.951220   0.923077      1\n",
      "17        17  0.977273   0.952381      1\n",
      "18        18  0.925000   0.833333      1\n",
      "19        19  0.953488   0.871795      1\n",
      "20        20  0.934783   0.933333      1\n",
      "21        21  0.973684   0.972973      1\n",
      "22        22  0.962963   0.961538      1\n",
      "23        23  0.897436   0.833333      1\n",
      "24        24  0.916667   0.914894      1\n",
      "25        25  0.936170   0.886364      1\n",
      "26        26  0.883721   0.880952      1\n",
      "27        27  0.904762   0.875000      1\n",
      "28        28  0.930233   0.928571      1\n",
      "29        29  0.933333   0.906977      1\n",
      "...      ...       ...        ...    ...\n",
      "11024  11024  0.666667   0.739130      0\n",
      "11025  11025  0.690476   0.725000      0\n",
      "11026  11026  0.693878   0.739130      0\n",
      "11027  11027  0.718750   0.750000      0\n",
      "11028  11028  0.647059   0.675000      0\n",
      "11029  11029  0.750000   0.765957      0\n",
      "11030  11030  0.743590   0.777778      0\n",
      "11031  11031  0.692308   0.675000      0\n",
      "11032  11032  0.720930   0.708333      0\n",
      "11033  11033  0.727273   0.681818      0\n",
      "11034  11034  0.687500   0.727273      0\n",
      "11035  11035  0.684211   0.738095      0\n",
      "11036  11036  0.707317   0.714286      0\n",
      "11037  11037  0.756098   0.783784      0\n",
      "11038  11038  0.742857   0.761905      0\n",
      "11039  11039  0.720930   0.702128      0\n",
      "11040  11040  0.642857   0.566667      0\n",
      "11041  11041  0.631579   0.666667      0\n",
      "11042  11042  0.677419   0.708333      0\n",
      "11043  11043  0.689655   0.757576      0\n",
      "11044  11044  0.744681   0.738095      0\n",
      "11045  11045  0.666667   0.631579      0\n",
      "11046  11046  0.727273   0.700000      0\n",
      "11047  11047  0.717949   0.742857      0\n",
      "11048  11048  0.705882   0.700000      0\n",
      "11049  11049  0.780488   0.775000      0\n",
      "11050  11050  0.760870   0.763636      0\n",
      "11051  11051  0.571429   0.250000      0\n",
      "11052  11052  0.750000   0.764706      0\n",
      "11053  11053  0.735294   0.777778      0\n",
      "\n",
      "[21839 rows x 4 columns]\n"
     ]
    }
   ],
   "source": [
    "from sklearn.model_selection import train_test_split\n",
    "\n",
    "import os\n",
    "import pandas as pd\n",
    "\n",
    "# classifiers\n",
    "from sklearn.naive_bayes import GaussianNB\n",
    "from sklearn.ensemble import RandomForestClassifier\n",
    "\n",
    "from Test_Diversity import get_sentences\n",
    "\n",
    "labelled_real='labelled_real_text.csv'\n",
    "labelled_fake='labelled_fake_text.csv'\n",
    "\n",
    "# file_dir = os.path.dirname(os.path.realpath('__file__'))\n",
    "# filename = os.path.join(file_dir, filepath)\n",
    "# filename = os.path.abspath(os.path.realpath(filename))\n",
    "\n",
    "real_data = pd.read_csv(labelled_real)\n",
    "fake_data = pd.read_csv(labelled_fake)\n",
    "\n",
    "data = real_data.append(fake_data)\n",
    "print(data)\n",
    "\n",
    "y = data['label'].values\n"
   ]
  },
  {
   "cell_type": "code",
   "execution_count": 42,
   "metadata": {},
   "outputs": [
    {
     "name": "stdout",
     "output_type": "stream",
     "text": [
      "input dimensions: 21839 | output dimensions: 21839\n",
      "x_train dimensions: 19655 | y_train dimensions: 19655\n",
      "x_test dimensions: 2184 | y_test dimensions: 2184\n",
      "              precision    recall  f1-score   support\n",
      "\n",
      "           0       1.00      1.00      1.00      1156\n",
      "           1       1.00      1.00      1.00      1028\n",
      "\n",
      "   micro avg       1.00      1.00      1.00      2184\n",
      "   macro avg       1.00      1.00      1.00      2184\n",
      "weighted avg       1.00      1.00      1.00      2184\n",
      "\n",
      "1.0\n"
     ]
    },
    {
     "name": "stderr",
     "output_type": "stream",
     "text": [
      "/home/admin-u4610248/anaconda3/envs/ai-tf/lib/python3.6/site-packages/sklearn/ensemble/forest.py:246: FutureWarning: The default value of n_estimators will change from 10 in version 0.20 to 100 in 0.22.\n",
      "  \"10 in version 0.20 to 100 in 0.22.\", FutureWarning)\n"
     ]
    }
   ],
   "source": [
    "novs = data['novelty'].values\n",
    "divs = data['diversity'].values\n",
    "\n",
    "x = list()\n",
    "for ix, nov in enumerate(novs):\n",
    "    x.append([nov, divs[ix]])\n",
    "\n",
    "x_train, test, train_labels, test_labels = train_test_split(x, y, test_size = 0.10)\n",
    "\n",
    "print('input dimensions:', len(x), '|', 'output dimensions:', len(y))\n",
    "print('x_train dimensions:', len(x_train), '|', 'y_train dimensions:', len(train_labels))\n",
    "print('x_test dimensions:', len(test), '|', 'y_test dimensions:', len(test_labels)) \n",
    "\n",
    "# Initialize classifier\n",
    "rfc = RandomForestClassifier()\n",
    "\n",
    "# Train classifier\n",
    "model = rfc.fit(x_train, train_labels)\n",
    "\n",
    "# Make predictions\n",
    "preds = rfc.predict(test)\n",
    "\n",
    "# Evaluate model\n",
    "from sklearn.metrics import classification_report, accuracy_score\n",
    "print(classification_report(test_labels, preds))\n",
    "print(accuracy_score(test_labels, preds))"
   ]
  },
  {
   "cell_type": "code",
   "execution_count": 44,
   "metadata": {},
   "outputs": [
    {
     "name": "stdout",
     "output_type": "stream",
     "text": [
      "input dimensions: 21839 | output dimensions: 21839\n",
      "x_train dimensions: 19655 | y_train dimensions: 19655\n",
      "x_test dimensions: 2184 | y_test dimensions: 2184\n",
      "              precision    recall  f1-score   support\n",
      "\n",
      "           0       1.00      1.00      1.00      1063\n",
      "           1       1.00      1.00      1.00      1121\n",
      "\n",
      "   micro avg       1.00      1.00      1.00      2184\n",
      "   macro avg       1.00      1.00      1.00      2184\n",
      "weighted avg       1.00      1.00      1.00      2184\n",
      "\n",
      "0.9981684981684982\n"
     ]
    },
    {
     "name": "stderr",
     "output_type": "stream",
     "text": [
      "/home/admin-u4610248/anaconda3/envs/ai-tf/lib/python3.6/site-packages/sklearn/ensemble/forest.py:246: FutureWarning: The default value of n_estimators will change from 10 in version 0.20 to 100 in 0.22.\n",
      "  \"10 in version 0.20 to 100 in 0.22.\", FutureWarning)\n"
     ]
    }
   ],
   "source": [
    "novs = data['novelty'].values\n",
    "\n",
    "x = []\n",
    "for ix, nov in enumerate(novs):\n",
    "    x.append([nov])\n",
    "\n",
    "x_train, test, train_labels, test_labels = train_test_split(x, y, test_size = 0.10)\n",
    "\n",
    "print('input dimensions:', len(x), '|', 'output dimensions:', len(y))\n",
    "print('x_train dimensions:', len(x_train), '|', 'y_train dimensions:', len(train_labels))\n",
    "print('x_test dimensions:', len(test), '|', 'y_test dimensions:', len(test_labels)) \n",
    "\n",
    "# Initialize classifier\n",
    "rfc = RandomForestClassifier()\n",
    "\n",
    "# Train classifier\n",
    "model = rfc.fit(x_train, train_labels)\n",
    "\n",
    "# Make predictions\n",
    "preds = rfc.predict(test)\n",
    "\n",
    "# Evaluate model\n",
    "from sklearn.metrics import classification_report, accuracy_score\n",
    "print(classification_report(test_labels, preds))\n",
    "print(accuracy_score(test_labels, preds))\n",
    "\n"
   ]
  },
  {
   "cell_type": "code",
   "execution_count": 40,
   "metadata": {},
   "outputs": [
    {
     "name": "stdout",
     "output_type": "stream",
     "text": [
      "              precision    recall  f1-score   support\n",
      "\n",
      "           0       1.00      1.00      1.00      1078\n",
      "           1       1.00      1.00      1.00      1106\n",
      "\n",
      "   micro avg       1.00      1.00      1.00      2184\n",
      "   macro avg       1.00      1.00      1.00      2184\n",
      "weighted avg       1.00      1.00      1.00      2184\n",
      "\n",
      "0.9995421245421245\n"
     ]
    },
    {
     "name": "stderr",
     "output_type": "stream",
     "text": [
      "/home/admin-u4610248/anaconda3/envs/ai-tf/lib/python3.6/site-packages/sklearn/ensemble/forest.py:246: FutureWarning: The default value of n_estimators will change from 10 in version 0.20 to 100 in 0.22.\n",
      "  \"10 in version 0.20 to 100 in 0.22.\", FutureWarning)\n"
     ]
    }
   ],
   "source": [
    "divs = data['diversity'].values\n",
    "\n",
    "x = []\n",
    "for ix, nov in enumerate(novs):\n",
    "    x.append([nov])\n",
    "\n",
    "x_train, test, train_labels, test_labels = train_test_split(x, y, test_size = 0.10)\n",
    "\n",
    "print('input dimensions:', len(x), '|', 'output dimensions:', len(y))\n",
    "print('x_train dimensions:', len(x_train), '|', 'y_train dimensions:', len(train_labels))\n",
    "print('x_test dimensions:', len(test), '|', 'y_test dimensions:', len(test_labels)) \n",
    "\n",
    "# Initialize classifier\n",
    "rfc = RandomForestClassifier()\n",
    "\n",
    "# Train classifier\n",
    "model = rfc.fit(x_train, train_labels)\n",
    "\n",
    "# Make predictions\n",
    "preds = rfc.predict(test)\n",
    "\n",
    "# Evaluate model\n",
    "from sklearn.metrics import classification_report, accuracy_score\n",
    "print(classification_report(test_labels, preds))\n",
    "print(accuracy_score(test_labels, preds))\n"
   ]
  },
  {
   "cell_type": "code",
   "execution_count": null,
   "metadata": {},
   "outputs": [],
   "source": []
  }
 ],
 "metadata": {
  "kernelspec": {
   "display_name": "Python 3",
   "language": "python",
   "name": "python3"
  },
  "language_info": {
   "codemirror_mode": {
    "name": "ipython",
    "version": 3
   },
   "file_extension": ".py",
   "mimetype": "text/x-python",
   "name": "python",
   "nbconvert_exporter": "python",
   "pygments_lexer": "ipython3",
   "version": "3.6.8"
  }
 },
 "nbformat": 4,
 "nbformat_minor": 2
}
