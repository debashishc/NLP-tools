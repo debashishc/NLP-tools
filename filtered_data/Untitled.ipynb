{
 "cells": [
  {
   "cell_type": "code",
   "execution_count": 7,
   "metadata": {},
   "outputs": [],
   "source": [
    "import sys\n",
    "sys.path.append(\"../\")\n",
    "\n",
    "from TextLabeller import get_sentences\n",
    "\n",
    "# Filter to extract only sentence lengths of at least\n",
    "\n",
    "ORIGINAL = get_sentences(\"../data/emnlp_news.txt\")\n",
    "TEST = get_sentences(\"../data/test_emnlp.txt\")\n",
    "FAKE = get_sentences(\"../data/generated_text2.txt\")\n",
    "\n",
    "def filter_20_or_more(sentences):\n",
    "    return list(filter(lambda x : len(x.split()) >= 20, sentences))"
   ]
  },
  {
   "cell_type": "code",
   "execution_count": 11,
   "metadata": {},
   "outputs": [
    {
     "name": "stdout",
     "output_type": "stream",
     "text": [
      "1897\n",
      "['`` the racism can and enjoy with the players , but the war - the price , whose wife have taken a very public office of cleveland .', 'the time followed or 15 years that a dialogue this year was possibly easy with a candidate granted up before how he was in a level of online .', \"ryan ' s syrian civil war has been personally likely it had when that bond and americans are suffering in scotland and entered investment , which would be give rangers with order , and uk say that the united states should \\na hard - mail in afghan politics and hit the media in based asking what people have to be able to follow the second beloved team and does not choose that their middle risk program is what they do but much others , '' she added .\", 'but the lead and i hope that now is sure about her when it had to explore the ball comes in poverty and , no matter how they can use .', \"the russians and students and help like an terror campaign , that i ' m doing just a steady chance they ' ll be doing a case .\", \"we ' re studying by manchester city that i don ' t know this was certain people rarely believe in mind .\", 'after the bbc have would forever continue a chance to cut victims , above when 2006 it ii continued .', 'turkey has an update to be potential good - in the value of legal drivers , france or have been jailed , leading to drugs with me .', 'if they stay just the sort before seems to make everybody away but is in practice position and he was campaigning `` that may not be hot again .', '`` there is in her feeling in individual labour `` are that that [ police ) like some and our national side is not great .', \"so much `` `` beautiful on behalf of the fundamental dates of our interests we do , especially , that was likely on arsenal , '' russia said it said china .\", \"`` those think i think something that i think we ' ll continue without best continued 18th strong of , '' fisher recalled .\", \"`` , i where knows that they ' re helping people it will be out for the best when you just have been trying to go .\", \"so we present a lot of a lot of squad and let ' later had much more sophisticated it is very , '' he said .\", \"the continue until one player that ' s higher than any year - , and this outcome has identified illness to $ 200 ) at february .\"]\n"
     ]
    }
   ],
   "source": [
    "new_fake = filter_20_or_more(FAKE)\n",
    "print(len(FAKE) - len(new_fake))\n",
    "\n",
    "print(new_fake[:15])"
   ]
  },
  {
   "cell_type": "code",
   "execution_count": 12,
   "metadata": {},
   "outputs": [],
   "source": [
    "from TestDiversity import *"
   ]
  },
  {
   "cell_type": "code",
   "execution_count": 14,
   "metadata": {},
   "outputs": [
    {
     "name": "stderr",
     "output_type": "stream",
     "text": [
      "Generated sentences:   0%|          | 0/100 [00:00<?, ?it/s]"
     ]
    },
    {
     "name": "stdout",
     "output_type": "stream",
     "text": [
      "Example corpus sentence:  `` the racism can and enjoy with the players , but the war - the price , whose wife have taken a very public office of cleveland .\n",
      "Example test sentence:  `` the racism can and enjoy with the players , but the war - the price , whose wife have taken a very public office of cleveland .\n"
     ]
    },
    {
     "name": "stderr",
     "output_type": "stream",
     "text": [
      "Generated sentences: 100%|██████████| 100/100 [05:13<00:00,  3.03s/it]"
     ]
    },
    {
     "name": "stdout",
     "output_type": "stream",
     "text": [
      "Min diversity: 0.12658227848101267\n",
      "Sentence with min diversity: the federal reserve spokesman said words that his second trust by turkey called illegal intelligence intelligence officials told me he knew in the interview .\n"
     ]
    },
    {
     "name": "stderr",
     "output_type": "stream",
     "text": [
      "\n"
     ]
    }
   ],
   "source": [
    "find_plot_diversities(new_fake[:100], new_fake,\n",
    "                                diversity_file='lev_diversities_fake_15.txt', metric='levenshtein')"
   ]
  },
  {
   "cell_type": "code",
   "execution_count": null,
   "metadata": {},
   "outputs": [],
   "source": []
  }
 ],
 "metadata": {
  "kernelspec": {
   "display_name": "Python 3",
   "language": "python",
   "name": "python3"
  },
  "language_info": {
   "codemirror_mode": {
    "name": "ipython",
    "version": 3
   },
   "file_extension": ".py",
   "mimetype": "text/x-python",
   "name": "python",
   "nbconvert_exporter": "python",
   "pygments_lexer": "ipython3",
   "version": "3.6.4"
  }
 },
 "nbformat": 4,
 "nbformat_minor": 2
}
