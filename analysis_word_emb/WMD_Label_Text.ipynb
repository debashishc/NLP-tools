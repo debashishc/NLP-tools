{
 "cells": [
  {
   "cell_type": "code",
   "execution_count": 2,
   "metadata": {},
   "outputs": [],
   "source": [
    "import os\n",
    "import csv\n",
    "import re\n",
    "from nltk import sent_tokenize\n",
    "\n",
    "import sys\n",
    "sys.path.insert(0, '../')\n",
    "\n",
    "from TextLabeller import *\n",
    "from utils import read_list, normal_distribution, get_scatter_plot, normalize, inverse_distances, normed_dists_to_sims"
   ]
  },
  {
   "cell_type": "code",
   "execution_count": 4,
   "metadata": {},
   "outputs": [],
   "source": [
    "DATA_FILE = \"../data/emnlp_news.txt\"\n",
    "TEST_FILE = \"../data/test_emnlp.txt\"\n",
    "GENERATED_FILE = \"../data/generated_text2.txt\"\n",
    "METRIC = 'wmd'\n",
    "\n",
    "# save these sentences and novelties to save computation time\n",
    "# corpus_sentences = get_sentences(DATA_FILE)  # 304222 sentences\n",
    "real_sentences = get_sentences(TEST_FILE) # 10785 sentences\n",
    "fake_sentences = get_sentences(GENERATED_FILE)  # 11055 sentences\n",
    "\n",
    "# Read the metrics results from the file\n",
    "wmd_real_diversities_distances = read_list(f'{METRIC}_diversities_real.txt')\n",
    "wmd_real_novelties_distances = read_list(f'{METRIC}_novelties_real.txt')\n",
    "wmd_fake_diversities_distances = read_list(f'{METRIC}_diversities_fake2.txt')\n",
    "wmd_fake_novelties_distances = read_list(f'{METRIC}_novelties_fake2.txt')\n",
    "\n",
    "# Transform distances to similarities\n",
    "wmd_normed_real_diversities = normed_dists_to_sims(normalize(wmd_real_diversities_distances))\n",
    "wmd_normed_real_novelties = normed_dists_to_sims(normalize(wmd_real_novelties_distances))\n",
    "wmd_normed_fake_diversities = normed_dists_to_sims(normalize(wmd_fake_diversities_distances))\n",
    "wmd_normed_fake_novelties = normed_dists_to_sims(normalize(wmd_fake_novelties_distances))\n",
    "\n",
    "assert(len(fake_sentences) == len(wmd_normed_fake_diversities) == len(wmd_normed_fake_novelties))\n",
    "assert(len(real_sentences) == len(wmd_normed_real_diversities) == len(wmd_normed_real_novelties))\n",
    "\n",
    "real_dict = create_labelled_dictionary(real_sentences, wmd_normed_real_novelties, wmd_normed_real_diversities, 1)\n",
    "write_to_csv(real_dict, filename=f'{METRIC}_labelled_real_text.csv')\n",
    "\n",
    "# label fake text with 0\n",
    "fake_dict = create_labelled_dictionary(fake_sentences, wmd_normed_fake_novelties, wmd_normed_fake_diversities, 0)\n",
    "write_to_csv(fake_dict, filename=f'{METRIC}_labelled_fake_text.csv')"
   ]
  },
  {
   "cell_type": "code",
   "execution_count": 11,
   "metadata": {},
   "outputs": [],
   "source": []
  },
  {
   "cell_type": "code",
   "execution_count": null,
   "metadata": {},
   "outputs": [],
   "source": []
  },
  {
   "cell_type": "code",
   "execution_count": 21,
   "metadata": {},
   "outputs": [],
   "source": []
  },
  {
   "cell_type": "code",
   "execution_count": null,
   "metadata": {},
   "outputs": [],
   "source": []
  }
 ],
 "metadata": {
  "kernelspec": {
   "display_name": "Python 3",
   "language": "python",
   "name": "python3"
  },
  "language_info": {
   "codemirror_mode": {
    "name": "ipython",
    "version": 3
   },
   "file_extension": ".py",
   "mimetype": "text/x-python",
   "name": "python",
   "nbconvert_exporter": "python",
   "pygments_lexer": "ipython3",
   "version": "3.6.4"
  }
 },
 "nbformat": 4,
 "nbformat_minor": 2
}
